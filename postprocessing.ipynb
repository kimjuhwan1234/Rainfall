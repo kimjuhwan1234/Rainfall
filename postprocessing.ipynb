{
 "cells": [
  {
   "cell_type": "code",
   "outputs": [],
   "source": [
    "import os\n",
    "import warnings\n",
    "from joblib import load\n",
    "from utils.plot import *\n",
    "from utils.scaler import *\n",
    "from sklearn.metrics import *\n",
    "from matplotlib import pyplot as plt\n",
    "from IPython.core.interactiveshell import InteractiveShell"
   ],
   "metadata": {
    "collapsed": false,
    "ExecuteTime": {
     "end_time": "2024-06-24T08:53:33.485421900Z",
     "start_time": "2024-06-24T08:53:33.481414700Z"
    }
   },
   "id": "5a7365216f084516",
   "execution_count": 376
  },
  {
   "cell_type": "code",
   "outputs": [],
   "source": [
    "plt.rc('font', family='GULIM')\n",
    "warnings.filterwarnings(action='ignore')\n",
    "InteractiveShell.ast_node_interactivity = \"all\""
   ],
   "metadata": {
    "collapsed": false,
    "ExecuteTime": {
     "end_time": "2024-06-24T08:53:33.673852900Z",
     "start_time": "2024-06-24T08:53:33.667566700Z"
    }
   },
   "id": "d72017008e119bf8",
   "execution_count": 377
  },
  {
   "cell_type": "code",
   "outputs": [],
   "source": [
    "# X_test = pd.read_csv('Database/test/X_self_test_norm.csv', index_col=0)\n",
    "X_test = pd.read_csv('Database/test/X_real_test_norm.csv', index_col=0)\n",
    "y_test = pd.read_csv('Database/test/y_self_test.csv', index_col=0)\n",
    "target_scaler = load('Database/target_scaler.joblib')\n",
    "y_test = pd.DataFrame(target_scaler.inverse_transform(y_test), index=y_test.index)"
   ],
   "metadata": {
    "collapsed": false,
    "ExecuteTime": {
     "end_time": "2024-06-24T08:55:10.974489100Z",
     "start_time": "2024-06-24T08:55:10.420198100Z"
    }
   },
   "id": "7c1006d94f65567c",
   "execution_count": 388
  },
  {
   "cell_type": "code",
   "outputs": [],
   "source": [
    "y_test = inverse_boxcox(y_test, -0.4431146771093272) - 0.000001\n",
    "# y_test=pd.DataFrame(np.exp(y_test)-1)"
   ],
   "metadata": {
    "collapsed": false,
    "ExecuteTime": {
     "end_time": "2024-06-24T08:55:10.983051800Z",
     "start_time": "2024-06-24T08:55:10.975991300Z"
    }
   },
   "id": "ab21fc8dac03d043",
   "execution_count": 389
  },
  {
   "cell_type": "markdown",
   "source": [
    "# Best-model dict 저장"
   ],
   "metadata": {
    "collapsed": false
   },
   "id": "1bfa8079036ea622"
  },
  {
   "cell_type": "code",
   "outputs": [],
   "source": [
    "STN_list = ['STN001', 'STN002', 'STN003', 'STN004', 'STN005', 'STN006', 'STN007', 'STN008', 'STN009', 'STN010',\n",
    "            'STN011', 'STN012', 'STN013', 'STN014', 'STN015', 'STN016', 'STN017', 'STN018', 'STN019', 'STN020']\n",
    "\n",
    "GMM_list = [f'GMM{i}' for i in range(15)]\n",
    "\n",
    "dt_files = sorted(filename for filename in os.listdir('File/DT') if filename.endswith('.pkl'))\n",
    "lgb_files = sorted(filename for filename in os.listdir('File/LGBM') if filename.endswith('.pkl'))\n",
    "xgb_files = sorted(filename for filename in os.listdir('File/XGB') if filename.endswith('.pkl'))\n",
    "cat_files = sorted(filename for filename in os.listdir('File/CAT') if filename.endswith('.pkl'))\n",
    "\n",
    "best_dt_dict = {}\n",
    "best_lgb_dict = {}\n",
    "best_xgb_dict = {}\n",
    "# best_cat_dict = {}\n",
    "\n",
    "for i, STN in enumerate(GMM_list):\n",
    "    best_dt_dict[STN] = load(os.path.join('File/DT', dt_files[i]))\n",
    "    best_lgb_dict[STN] = load(os.path.join('File/LGBM', lgb_files[i]))\n",
    "    best_xgb_dict[STN] = load(os.path.join('File/XGB', xgb_files[i]))\n",
    "    # best_cat_dict[STN] = load(os.path.join('File/CAT', cat_files[i]))"
   ],
   "metadata": {
    "collapsed": false,
    "ExecuteTime": {
     "end_time": "2024-06-24T08:55:11.588670Z",
     "start_time": "2024-06-24T08:55:11.173363Z"
    }
   },
   "id": "3f33c9695b16819f",
   "execution_count": 390
  },
  {
   "cell_type": "markdown",
   "source": [
    "# BoxCox 역변환 & 예측값 dict 저장"
   ],
   "metadata": {
    "collapsed": false
   },
   "id": "462eb93402957d8b"
  },
  {
   "cell_type": "markdown",
   "source": [
    "## 표준화 역변환"
   ],
   "metadata": {
    "collapsed": false
   },
   "id": "2bbd443463be72d3"
  },
  {
   "cell_type": "code",
   "outputs": [],
   "source": [
    "pred_dt_dict = {}\n",
    "pred_lgb_dict = {}\n",
    "pred_xgb_dict = {}\n",
    "# pred_cat_dict = {}\n",
    "\n",
    "for i, STN in enumerate(GMM_list):\n",
    "    pred_dt_dict[STN] = pd.DataFrame(target_scaler.inverse_transform(best_dt_dict[STN].predict(X_test).reshape(-1, 1)))\n",
    "    pred_lgb_dict[STN] = pd.DataFrame(target_scaler.inverse_transform(best_dt_dict[STN].predict(X_test).reshape(-1, 1)))\n",
    "    pred_xgb_dict[STN] = pd.DataFrame(target_scaler.inverse_transform(best_dt_dict[STN].predict(X_test).reshape(-1, 1)))\n",
    "    # pred_cat_dict[STN] = pd.DataFrame(target_scaler.inverse_transform(best_dt_dict[STN].predict(X_test).reshape(-1, 1)))"
   ],
   "metadata": {
    "collapsed": false,
    "ExecuteTime": {
     "end_time": "2024-06-24T08:55:13.881049800Z",
     "start_time": "2024-06-24T08:55:11.788685500Z"
    }
   },
   "id": "201af9f0fed2e690",
   "execution_count": 391
  },
  {
   "cell_type": "markdown",
   "source": [
    "## BoxCox or log 역변환"
   ],
   "metadata": {
    "collapsed": false
   },
   "id": "79d3bb83ada1b6e1"
  },
  {
   "cell_type": "code",
   "outputs": [],
   "source": [
    "# BoxCox 역변환\n",
    "for i, STN in enumerate(GMM_list):\n",
    "    pred_dt_dict[STN] = inverse_boxcox(pd.DataFrame(pred_dt_dict[STN]), -0.4431146771093272) - 0.000001\n",
    "    pred_lgb_dict[STN] = inverse_boxcox(pd.DataFrame(pred_lgb_dict[STN]), -0.4431146771093272) - 0.000001\n",
    "    pred_xgb_dict[STN] = inverse_boxcox(pd.DataFrame(pred_xgb_dict[STN]), -0.4431146771093272) - 0.000001\n",
    "    # pred_cat_dict[STN] = inverse_boxcox(pd.DataFrame(pred_cat_dict[STN]), -0.4431146771093272) - 0.000001\n",
    "\n",
    "# log 역변환\n",
    "# for i, STN in enumerate(STN_list):\n",
    "#     pred_dt_dict[STN] = pd.DataFrame(np.exp(pred_dt_dict[STN])-1)\n",
    "#     pred_lgb_dict[STN] = pd.DataFrame(np.exp(pred_lgb_dict[STN])-1)\n",
    "#     pred_xgb_dict[STN] = pd.DataFrame(np.exp(pred_xgb_dict[STN])-1)\n",
    "#     pred_cat_dict[STN] = pd.DataFrame(np.exp(pred_cat_dict[STN])-1)\n",
    "\n",
    "# 아무것도 안했을 때\n",
    "# for i, STN in enumerate(STN_list):\n",
    "#     pred_dt_dict[STN] = pd.DataFrame(best_dt_dict[STN].predict(X_test))\n",
    "#     pred_lgb_dict[STN] = pd.DataFrame(best_lgb_dict[STN].predict(X_test))\n",
    "#     pred_xgb_dict[STN] = pd.DataFrame(best_xgb_dict[STN].predict(X_test))\n",
    "#     pred_cat_dict[STN] = pd.DataFrame(best_cat_dict[STN].predict(X_test))"
   ],
   "metadata": {
    "collapsed": false,
    "ExecuteTime": {
     "end_time": "2024-06-24T08:45:26.240225400Z",
     "start_time": "2024-06-24T08:45:26.117805700Z"
    }
   },
   "id": "b4b4fa74771e9834",
   "execution_count": 355
  },
  {
   "cell_type": "markdown",
   "source": [
    "# 60개 싱글모델 예측값 DataFrame 저장"
   ],
   "metadata": {
    "collapsed": false
   },
   "id": "e278cbad0fd9c9e2"
  },
  {
   "cell_type": "code",
   "outputs": [],
   "source": [
    "prediction_df = pd.DataFrame()\n",
    "for i, STN in enumerate(GMM_list):\n",
    "    prediction_df = pd.concat(\n",
    "        [prediction_df,\n",
    "         pd.DataFrame(pred_dt_dict[STN].values, columns=[f'DT_{STN}']),\n",
    "         pd.DataFrame(pred_lgb_dict[STN].values, columns=[f'lgb_{STN}']),\n",
    "         pd.DataFrame(pred_xgb_dict[STN].values, columns=[f'xgb_{STN}']),\n",
    "         # pd.DataFrame(pred_cat_dict[STN].values, columns=[f'cat_{STN}'])\n",
    "         ], axis=1)\n",
    "\n",
    "prediction_df.index = X_test.index"
   ],
   "metadata": {
    "collapsed": false,
    "ExecuteTime": {
     "end_time": "2024-06-24T08:55:17.015887900Z",
     "start_time": "2024-06-24T08:55:16.806904600Z"
    }
   },
   "id": "72ee1d3c4292bb75",
   "execution_count": 392
  },
  {
   "cell_type": "markdown",
   "source": [
    "# 60개 싱글모델 metric DataFrame 저장"
   ],
   "metadata": {
    "collapsed": false
   },
   "id": "590d1c88bbe3aee3"
  },
  {
   "cell_type": "code",
   "outputs": [],
   "source": [
    "metric_df = pd.DataFrame(columns=['R2', 'RMSE', 'MAE', 'MAPE'])\n",
    "for i, STN in enumerate(GMM_list):\n",
    "    metric_df = pd.concat(\n",
    "        [metric_df, pd.DataFrame([r2_score(y_test.values, pred_dt_dict[STN]),\n",
    "                                  root_mean_squared_error(y_test.values, pred_dt_dict[STN]),\n",
    "                                  mean_absolute_error(y_test.values, pred_dt_dict[STN]),\n",
    "                                  mean_absolute_percentage_error(y_test.values, pred_dt_dict[STN])],\n",
    "                                 index=metric_df.columns, columns=[f'DT_{STN}']).T], axis=0)\n",
    "\n",
    "    metric_df = pd.concat(\n",
    "        [metric_df, pd.DataFrame([r2_score(y_test.values, pred_lgb_dict[STN]),\n",
    "                                  root_mean_squared_error(y_test.values, pred_lgb_dict[STN]),\n",
    "                                  mean_absolute_error(y_test.values, pred_lgb_dict[STN]),\n",
    "                                  mean_absolute_percentage_error(y_test.values, pred_lgb_dict[STN])],\n",
    "                                 index=metric_df.columns, columns=[f'LGB_{STN}']).T], axis=0)\n",
    "\n",
    "    metric_df = pd.concat(\n",
    "        [metric_df, pd.DataFrame([r2_score(y_test.values, pred_xgb_dict[STN]),\n",
    "                                  root_mean_squared_error(y_test.values, pred_xgb_dict[STN]),\n",
    "                                  mean_absolute_error(y_test.values, pred_xgb_dict[STN]),\n",
    "                                  mean_absolute_percentage_error(y_test.values, pred_xgb_dict[STN])],\n",
    "                                 index=metric_df.columns, columns=[f'XGB_{STN}']).T], axis=0)\n",
    "\n",
    "    # metric_df = pd.concat(\n",
    "    #     [metric_df, pd.DataFrame([r2_score(y_test.values, pred_cat_dict[STN]),\n",
    "    #                               root_mean_squared_error(y_test.values, pred_cat_dict[STN]),\n",
    "    #                               mean_absolute_error(y_test.values, pred_cat_dict[STN]),\n",
    "    #                               mean_absolute_percentage_error(y_test.values, pred_cat_dict[STN])],\n",
    "    #                              index=metric_df.columns, columns=[f'CAT_{STN}']).T], axis=0)"
   ],
   "metadata": {
    "collapsed": false,
    "ExecuteTime": {
     "end_time": "2024-06-24T08:53:42.725605800Z",
     "start_time": "2024-06-24T08:53:42.157677700Z"
    }
   },
   "id": "f51c1617f0eaa62",
   "execution_count": 382
  },
  {
   "cell_type": "markdown",
   "source": [
    "# Deep Learning 단일모델 시험"
   ],
   "metadata": {
    "collapsed": false
   },
   "id": "c523fc199d3c551b"
  },
  {
   "cell_type": "code",
   "outputs": [],
   "source": [
    "# from Module.model import *\n",
    "# \n",
    "# backbone = MLP(input_size=57, hidden_size=512, output_size=1).to('cuda')\n",
    "# backbone.load_state_dict(torch.load('Weight/STN001.pth'))\n",
    "# backbone.eval()\n",
    "# output = backbone(torch.tensor(X_test.values).to('cuda'))\n",
    "# \n",
    "# output = output.cpu().detach().numpy()\n",
    "# output = target_scaler.inverse_transform(output)\n",
    "# output = inverse_boxcox(output, -0.4431146771093272) - 0.000001\n",
    "# output = np.exp(output)-1\n",
    "# prediction_df2 = pd.DataFrame(output, index=X_test.index)"
   ],
   "metadata": {
    "collapsed": false,
    "ExecuteTime": {
     "end_time": "2024-06-24T08:53:43.367952100Z",
     "start_time": "2024-06-24T08:53:43.363439700Z"
    }
   },
   "id": "8def9605e61b5329",
   "execution_count": 383
  },
  {
   "cell_type": "markdown",
   "source": [
    "# Fuzzy Membership"
   ],
   "metadata": {
    "collapsed": false
   },
   "id": "64506d3ebd9060e0"
  },
  {
   "cell_type": "code",
   "outputs": [],
   "source": [
    "def fuzzy_membership(prediction_df, gt_df):\n",
    "    total_df = pd.concat([prediction_df, gt_df], axis=1)\n",
    "    errors = np.array(\n",
    "        [np.abs((gt - pred)) for gt, pred in zip(total_df.iloc[:, -1].values, total_df.iloc[:, :-1].values)])\n",
    "    errors_df = pd.DataFrame(errors, index=total_df.index, columns=prediction_df.columns)\n",
    "    std_df = errors_df.apply(lambda col: np.std(col))\n",
    "    membership_df = errors_df.apply(lambda x: np.exp(-x ** 2 / (2 * std_df[x.name] ** 2)), axis=0)\n",
    "    fixed_weights = membership_df.mean(axis=0)\n",
    "\n",
    "    ensemble_pred = np.average(prediction_df, axis=1, weights=membership_df)\n",
    "    ensemble_pred_df = pd.DataFrame(ensemble_pred, columns=['Prediction'], index=prediction_df.index)\n",
    "\n",
    "    return ensemble_pred_df, fixed_weights"
   ],
   "metadata": {
    "collapsed": false,
    "ExecuteTime": {
     "end_time": "2024-06-24T08:53:44.235438500Z",
     "start_time": "2024-06-24T08:53:44.232929800Z"
    }
   },
   "id": "f6356831b6d7d0c2",
   "execution_count": 384
  },
  {
   "cell_type": "code",
   "outputs": [],
   "source": [
    "final_pred_df, membership_df = fuzzy_membership(prediction_df, y_test)\n",
    "# membership_df.to_csv('Database/fuzzy_membership.csv')"
   ],
   "metadata": {
    "collapsed": false,
    "ExecuteTime": {
     "end_time": "2024-06-24T08:44:02.178769700Z",
     "start_time": "2024-06-24T08:44:01.099729400Z"
    }
   },
   "id": "f17be36245a29c50",
   "execution_count": 341
  },
  {
   "cell_type": "markdown",
   "source": [
    "# CSI 계산"
   ],
   "metadata": {
    "collapsed": false
   },
   "id": "fa6606581368331b"
  },
  {
   "cell_type": "code",
   "outputs": [],
   "source": [
    "pred_rating_df = prediction_df.applymap(lambda x: map_values(x))\n",
    "truth_rating_df = pd.DataFrame(y_test).applymap(lambda x: map_values(x))\n",
    "data = pd.concat([pred_rating_df.iloc[:, 0], truth_rating_df], axis=1)"
   ],
   "metadata": {
    "collapsed": false,
    "ExecuteTime": {
     "end_time": "2024-06-24T08:53:58.555763300Z",
     "start_time": "2024-06-24T08:53:55.313836500Z"
    }
   },
   "id": "7e524436a93d687b",
   "execution_count": 385
  },
  {
   "cell_type": "code",
   "outputs": [],
   "source": [
    "mapping = {\n",
    "    0: \"<0.1\",\n",
    "    1: \"0.1<=X<0.2\",\n",
    "    2: \"0.2<=X<0.5\",\n",
    "    3: \"0.5<=X<1\",\n",
    "    4: \"1<=X<2\",\n",
    "    5: \"2<=X<5\",\n",
    "    6: \"5<=X<10\",\n",
    "    7: \"10<=X<20\",\n",
    "    8: \"20<=X<30\",\n",
    "    9: \"X>=30\"\n",
    "}\n",
    "\n",
    "data['predicted'] = data.iloc[:, 0].map(mapping)\n",
    "data['observed'] = data.iloc[:, 1].map(mapping)\n",
    "\n",
    "csi_categories = [\"<0.1\", \"0.1<=X<0.2\", \"0.2<=X<0.5\", \"0.5<=X<1\", \"1<=X<2\", \"2<=X<5\", \"5<=X<10\", \"10<=X<20\", \"20<=X<30\",\n",
    "                  \"X>=30\"]\n",
    "csi_table = pd.DataFrame(0, index=csi_categories, columns=csi_categories)\n",
    "\n",
    "for index, row in data.iterrows():\n",
    "    observed = row['observed']\n",
    "    predicted = row['predicted']\n",
    "    csi_table.at[observed, predicted] += 1"
   ],
   "metadata": {
    "collapsed": false,
    "ExecuteTime": {
     "end_time": "2024-06-24T08:54:13.672236100Z",
     "start_time": "2024-06-24T08:53:58.964424800Z"
    }
   },
   "id": "ad7389a2709eee08",
   "execution_count": 386
  },
  {
   "cell_type": "code",
   "outputs": [
    {
     "data": {
      "text/plain": "0.03708771072562912"
     },
     "execution_count": 387,
     "metadata": {},
     "output_type": "execute_result"
    }
   ],
   "source": [
    "cal_CSI(csi_table)"
   ],
   "metadata": {
    "collapsed": false,
    "ExecuteTime": {
     "end_time": "2024-06-24T08:54:13.683706900Z",
     "start_time": "2024-06-24T08:54:13.674267700Z"
    }
   },
   "id": "9b4c5e1fffd18ae",
   "execution_count": 387
  },
  {
   "cell_type": "markdown",
   "source": [
    "# Real-test prediction 저장"
   ],
   "metadata": {
    "collapsed": false
   },
   "id": "bd3659d0d5783184"
  },
  {
   "cell_type": "code",
   "outputs": [],
   "source": [
    "membership_df = pd.read_csv('Database/fuzzy_membership.csv', index_col=0)\n",
    "ensemble_pred = np.average(prediction_df, axis=1, weights=membership_df.values.flatten())\n",
    "final_pred_df = pd.DataFrame(ensemble_pred, columns=['Prediction'], index=prediction_df.index)\n",
    "pred_rating_df = final_pred_df.applymap(lambda x: map_values(x))"
   ],
   "metadata": {
    "collapsed": false,
    "ExecuteTime": {
     "end_time": "2024-06-24T08:51:48.494173100Z",
     "start_time": "2024-06-24T08:51:48.409890900Z"
    }
   },
   "id": "7bc534efe6b8ad3",
   "execution_count": 369
  },
  {
   "cell_type": "code",
   "outputs": [
    {
     "ename": "KeyError",
     "evalue": "'Prediction'",
     "output_type": "error",
     "traceback": [
      "\u001B[1;31m---------------------------------------------------------------------------\u001B[0m",
      "\u001B[1;31mKeyError\u001B[0m                                  Traceback (most recent call last)",
      "File \u001B[1;32m~\\anaconda3\\envs\\Rainfall\\Lib\\site-packages\\pandas\\core\\indexes\\base.py:3805\u001B[0m, in \u001B[0;36mIndex.get_loc\u001B[1;34m(self, key)\u001B[0m\n\u001B[0;32m   3804\u001B[0m \u001B[38;5;28;01mtry\u001B[39;00m:\n\u001B[1;32m-> 3805\u001B[0m     \u001B[38;5;28;01mreturn\u001B[39;00m \u001B[38;5;28mself\u001B[39m\u001B[38;5;241m.\u001B[39m_engine\u001B[38;5;241m.\u001B[39mget_loc(casted_key)\n\u001B[0;32m   3806\u001B[0m \u001B[38;5;28;01mexcept\u001B[39;00m \u001B[38;5;167;01mKeyError\u001B[39;00m \u001B[38;5;28;01mas\u001B[39;00m err:\n",
      "File \u001B[1;32mindex.pyx:167\u001B[0m, in \u001B[0;36mpandas._libs.index.IndexEngine.get_loc\u001B[1;34m()\u001B[0m\n",
      "File \u001B[1;32mindex.pyx:196\u001B[0m, in \u001B[0;36mpandas._libs.index.IndexEngine.get_loc\u001B[1;34m()\u001B[0m\n",
      "File \u001B[1;32mpandas\\\\_libs\\\\hashtable_class_helper.pxi:7081\u001B[0m, in \u001B[0;36mpandas._libs.hashtable.PyObjectHashTable.get_item\u001B[1;34m()\u001B[0m\n",
      "File \u001B[1;32mpandas\\\\_libs\\\\hashtable_class_helper.pxi:7089\u001B[0m, in \u001B[0;36mpandas._libs.hashtable.PyObjectHashTable.get_item\u001B[1;34m()\u001B[0m\n",
      "\u001B[1;31mKeyError\u001B[0m: 'Prediction'",
      "\nThe above exception was the direct cause of the following exception:\n",
      "\u001B[1;31mKeyError\u001B[0m                                  Traceback (most recent call last)",
      "Cell \u001B[1;32mIn[395], line 2\u001B[0m\n\u001B[0;32m      1\u001B[0m submssion_df \u001B[38;5;241m=\u001B[39m pd\u001B[38;5;241m.\u001B[39mread_csv(\u001B[38;5;124m'\u001B[39m\u001B[38;5;124mDatabase/rainfall_test.csv\u001B[39m\u001B[38;5;124m'\u001B[39m)\n\u001B[1;32m----> 2\u001B[0m submssion_df\u001B[38;5;241m.\u001B[39mloc[pred_rating_df\u001B[38;5;241m.\u001B[39mindex, \u001B[38;5;124m'\u001B[39m\u001B[38;5;124mrainfall_test.class_interval\u001B[39m\u001B[38;5;124m'\u001B[39m] \u001B[38;5;241m=\u001B[39m pred_rating_df[\u001B[38;5;124m'\u001B[39m\u001B[38;5;124mPrediction\u001B[39m\u001B[38;5;124m'\u001B[39m]\n",
      "File \u001B[1;32m~\\anaconda3\\envs\\Rainfall\\Lib\\site-packages\\pandas\\core\\frame.py:4102\u001B[0m, in \u001B[0;36mDataFrame.__getitem__\u001B[1;34m(self, key)\u001B[0m\n\u001B[0;32m   4100\u001B[0m \u001B[38;5;28;01mif\u001B[39;00m \u001B[38;5;28mself\u001B[39m\u001B[38;5;241m.\u001B[39mcolumns\u001B[38;5;241m.\u001B[39mnlevels \u001B[38;5;241m>\u001B[39m \u001B[38;5;241m1\u001B[39m:\n\u001B[0;32m   4101\u001B[0m     \u001B[38;5;28;01mreturn\u001B[39;00m \u001B[38;5;28mself\u001B[39m\u001B[38;5;241m.\u001B[39m_getitem_multilevel(key)\n\u001B[1;32m-> 4102\u001B[0m indexer \u001B[38;5;241m=\u001B[39m \u001B[38;5;28mself\u001B[39m\u001B[38;5;241m.\u001B[39mcolumns\u001B[38;5;241m.\u001B[39mget_loc(key)\n\u001B[0;32m   4103\u001B[0m \u001B[38;5;28;01mif\u001B[39;00m is_integer(indexer):\n\u001B[0;32m   4104\u001B[0m     indexer \u001B[38;5;241m=\u001B[39m [indexer]\n",
      "File \u001B[1;32m~\\anaconda3\\envs\\Rainfall\\Lib\\site-packages\\pandas\\core\\indexes\\base.py:3812\u001B[0m, in \u001B[0;36mIndex.get_loc\u001B[1;34m(self, key)\u001B[0m\n\u001B[0;32m   3807\u001B[0m     \u001B[38;5;28;01mif\u001B[39;00m \u001B[38;5;28misinstance\u001B[39m(casted_key, \u001B[38;5;28mslice\u001B[39m) \u001B[38;5;129;01mor\u001B[39;00m (\n\u001B[0;32m   3808\u001B[0m         \u001B[38;5;28misinstance\u001B[39m(casted_key, abc\u001B[38;5;241m.\u001B[39mIterable)\n\u001B[0;32m   3809\u001B[0m         \u001B[38;5;129;01mand\u001B[39;00m \u001B[38;5;28many\u001B[39m(\u001B[38;5;28misinstance\u001B[39m(x, \u001B[38;5;28mslice\u001B[39m) \u001B[38;5;28;01mfor\u001B[39;00m x \u001B[38;5;129;01min\u001B[39;00m casted_key)\n\u001B[0;32m   3810\u001B[0m     ):\n\u001B[0;32m   3811\u001B[0m         \u001B[38;5;28;01mraise\u001B[39;00m InvalidIndexError(key)\n\u001B[1;32m-> 3812\u001B[0m     \u001B[38;5;28;01mraise\u001B[39;00m \u001B[38;5;167;01mKeyError\u001B[39;00m(key) \u001B[38;5;28;01mfrom\u001B[39;00m \u001B[38;5;21;01merr\u001B[39;00m\n\u001B[0;32m   3813\u001B[0m \u001B[38;5;28;01mexcept\u001B[39;00m \u001B[38;5;167;01mTypeError\u001B[39;00m:\n\u001B[0;32m   3814\u001B[0m     \u001B[38;5;66;03m# If we have a listlike key, _check_indexing_error will raise\u001B[39;00m\n\u001B[0;32m   3815\u001B[0m     \u001B[38;5;66;03m#  InvalidIndexError. Otherwise we fall through and re-raise\u001B[39;00m\n\u001B[0;32m   3816\u001B[0m     \u001B[38;5;66;03m#  the TypeError.\u001B[39;00m\n\u001B[0;32m   3817\u001B[0m     \u001B[38;5;28mself\u001B[39m\u001B[38;5;241m.\u001B[39m_check_indexing_error(key)\n",
      "\u001B[1;31mKeyError\u001B[0m: 'Prediction'"
     ]
    }
   ],
   "source": [
    "submssion_df = pd.read_csv('Database/rainfall_test.csv')\n",
    "submssion_df.loc[pred_rating_df.index, 'rainfall_test.class_interval'] = pred_rating_df['Prediction']"
   ],
   "metadata": {
    "collapsed": false,
    "ExecuteTime": {
     "end_time": "2024-06-24T08:56:45.317120400Z",
     "start_time": "2024-06-24T08:56:45.048029900Z"
    }
   },
   "id": "6bf376b74bfbd2c4",
   "execution_count": 395
  },
  {
   "cell_type": "code",
   "outputs": [
    {
     "data": {
      "text/plain": "<Figure size 640x480 with 1 Axes>",
      "image/png": "[encoded data removed]"
     },
     "metadata": {},
     "output_type": "display_data"
    }
   ],
   "source": [
    "plot_imabalance(submssion_df, 'rainfall_test.class_interval')"
   ],
   "metadata": {
    "collapsed": false,
    "ExecuteTime": {
     "end_time": "2024-06-24T08:51:49.363860100Z",
     "start_time": "2024-06-24T08:51:49.247592200Z"
    }
   },
   "id": "e633bc9728652e6e",
   "execution_count": 371
  },
  {
   "cell_type": "code",
   "outputs": [],
   "source": [
    "submssion_df.to_csv('File/240105.csv', index=False)"
   ],
   "metadata": {
    "collapsed": false,
    "ExecuteTime": {
     "end_time": "2024-06-24T08:30:45.539753200Z",
     "start_time": "2024-06-24T08:30:44.543771Z"
    }
   },
   "id": "c109816af05d2b50",
   "execution_count": 301
  },
  {
   "cell_type": "code",
   "outputs": [],
   "source": [
    "pred_rating_df = prediction_df.applymap(lambda x: map_values(x))"
   ],
   "metadata": {
    "collapsed": false,
    "ExecuteTime": {
     "end_time": "2024-06-24T08:56:39.914463500Z",
     "start_time": "2024-06-24T08:56:37.409798300Z"
    }
   },
   "id": "5116c38933a5f3f1",
   "execution_count": 394
  },
  {
   "cell_type": "code",
   "outputs": [],
   "source": [
    "submssion_df = pd.read_csv('Database/rainfall_test.csv')\n",
    "submssion_df.loc[pred_rating_df.index, 'rainfall_test.class_interval'] = pred_rating_df['DT_GMM0']"
   ],
   "metadata": {
    "collapsed": false,
    "ExecuteTime": {
     "end_time": "2024-06-24T08:57:29.947912600Z",
     "start_time": "2024-06-24T08:57:29.829994300Z"
    }
   },
   "id": "4ce15be12faa3b94",
   "execution_count": 397
  },
  {
   "cell_type": "code",
   "outputs": [
    {
     "data": {
      "text/plain": "<Figure size 640x480 with 1 Axes>",
      "image/png": "[encoded data removed]"
     },
     "metadata": {},
     "output_type": "display_data"
    }
   ],
   "source": [
    "plot_imabalance(submssion_df, 'rainfall_test.class_interval')"
   ],
   "metadata": {
    "collapsed": false,
    "ExecuteTime": {
     "end_time": "2024-06-24T08:57:43.075792700Z",
     "start_time": "2024-06-24T08:57:42.933072200Z"
    }
   },
   "id": "1d39a56aaeb7d868",
   "execution_count": 398
  }
 ],
 "metadata": {
  "kernelspec": {
   "display_name": "Python 3",
   "language": "python",
   "name": "python3"
  },
  "language_info": {
   "codemirror_mode": {
    "name": "ipython",
    "version": 2
   },
   "file_extension": ".py",
   "mimetype": "text/x-python",
   "name": "python",
   "nbconvert_exporter": "python",
   "pygments_lexer": "ipython2",
   "version": "2.7.6"
  }
 },
 "nbformat": 4,
 "nbformat_minor": 5
}
