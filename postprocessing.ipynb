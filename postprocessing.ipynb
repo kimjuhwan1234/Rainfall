{
 "cells": [
  {
   "cell_type": "code",
   "outputs": [],
   "source": [
    "import os\n",
    "import warnings\n",
    "from joblib import load\n",
    "from utils.scaler import *\n",
    "from sklearn.metrics import *\n",
    "from matplotlib import pyplot as plt\n",
    "from IPython.core.interactiveshell import InteractiveShell"
   ],
   "metadata": {
    "collapsed": false,
    "ExecuteTime": {
     "end_time": "2024-06-23T12:36:09.069805400Z",
     "start_time": "2024-06-23T12:36:07.494843Z"
    }
   },
   "id": "5a7365216f084516",
   "execution_count": 1
  },
  {
   "cell_type": "code",
   "outputs": [],
   "source": [
    "plt.rc('font', family='GULIM')\n",
    "warnings.filterwarnings(action='ignore')\n",
    "InteractiveShell.ast_node_interactivity = \"all\""
   ],
   "metadata": {
    "collapsed": false,
    "ExecuteTime": {
     "end_time": "2024-06-23T12:36:09.075471200Z",
     "start_time": "2024-06-23T12:36:09.072875100Z"
    }
   },
   "id": "d72017008e119bf8",
   "execution_count": 2
  },
  {
   "cell_type": "code",
   "outputs": [],
   "source": [
    "X_test = pd.read_csv('Database/test/X_self_test_norm.csv', index_col=0)\n",
    "y_test = pd.read_csv('Database/test/y_self_test.csv', index_col=0)\n",
    "target_scaler = load('Database/target_scaler.joblib')\n",
    "y_test = pd.DataFrame(target_scaler.inverse_transform(y_test), index=y_test.index)"
   ],
   "metadata": {
    "collapsed": false,
    "ExecuteTime": {
     "end_time": "2024-06-23T12:36:09.705630500Z",
     "start_time": "2024-06-23T12:36:09.076472100Z"
    }
   },
   "id": "7c1006d94f65567c",
   "execution_count": 3
  },
  {
   "cell_type": "code",
   "outputs": [],
   "source": [
    "y_test = inverse_boxcox(y_test, -0.4431146771093272) - 0.000001\n",
    "# y_test=pd.DataFrame(np.exp(y_test)-1)"
   ],
   "metadata": {
    "collapsed": false,
    "ExecuteTime": {
     "end_time": "2024-06-23T12:36:09.713538100Z",
     "start_time": "2024-06-23T12:36:09.708169700Z"
    }
   },
   "id": "ab21fc8dac03d043",
   "execution_count": 4
  },
  {
   "cell_type": "markdown",
   "source": [
    "# Best-model dict 저장"
   ],
   "metadata": {
    "collapsed": false
   },
   "id": "1bfa8079036ea622"
  },
  {
   "cell_type": "code",
   "outputs": [],
   "source": [
    "STN_list = ['STN001', 'STN002', 'STN003', 'STN004', 'STN005', 'STN006', 'STN007', 'STN008', 'STN009', 'STN010',\n",
    "            'STN011', 'STN012', 'STN013', 'STN014', 'STN015', 'STN016', 'STN017', 'STN018', 'STN019', 'STN020']\n",
    "\n",
    "STN_list = ['STN001']\n",
    "\n",
    "dt_files = sorted(filename for filename in os.listdir('File/DT') if filename.endswith('.pkl'))\n",
    "lgb_files = sorted(filename for filename in os.listdir('File/LGBM') if filename.endswith('.pkl'))\n",
    "xgb_files = sorted(filename for filename in os.listdir('File/XGB') if filename.endswith('.pkl'))\n",
    "cat_files = sorted(filename for filename in os.listdir('File/CAT') if filename.endswith('.pkl'))\n",
    "\n",
    "best_dt_dict = {}\n",
    "best_lgb_dict = {}\n",
    "best_xgb_dict = {}\n",
    "best_cat_dict = {}\n",
    "\n",
    "for i, STN in enumerate(STN_list):\n",
    "    best_dt_dict[STN] = load(os.path.join('File/DT', dt_files[i]))\n",
    "    best_lgb_dict[STN] = load(os.path.join('File/LGBM', lgb_files[i]))\n",
    "    best_xgb_dict[STN] = load(os.path.join('File/XGB', xgb_files[i]))\n",
    "    best_cat_dict[STN] = load(os.path.join('File/CAT', cat_files[i]))"
   ],
   "metadata": {
    "collapsed": false,
    "ExecuteTime": {
     "end_time": "2024-06-23T12:36:10.048453800Z",
     "start_time": "2024-06-23T12:36:09.719059Z"
    }
   },
   "id": "3f33c9695b16819f",
   "execution_count": 5
  },
  {
   "cell_type": "markdown",
   "source": [
    "# BoxCox 역변환 & 예측값 dict 저장"
   ],
   "metadata": {
    "collapsed": false
   },
   "id": "462eb93402957d8b"
  },
  {
   "cell_type": "markdown",
   "source": [
    "## 표준화 역변환"
   ],
   "metadata": {
    "collapsed": false
   },
   "id": "2bbd443463be72d3"
  },
  {
   "cell_type": "code",
   "outputs": [],
   "source": [
    "pred_dt_dict = {}\n",
    "pred_lgb_dict = {}\n",
    "pred_xgb_dict = {}\n",
    "pred_cat_dict = {}\n",
    "\n",
    "for i, STN in enumerate(STN_list):\n",
    "    pred_dt_dict[STN] = pd.DataFrame(target_scaler.inverse_transform(best_dt_dict[STN].predict(X_test).reshape(-1, 1)))\n",
    "    pred_lgb_dict[STN] = pd.DataFrame(target_scaler.inverse_transform(best_dt_dict[STN].predict(X_test).reshape(-1, 1)))\n",
    "    pred_xgb_dict[STN] = pd.DataFrame(target_scaler.inverse_transform(best_dt_dict[STN].predict(X_test).reshape(-1, 1)))\n",
    "    pred_cat_dict[STN] = pd.DataFrame(target_scaler.inverse_transform(best_dt_dict[STN].predict(X_test).reshape(-1, 1)))"
   ],
   "metadata": {
    "collapsed": false,
    "ExecuteTime": {
     "end_time": "2024-06-23T12:36:10.324837100Z",
     "start_time": "2024-06-23T12:36:10.051558400Z"
    }
   },
   "id": "201af9f0fed2e690",
   "execution_count": 6
  },
  {
   "cell_type": "markdown",
   "source": [
    "## BoxCox or log 역변환"
   ],
   "metadata": {
    "collapsed": false
   },
   "id": "79d3bb83ada1b6e1"
  },
  {
   "cell_type": "code",
   "outputs": [],
   "source": [
    "# BoxCox 역변환\n",
    "for i, STN in enumerate(STN_list):\n",
    "    pred_dt_dict[STN] = inverse_boxcox(pd.DataFrame(pred_dt_dict[STN]), -0.4431146771093272) - 0.000001\n",
    "    pred_lgb_dict[STN] = inverse_boxcox(pd.DataFrame(pred_lgb_dict[STN]), -0.4431146771093272) - 0.000001\n",
    "    pred_xgb_dict[STN] = inverse_boxcox(pd.DataFrame(pred_xgb_dict[STN]), -0.4431146771093272) - 0.000001\n",
    "    pred_cat_dict[STN] = inverse_boxcox(pd.DataFrame(pred_cat_dict[STN]), -0.4431146771093272) - 0.000001\n",
    "\n",
    "# log 역변환\n",
    "# for i, STN in enumerate(STN_list):\n",
    "#     pred_dt_dict[STN] = pd.DataFrame(np.exp(pred_dt_dict[STN])-1)\n",
    "#     pred_lgb_dict[STN] = pd.DataFrame(np.exp(pred_lgb_dict[STN])-1)\n",
    "#     pred_xgb_dict[STN] = pd.DataFrame(np.exp(pred_xgb_dict[STN])-1)\n",
    "#     pred_cat_dict[STN] = pd.DataFrame(np.exp(pred_cat_dict[STN])-1)\n",
    "\n",
    "# 아무것도 안했을 때\n",
    "# for i, STN in enumerate(STN_list):\n",
    "#     pred_dt_dict[STN] = pd.DataFrame(best_dt_dict[STN].predict(X_test))\n",
    "#     pred_lgb_dict[STN] = pd.DataFrame(best_lgb_dict[STN].predict(X_test))\n",
    "#     pred_xgb_dict[STN] = pd.DataFrame(best_xgb_dict[STN].predict(X_test))\n",
    "#     pred_cat_dict[STN] = pd.DataFrame(best_cat_dict[STN].predict(X_test))"
   ],
   "metadata": {
    "collapsed": false,
    "ExecuteTime": {
     "end_time": "2024-06-23T12:36:10.343110600Z",
     "start_time": "2024-06-23T12:36:10.328402200Z"
    }
   },
   "id": "b4b4fa74771e9834",
   "execution_count": 7
  },
  {
   "cell_type": "markdown",
   "source": [
    "# 60개 싱글모델 예측값 DataFrame 저장"
   ],
   "metadata": {
    "collapsed": false
   },
   "id": "e278cbad0fd9c9e2"
  },
  {
   "cell_type": "code",
   "outputs": [],
   "source": [
    "prediction_df = pd.DataFrame()\n",
    "for i, STN in enumerate(STN_list):\n",
    "    prediction_df = pd.concat(\n",
    "        [prediction_df,\n",
    "         pd.DataFrame(pred_dt_dict[STN].values, columns=[f'DT_{STN}']),\n",
    "         pd.DataFrame(pred_lgb_dict[STN].values, columns=[f'lgb_{STN}']),\n",
    "         pd.DataFrame(pred_xgb_dict[STN].values, columns=[f'xgb_{STN}']),\n",
    "         pd.DataFrame(pred_cat_dict[STN].values, columns=[f'cat_{STN}'])], axis=1)\n",
    "prediction_df.index = X_test.index"
   ],
   "metadata": {
    "collapsed": false,
    "ExecuteTime": {
     "end_time": "2024-06-23T12:36:10.357315900Z",
     "start_time": "2024-06-23T12:36:10.346167400Z"
    }
   },
   "id": "72ee1d3c4292bb75",
   "execution_count": 8
  },
  {
   "cell_type": "markdown",
   "source": [
    "# 60개 싱글모델 metric DataFrame 저장"
   ],
   "metadata": {
    "collapsed": false
   },
   "id": "590d1c88bbe3aee3"
  },
  {
   "cell_type": "code",
   "outputs": [],
   "source": [
    "metric_df = pd.DataFrame(columns=['R2', 'RMSE', 'MAE', 'MAPE'])\n",
    "for i, STN in enumerate(STN_list):\n",
    "    metric_df = pd.concat(\n",
    "        [metric_df, pd.DataFrame([r2_score(y_test.values, pred_dt_dict[STN]),\n",
    "                                  root_mean_squared_error(y_test.values, pred_dt_dict[STN]),\n",
    "                                  mean_absolute_error(y_test.values, pred_dt_dict[STN]),\n",
    "                                  mean_absolute_percentage_error(y_test.values, pred_dt_dict[STN])],\n",
    "                                 index=metric_df.columns, columns=[f'DT_{STN}']).T], axis=0)\n",
    "\n",
    "    metric_df = pd.concat(\n",
    "        [metric_df, pd.DataFrame([r2_score(y_test.values, pred_lgb_dict[STN]),\n",
    "                                  root_mean_squared_error(y_test.values, pred_lgb_dict[STN]),\n",
    "                                  mean_absolute_error(y_test.values, pred_lgb_dict[STN]),\n",
    "                                  mean_absolute_percentage_error(y_test.values, pred_lgb_dict[STN])],\n",
    "                                 index=metric_df.columns, columns=[f'LGB_{STN}']).T], axis=0)\n",
    "\n",
    "    metric_df = pd.concat(\n",
    "        [metric_df, pd.DataFrame([r2_score(y_test.values, pred_xgb_dict[STN]),\n",
    "                                  root_mean_squared_error(y_test.values, pred_xgb_dict[STN]),\n",
    "                                  mean_absolute_error(y_test.values, pred_xgb_dict[STN]),\n",
    "                                  mean_absolute_percentage_error(y_test.values, pred_xgb_dict[STN])],\n",
    "                                 index=metric_df.columns, columns=[f'XGB_{STN}']).T], axis=0)\n",
    "\n",
    "    metric_df = pd.concat(\n",
    "        [metric_df, pd.DataFrame([r2_score(y_test.values, pred_cat_dict[STN]),\n",
    "                                  root_mean_squared_error(y_test.values, pred_cat_dict[STN]),\n",
    "                                  mean_absolute_error(y_test.values, pred_cat_dict[STN]),\n",
    "                                  mean_absolute_percentage_error(y_test.values, pred_cat_dict[STN])],\n",
    "                                 index=metric_df.columns, columns=[f'CAT_{STN}']).T], axis=0)"
   ],
   "metadata": {
    "collapsed": false,
    "ExecuteTime": {
     "end_time": "2024-06-23T12:36:10.398513100Z",
     "start_time": "2024-06-23T12:36:10.355786500Z"
    }
   },
   "id": "f51c1617f0eaa62",
   "execution_count": 9
  },
  {
   "cell_type": "markdown",
   "source": [
    "# Deep Learning 단일모델 시험"
   ],
   "metadata": {
    "collapsed": false
   },
   "id": "c523fc199d3c551b"
  },
  {
   "cell_type": "code",
   "outputs": [],
   "source": [
    "# from Module.model import *\n",
    "# \n",
    "# backbone = MLP(input_size=57, hidden_size=512, output_size=1).to('cuda')\n",
    "# backbone.load_state_dict(torch.load('Weight/STN001.pth'))\n",
    "# backbone.eval()\n",
    "# output = backbone(torch.tensor(X_test.values).to('cuda'))\n",
    "# \n",
    "# output = output.cpu().detach().numpy()\n",
    "# output = target_scaler.inverse_transform(output)\n",
    "# output = inverse_boxcox(output, -0.4431146771093272) - 0.000001\n",
    "# output = np.exp(output)-1\n",
    "# prediction_df2 = pd.DataFrame(output, index=X_test.index)"
   ],
   "metadata": {
    "collapsed": false,
    "ExecuteTime": {
     "end_time": "2024-06-23T12:38:45.238408Z",
     "start_time": "2024-06-23T12:38:45.221735900Z"
    }
   },
   "id": "8def9605e61b5329",
   "execution_count": 18
  },
  {
   "cell_type": "markdown",
   "source": [
    "# CSI 계산"
   ],
   "metadata": {
    "collapsed": false
   },
   "id": "fa6606581368331b"
  },
  {
   "cell_type": "code",
   "outputs": [],
   "source": [
    "pred_rating_df = prediction_df.applymap(lambda x: map_values(x))\n",
    "truth_rating_df = pd.DataFrame(y_test).applymap(lambda x: map_values(x))\n",
    "data = pd.concat([pred_rating_df.iloc[:, 0], truth_rating_df], axis=1)"
   ],
   "metadata": {
    "collapsed": false,
    "ExecuteTime": {
     "end_time": "2024-06-23T12:36:13.262013300Z",
     "start_time": "2024-06-23T12:36:12.913384100Z"
    }
   },
   "id": "7e524436a93d687b",
   "execution_count": 11
  },
  {
   "cell_type": "code",
   "outputs": [],
   "source": [
    "mapping = {\n",
    "    0: \"<0.1\",\n",
    "    1: \"0.1<=X<0.2\",\n",
    "    2: \"0.2<=X<0.5\",\n",
    "    3: \"0.5<=X<1\",\n",
    "    4: \"1<=X<2\",\n",
    "    5: \"2<=X<5\",\n",
    "    6: \"5<=X<10\",\n",
    "    7: \"10<=X<20\",\n",
    "    8: \"20<=X<30\",\n",
    "    9: \"X>=30\"\n",
    "}\n",
    "\n",
    "data['predicted'] = data.iloc[:, 0].map(mapping)\n",
    "data['observed'] = data.iloc[:, 1].map(mapping)\n",
    "\n",
    "csi_categories = [\"<0.1\", \"0.1<=X<0.2\", \"0.2<=X<0.5\", \"0.5<=X<1\", \"1<=X<2\", \"2<=X<5\", \"5<=X<10\", \"10<=X<20\", \"20<=X<30\",\n",
    "                  \"X>=30\"]\n",
    "csi_table = pd.DataFrame(0, index=csi_categories, columns=csi_categories)\n",
    "\n",
    "for index, row in data.iterrows():\n",
    "    observed = row['observed']\n",
    "    predicted = row['predicted']\n",
    "    csi_table.at[observed, predicted] += 1"
   ],
   "metadata": {
    "collapsed": false,
    "ExecuteTime": {
     "end_time": "2024-06-23T12:36:27.900325100Z",
     "start_time": "2024-06-23T12:36:13.264094800Z"
    }
   },
   "id": "ad7389a2709eee08",
   "execution_count": 12
  },
  {
   "cell_type": "code",
   "outputs": [
    {
     "data": {
      "text/plain": "0.04847654258031617"
     },
     "execution_count": 13,
     "metadata": {},
     "output_type": "execute_result"
    }
   ],
   "source": [
    "cal_CSI(csi_table)"
   ],
   "metadata": {
    "collapsed": false,
    "ExecuteTime": {
     "end_time": "2024-06-23T12:36:27.907735100Z",
     "start_time": "2024-06-23T12:36:27.902392400Z"
    }
   },
   "id": "9b4c5e1fffd18ae",
   "execution_count": 13
  }
 ],
 "metadata": {
  "kernelspec": {
   "display_name": "Python 3",
   "language": "python",
   "name": "python3"
  },
  "language_info": {
   "codemirror_mode": {
    "name": "ipython",
    "version": 2
   },
   "file_extension": ".py",
   "mimetype": "text/x-python",
   "name": "python",
   "nbconvert_exporter": "python",
   "pygments_lexer": "ipython2",
   "version": "2.7.6"
  }
 },
 "nbformat": 4,
 "nbformat_minor": 5
}
