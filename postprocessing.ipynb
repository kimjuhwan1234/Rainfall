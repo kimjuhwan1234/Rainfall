{
 "cells": [
  {
   "cell_type": "code",
   "outputs": [],
   "source": [
    "import os\n",
    "import warnings\n",
    "\n",
    "import pandas as pd\n",
    "from joblib import load\n",
    "from utils.plot import *\n",
    "from utils.scaler import *\n",
    "from sklearn.metrics import *\n",
    "from matplotlib import pyplot as plt\n",
    "from IPython.core.interactiveshell import InteractiveShell"
   ],
   "metadata": {
    "collapsed": false,
    "ExecuteTime": {
     "end_time": "2024-06-24T10:04:21.899008700Z",
     "start_time": "2024-06-24T10:04:21.883907300Z"
    }
   },
   "id": "5a7365216f084516",
   "execution_count": 619
  },
  {
   "cell_type": "code",
   "outputs": [],
   "source": [
    "plt.rc('font', family='GULIM')\n",
    "warnings.filterwarnings(action='ignore')\n",
    "InteractiveShell.ast_node_interactivity = \"all\""
   ],
   "metadata": {
    "collapsed": false,
    "ExecuteTime": {
     "end_time": "2024-06-24T10:04:22.285238400Z",
     "start_time": "2024-06-24T10:04:22.280236500Z"
    }
   },
   "id": "d72017008e119bf8",
   "execution_count": 620
  },
  {
   "cell_type": "code",
   "outputs": [],
   "source": [
    "# X_test = pd.read_csv('Database/test/X_self_test_norm.csv', index_col=0)\n",
    "X_test = pd.read_csv('Database/test/X_real_test_norm.csv', index_col=0)\n",
    "y_test = pd.read_csv('Database/test/y_self_test.csv', index_col=0)\n",
    "target_scaler = load('Database/target_scaler.joblib')\n",
    "y_test = pd.DataFrame(target_scaler.inverse_transform(y_test), index=y_test.index)"
   ],
   "metadata": {
    "collapsed": false,
    "ExecuteTime": {
     "end_time": "2024-06-24T10:09:33.308842100Z",
     "start_time": "2024-06-24T10:09:32.698567400Z"
    }
   },
   "id": "7c1006d94f65567c",
   "execution_count": 676
  },
  {
   "cell_type": "code",
   "outputs": [],
   "source": [
    "y_test = inverse_boxcox(y_test, -0.4431146771093272) - 0.000001\n",
    "# y_test=pd.DataFrame(np.exp(y_test)-1)"
   ],
   "metadata": {
    "collapsed": false,
    "ExecuteTime": {
     "end_time": "2024-06-24T10:09:33.377859400Z",
     "start_time": "2024-06-24T10:09:33.321844900Z"
    }
   },
   "id": "ab21fc8dac03d043",
   "execution_count": 677
  },
  {
   "cell_type": "markdown",
   "source": [
    "# Best-model dict 저장"
   ],
   "metadata": {
    "collapsed": false
   },
   "id": "1bfa8079036ea622"
  },
  {
   "cell_type": "code",
   "outputs": [],
   "source": [
    "STN_list = ['STN001', 'STN002', 'STN003', 'STN004', 'STN005', 'STN006', 'STN007', 'STN008', 'STN009', 'STN010',\n",
    "            'STN011', 'STN012', 'STN013', 'STN014', 'STN015', 'STN016', 'STN017', 'STN018', 'STN019', 'STN020']\n",
    "\n",
    "GMM_list = [f'GMM{i}' for i in range(15)]\n",
    "\n",
    "dt_files = sorted(filename for filename in os.listdir('File/DT') if filename.endswith('.pkl'))\n",
    "lgb_files = sorted(filename for filename in os.listdir('File/LGBM') if filename.endswith('.pkl'))\n",
    "xgb_files = sorted(filename for filename in os.listdir('File/XGB') if filename.endswith('.pkl'))\n",
    "cat_files = sorted(filename for filename in os.listdir('File/CAT') if filename.endswith('.pkl'))\n",
    "\n",
    "best_dt_dict = {}\n",
    "best_lgb_dict = {}\n",
    "best_xgb_dict = {}\n",
    "# best_cat_dict = {}\n",
    "\n",
    "for i, STN in enumerate(GMM_list):\n",
    "    best_dt_dict[STN] = load(os.path.join('File/DT', dt_files[i]))\n",
    "    best_lgb_dict[STN] = load(os.path.join('File/LGBM', lgb_files[i]))\n",
    "    best_xgb_dict[STN] = load(os.path.join('File/XGB', xgb_files[i]))\n",
    "    # best_cat_dict[STN] = load(os.path.join('File/CAT', cat_files[i]))"
   ],
   "metadata": {
    "collapsed": false,
    "ExecuteTime": {
     "end_time": "2024-06-24T10:09:34.088756200Z",
     "start_time": "2024-06-24T10:09:33.724648400Z"
    }
   },
   "id": "3f33c9695b16819f",
   "execution_count": 678
  },
  {
   "cell_type": "markdown",
   "source": [
    "# BoxCox 역변환 & 예측값 dict 저장"
   ],
   "metadata": {
    "collapsed": false
   },
   "id": "462eb93402957d8b"
  },
  {
   "cell_type": "markdown",
   "source": [
    "## 표준화 역변환"
   ],
   "metadata": {
    "collapsed": false
   },
   "id": "2bbd443463be72d3"
  },
  {
   "cell_type": "code",
   "outputs": [],
   "source": [
    "pred_dt_dict = {}\n",
    "pred_lgb_dict = {}\n",
    "pred_xgb_dict = {}\n",
    "# pred_cat_dict = {}\n",
    "\n",
    "for i, STN in enumerate(GMM_list):\n",
    "    pred_dt_dict[STN] = pd.DataFrame(target_scaler.inverse_transform(best_dt_dict[STN].predict(X_test).reshape(-1, 1)))\n",
    "    pred_lgb_dict[STN] = pd.DataFrame(target_scaler.inverse_transform(best_dt_dict[STN].predict(X_test).reshape(-1, 1)))\n",
    "    pred_xgb_dict[STN] = pd.DataFrame(target_scaler.inverse_transform(best_dt_dict[STN].predict(X_test).reshape(-1, 1)))\n",
    "    # pred_cat_dict[STN] = pd.DataFrame(target_scaler.inverse_transform(best_dt_dict[STN].predict(X_test).reshape(-1, 1)))"
   ],
   "metadata": {
    "collapsed": false,
    "ExecuteTime": {
     "end_time": "2024-06-24T10:09:37.952805300Z",
     "start_time": "2024-06-24T10:09:35.011576900Z"
    }
   },
   "id": "201af9f0fed2e690",
   "execution_count": 679
  },
  {
   "cell_type": "markdown",
   "source": [
    "## BoxCox or log 역변환"
   ],
   "metadata": {
    "collapsed": false
   },
   "id": "79d3bb83ada1b6e1"
  },
  {
   "cell_type": "code",
   "outputs": [],
   "source": [
    "# BoxCox 역변환\n",
    "for i, STN in enumerate(GMM_list):\n",
    "    pred_dt_dict[STN] = inverse_boxcox(pd.DataFrame(pred_dt_dict[STN]), -0.4431146771093272) - 0.000001\n",
    "    pred_lgb_dict[STN] = inverse_boxcox(pd.DataFrame(pred_lgb_dict[STN]), -0.4431146771093272) - 0.000001\n",
    "    pred_xgb_dict[STN] = inverse_boxcox(pd.DataFrame(pred_xgb_dict[STN]), -0.4431146771093272) - 0.000001\n",
    "    # pred_cat_dict[STN] = inverse_boxcox(pd.DataFrame(pred_cat_dict[STN]), -0.4431146771093272) - 0.000001\n",
    "\n",
    "# log 역변환\n",
    "# for i, STN in enumerate(STN_list):\n",
    "#     pred_dt_dict[STN] = pd.DataFrame(np.exp(pred_dt_dict[STN])-1)\n",
    "#     pred_lgb_dict[STN] = pd.DataFrame(np.exp(pred_lgb_dict[STN])-1)\n",
    "#     pred_xgb_dict[STN] = pd.DataFrame(np.exp(pred_xgb_dict[STN])-1)\n",
    "#     pred_cat_dict[STN] = pd.DataFrame(np.exp(pred_cat_dict[STN])-1)\n",
    "\n",
    "# 아무것도 안했을 때\n",
    "# for i, STN in enumerate(STN_list):\n",
    "#     pred_dt_dict[STN] = pd.DataFrame(best_dt_dict[STN].predict(X_test))\n",
    "#     pred_lgb_dict[STN] = pd.DataFrame(best_lgb_dict[STN].predict(X_test))\n",
    "#     pred_xgb_dict[STN] = pd.DataFrame(best_xgb_dict[STN].predict(X_test))\n",
    "#     pred_cat_dict[STN] = pd.DataFrame(best_cat_dict[STN].predict(X_test))"
   ],
   "metadata": {
    "collapsed": false,
    "ExecuteTime": {
     "end_time": "2024-06-24T10:09:38.035049500Z",
     "start_time": "2024-06-24T10:09:37.945803700Z"
    }
   },
   "id": "b4b4fa74771e9834",
   "execution_count": 680
  },
  {
   "cell_type": "markdown",
   "source": [
    "# 60개 싱글모델 예측값 DataFrame 저장"
   ],
   "metadata": {
    "collapsed": false
   },
   "id": "e278cbad0fd9c9e2"
  },
  {
   "cell_type": "code",
   "outputs": [],
   "source": [
    "prediction_df = pd.DataFrame()\n",
    "for i, STN in enumerate(GMM_list):\n",
    "    prediction_df = pd.concat(\n",
    "        [prediction_df,\n",
    "         pd.DataFrame(pred_dt_dict[STN].values, columns=[f'DT_{STN}']),\n",
    "         pd.DataFrame(pred_lgb_dict[STN].values, columns=[f'lgb_{STN}']),\n",
    "         pd.DataFrame(pred_xgb_dict[STN].values, columns=[f'xgb_{STN}']),\n",
    "         # pd.DataFrame(pred_cat_dict[STN].values, columns=[f'cat_{STN}'])\n",
    "         ], axis=1)\n",
    "\n",
    "prediction_df.index = X_test.index"
   ],
   "metadata": {
    "collapsed": false,
    "ExecuteTime": {
     "end_time": "2024-06-24T10:09:38.355227700Z",
     "start_time": "2024-06-24T10:09:38.037050300Z"
    }
   },
   "id": "72ee1d3c4292bb75",
   "execution_count": 681
  },
  {
   "cell_type": "markdown",
   "source": [
    "# 60개 싱글모델 metric DataFrame 저장"
   ],
   "metadata": {
    "collapsed": false
   },
   "id": "590d1c88bbe3aee3"
  },
  {
   "cell_type": "code",
   "outputs": [],
   "source": [
    "metric_df = pd.DataFrame(columns=['R2', 'RMSE', 'MAE', 'MAPE'])\n",
    "for i, STN in enumerate(GMM_list):\n",
    "    metric_df = pd.concat(\n",
    "        [metric_df, pd.DataFrame([r2_score(y_test.values, pred_dt_dict[STN]),\n",
    "                                  root_mean_squared_error(y_test.values, pred_dt_dict[STN]),\n",
    "                                  mean_absolute_error(y_test.values, pred_dt_dict[STN]),\n",
    "                                  mean_absolute_percentage_error(y_test.values, pred_dt_dict[STN])],\n",
    "                                 index=metric_df.columns, columns=[f'DT_{STN}']).T], axis=0)\n",
    "\n",
    "    metric_df = pd.concat(\n",
    "        [metric_df, pd.DataFrame([r2_score(y_test.values, pred_lgb_dict[STN]),\n",
    "                                  root_mean_squared_error(y_test.values, pred_lgb_dict[STN]),\n",
    "                                  mean_absolute_error(y_test.values, pred_lgb_dict[STN]),\n",
    "                                  mean_absolute_percentage_error(y_test.values, pred_lgb_dict[STN])],\n",
    "                                 index=metric_df.columns, columns=[f'LGB_{STN}']).T], axis=0)\n",
    "\n",
    "    metric_df = pd.concat(\n",
    "        [metric_df, pd.DataFrame([r2_score(y_test.values, pred_xgb_dict[STN]),\n",
    "                                  root_mean_squared_error(y_test.values, pred_xgb_dict[STN]),\n",
    "                                  mean_absolute_error(y_test.values, pred_xgb_dict[STN]),\n",
    "                                  mean_absolute_percentage_error(y_test.values, pred_xgb_dict[STN])],\n",
    "                                 index=metric_df.columns, columns=[f'XGB_{STN}']).T], axis=0)\n",
    "\n",
    "    # metric_df = pd.concat(\n",
    "    #     [metric_df, pd.DataFrame([r2_score(y_test.values, pred_cat_dict[STN]),\n",
    "    #                               root_mean_squared_error(y_test.values, pred_cat_dict[STN]),\n",
    "    #                               mean_absolute_error(y_test.values, pred_cat_dict[STN]),\n",
    "    #                               mean_absolute_percentage_error(y_test.values, pred_cat_dict[STN])],\n",
    "    #                              index=metric_df.columns, columns=[f'CAT_{STN}']).T], axis=0)"
   ],
   "metadata": {
    "collapsed": false,
    "ExecuteTime": {
     "end_time": "2024-06-24T10:09:28.635897200Z",
     "start_time": "2024-06-24T10:09:28.213934200Z"
    }
   },
   "id": "f51c1617f0eaa62",
   "execution_count": 672
  },
  {
   "cell_type": "markdown",
   "source": [
    "# Deep Learning 단일모델 시험"
   ],
   "metadata": {
    "collapsed": false
   },
   "id": "c523fc199d3c551b"
  },
  {
   "cell_type": "code",
   "outputs": [],
   "source": [
    "# from Module.model import *\n",
    "# \n",
    "# backbone = MLP(input_size=57, hidden_size=512, output_size=1).to('cuda')\n",
    "# backbone.load_state_dict(torch.load('Weight/STN001.pth'))\n",
    "# backbone.eval()\n",
    "# output = backbone(torch.tensor(X_test.values).to('cuda'))\n",
    "# \n",
    "# output = output.cpu().detach().numpy()\n",
    "# output = target_scaler.inverse_transform(output)\n",
    "# output = inverse_boxcox(output, -0.4431146771093272) - 0.000001\n",
    "# output = np.exp(output)-1\n",
    "# prediction_df2 = pd.DataFrame(output, index=X_test.index)"
   ],
   "metadata": {
    "collapsed": false,
    "ExecuteTime": {
     "end_time": "2024-06-24T10:09:28.648359200Z",
     "start_time": "2024-06-24T10:09:28.637851900Z"
    }
   },
   "id": "8def9605e61b5329",
   "execution_count": 673
  },
  {
   "cell_type": "markdown",
   "source": [
    "# Fuzzy Membership"
   ],
   "metadata": {
    "collapsed": false
   },
   "id": "64506d3ebd9060e0"
  },
  {
   "cell_type": "code",
   "outputs": [],
   "source": [
    "def fuzzy_membership(prediction_df, gt_df):\n",
    "    total_df = pd.concat([prediction_df, gt_df], axis=1)\n",
    "    errors = np.array(\n",
    "        [np.abs((gt - pred)) for gt, pred in zip(total_df.iloc[:, -1].values, total_df.iloc[:, :-1].values)])\n",
    "    errors_df = pd.DataFrame(errors, index=total_df.index, columns=prediction_df.columns)\n",
    "    std_df = errors_df.apply(lambda col: np.std(col))\n",
    "    membership_df = errors_df.apply(lambda x: np.exp(-x ** 2 / (2 * std_df[x.name] ** 2)), axis=0)\n",
    "    fixed_weights = membership_df.mean(axis=0)\n",
    "\n",
    "    ensemble_pred = np.average(prediction_df, axis=1, weights=membership_df)\n",
    "    ensemble_pred_df = pd.DataFrame(ensemble_pred, columns=['Prediction'], index=prediction_df.index)\n",
    "\n",
    "    return ensemble_pred_df, fixed_weights"
   ],
   "metadata": {
    "collapsed": false,
    "ExecuteTime": {
     "end_time": "2024-06-24T10:09:28.654172500Z",
     "start_time": "2024-06-24T10:09:28.643357400Z"
    }
   },
   "id": "f6356831b6d7d0c2",
   "execution_count": 674
  },
  {
   "cell_type": "code",
   "outputs": [],
   "source": [
    "final_pred_df, membership_df = fuzzy_membership(prediction_df, y_test)\n",
    "membership_df.to_csv('Database/fuzzy_membership.csv')"
   ],
   "metadata": {
    "collapsed": false,
    "ExecuteTime": {
     "end_time": "2024-06-24T10:09:29.461078200Z",
     "start_time": "2024-06-24T10:09:28.654172500Z"
    }
   },
   "id": "f17be36245a29c50",
   "execution_count": 675
  },
  {
   "cell_type": "markdown",
   "source": [
    "# CSI 계산"
   ],
   "metadata": {
    "collapsed": false
   },
   "id": "fa6606581368331b"
  },
  {
   "cell_type": "code",
   "outputs": [],
   "source": [
    "pred_rating_df = final_pred_df.applymap(lambda x: map_values(x))\n",
    "truth_rating_df = pd.DataFrame(y_test).applymap(lambda x: map_values(x))\n",
    "data = pd.concat([pred_rating_df.iloc[:, 0], truth_rating_df], axis=1)"
   ],
   "metadata": {
    "collapsed": false,
    "ExecuteTime": {
     "end_time": "2024-06-24T09:48:06.261680700Z",
     "start_time": "2024-06-24T09:48:06.100069800Z"
    }
   },
   "id": "7e524436a93d687b",
   "execution_count": 511
  },
  {
   "cell_type": "code",
   "outputs": [],
   "source": [
    "mapping = {\n",
    "    0: \"<0.1\",\n",
    "    1: \"0.1<=X<0.2\",\n",
    "    2: \"0.2<=X<0.5\",\n",
    "    3: \"0.5<=X<1\",\n",
    "    4: \"1<=X<2\",\n",
    "    5: \"2<=X<5\",\n",
    "    6: \"5<=X<10\",\n",
    "    7: \"10<=X<20\",\n",
    "    8: \"20<=X<30\",\n",
    "    9: \"X>=30\"\n",
    "}\n",
    "\n",
    "data['predicted'] = data.iloc[:, 0].map(mapping)\n",
    "data['observed'] = data.iloc[:, 1].map(mapping)\n",
    "\n",
    "csi_categories = [\"<0.1\", \"0.1<=X<0.2\", \"0.2<=X<0.5\", \"0.5<=X<1\", \"1<=X<2\", \"2<=X<5\", \"5<=X<10\", \"10<=X<20\", \"20<=X<30\",\n",
    "                  \"X>=30\"]\n",
    "csi_table = pd.DataFrame(0, index=csi_categories, columns=csi_categories)\n",
    "\n",
    "for index, row in data.iterrows():\n",
    "    observed = row['observed']\n",
    "    predicted = row['predicted']\n",
    "    csi_table.at[observed, predicted] += 1"
   ],
   "metadata": {
    "collapsed": false,
    "ExecuteTime": {
     "end_time": "2024-06-24T09:48:22.341415900Z",
     "start_time": "2024-06-24T09:48:07.079175700Z"
    }
   },
   "id": "ad7389a2709eee08",
   "execution_count": 512
  },
  {
   "cell_type": "code",
   "outputs": [
    {
     "data": {
      "text/plain": "0.05785577186728818"
     },
     "execution_count": 513,
     "metadata": {},
     "output_type": "execute_result"
    }
   ],
   "source": [
    "cal_CSI(csi_table)"
   ],
   "metadata": {
    "collapsed": false,
    "ExecuteTime": {
     "end_time": "2024-06-24T09:48:22.352985800Z",
     "start_time": "2024-06-24T09:48:22.344416500Z"
    }
   },
   "id": "9b4c5e1fffd18ae",
   "execution_count": 513
  },
  {
   "cell_type": "markdown",
   "source": [
    "# Real-test prediction 저장"
   ],
   "metadata": {
    "collapsed": false
   },
   "id": "bd3659d0d5783184"
  },
  {
   "cell_type": "code",
   "outputs": [],
   "source": [
    "membership_df = pd.read_csv('Database/fuzzy_membership.csv', index_col=0)\n",
    "fixed_weights = membership_df.values.flatten()\n",
    "normalized_weights = fixed_weights / np.sum(fixed_weights)\n",
    "ensemble_pred = np.average(prediction_df, axis=1, weights=normalized_weights)\n",
    "final_pred_df = pd.DataFrame(ensemble_pred, columns=['Prediction'], index=prediction_df.index)\n",
    "pred_rating_df = final_pred_df.applymap(lambda x: map_values(x))"
   ],
   "metadata": {
    "collapsed": false,
    "ExecuteTime": {
     "end_time": "2024-06-24T10:10:14.315949800Z",
     "start_time": "2024-06-24T10:10:14.229442500Z"
    }
   },
   "id": "7bc534efe6b8ad3",
   "execution_count": 689
  },
  {
   "cell_type": "code",
   "outputs": [
    {
     "data": {
      "text/plain": "<Figure size 640x480 with 1 Axes>",
      "image/png": "[encoded data removed]"
     },
     "metadata": {},
     "output_type": "display_data"
    }
   ],
   "source": [
    "pred_rating_df2 = prediction_df.applymap(lambda x: map_values(x))\n",
    "plot_imabalance(pred_rating_df2, 'lgb_GMM14')"
   ],
   "metadata": {
    "collapsed": false,
    "ExecuteTime": {
     "end_time": "2024-06-24T10:15:06.274998700Z",
     "start_time": "2024-06-24T10:15:03.149027400Z"
    }
   },
   "id": "55f4b01c95b4a688",
   "execution_count": 715
  },
  {
   "cell_type": "code",
   "outputs": [
    {
     "data": {
      "text/plain": "<Figure size 640x480 with 1 Axes>",
      "image/png": "[encoded data removed]"
     },
     "metadata": {},
     "output_type": "display_data"
    }
   ],
   "source": [
    "submssion_df = pd.read_csv('Database/rainfall_test.csv')\n",
    "submssion_df.loc[pred_rating_df.index, 'rainfall_test.class_interval'] = pred_rating_df['Prediction']\n",
    "plot_imabalance(submssion_df, 'rainfall_test.class_interval')"
   ],
   "metadata": {
    "collapsed": false,
    "ExecuteTime": {
     "end_time": "2024-06-24T10:15:08.456693700Z",
     "start_time": "2024-06-24T10:15:08.209652800Z"
    }
   },
   "id": "e633bc9728652e6e",
   "execution_count": 716
  },
  {
   "cell_type": "code",
   "outputs": [],
   "source": [
    "submssion_df.to_csv('File/240105.csv', index=False)"
   ],
   "metadata": {
    "collapsed": false
   },
   "id": "b433386a59f00b50",
   "execution_count": 545
  }
 ],
 "metadata": {
  "kernelspec": {
   "display_name": "Python 3",
   "language": "python",
   "name": "python3"
  },
  "language_info": {
   "codemirror_mode": {
    "name": "ipython",
    "version": 2
   },
   "file_extension": ".py",
   "mimetype": "text/x-python",
   "name": "python",
   "nbconvert_exporter": "python",
   "pygments_lexer": "ipython2",
   "version": "2.7.6"
  }
 },
 "nbformat": 4,
 "nbformat_minor": 5
}
