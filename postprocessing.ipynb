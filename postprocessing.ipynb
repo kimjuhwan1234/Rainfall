{
 "cells": [
  {
   "cell_type": "code",
   "outputs": [],
   "source": [
    "import os\n",
    "import warnings\n",
    "from joblib import load\n",
    "from utils.plot import *\n",
    "from utils.scaler import *\n",
    "from scipy.stats import entropy\n",
    "from matplotlib import pyplot as plt\n",
    "from IPython.core.interactiveshell import InteractiveShell"
   ],
   "metadata": {
    "collapsed": false,
    "ExecuteTime": {
     "end_time": "2024-06-28T09:06:04.544235700Z",
     "start_time": "2024-06-28T09:06:02.847962700Z"
    }
   },
   "id": "5a7365216f084516",
   "execution_count": 1
  },
  {
   "cell_type": "code",
   "outputs": [],
   "source": [
    "plt.rc('font', family='GULIM')\n",
    "warnings.filterwarnings(action='ignore')\n",
    "InteractiveShell.ast_node_interactivity = \"all\""
   ],
   "metadata": {
    "collapsed": false,
    "ExecuteTime": {
     "end_time": "2024-06-28T09:06:04.554577100Z",
     "start_time": "2024-06-28T09:06:04.547236600Z"
    }
   },
   "id": "d72017008e119bf8",
   "execution_count": 2
  },
  {
   "cell_type": "code",
   "outputs": [],
   "source": [
    "X_test = pd.read_csv('Database/test/X_self_test_norm.csv', index_col=0)\n",
    "# X_test = pd.read_csv('Database/test/X_real_test_norm.csv', index_col=0)\n",
    "y_test = pd.read_csv('Database/test/y_self_test.csv', index_col=0)"
   ],
   "metadata": {
    "collapsed": false,
    "ExecuteTime": {
     "end_time": "2024-06-28T09:06:05.120043700Z",
     "start_time": "2024-06-28T09:06:04.551576500Z"
    }
   },
   "id": "7c1006d94f65567c",
   "execution_count": 3
  },
  {
   "cell_type": "markdown",
   "source": [
    "# Best-model dict 저장"
   ],
   "metadata": {
    "collapsed": false
   },
   "id": "1bfa8079036ea622"
  },
  {
   "cell_type": "code",
   "outputs": [],
   "source": [
    "GMM_list = [i for i in range(20)]\n",
    "GMM_list.remove(1)\n",
    "\n",
    "lgb_files = sorted(filename for filename in os.listdir('File/LGBM') if filename.endswith('.pkl'))\n",
    "xgb_files = sorted(filename for filename in os.listdir('File/XGB') if filename.endswith('.pkl'))\n",
    "cat_files = sorted(filename for filename in os.listdir('File/CAT') if filename.endswith('.pkl'))\n",
    "\n",
    "best_lgb_dict = {}\n",
    "best_xgb_dict = {}\n",
    "best_cat_dict = {}\n",
    "\n",
    "for i, STN in enumerate(GMM_list):\n",
    "    best_lgb_dict[STN] = load(os.path.join('File/LGBM', lgb_files[i]))\n",
    "    best_xgb_dict[STN] = load(os.path.join('File/XGB', xgb_files[i]))\n",
    "    best_cat_dict[STN] = load(os.path.join('File/CAT', cat_files[i]))"
   ],
   "metadata": {
    "collapsed": false,
    "ExecuteTime": {
     "end_time": "2024-06-28T09:06:20.643643300Z",
     "start_time": "2024-06-28T09:06:05.133170Z"
    }
   },
   "id": "3f33c9695b16819f",
   "execution_count": 5
  },
  {
   "cell_type": "markdown",
   "source": [
    "# 예측값 dict 저장"
   ],
   "metadata": {
    "collapsed": false
   },
   "id": "462eb93402957d8b"
  },
  {
   "cell_type": "code",
   "outputs": [],
   "source": [
    "pred_lgb_dict = {}\n",
    "pred_xgb_dict = {}\n",
    "pred_cat_dict = {}\n",
    "\n",
    "for i, STN in enumerate(GMM_list):\n",
    "    pred_lgb_dict[STN] = pd.DataFrame(best_lgb_dict[STN].predict_proba(X_test))\n",
    "    pred_xgb_dict[STN] = pd.DataFrame(best_xgb_dict[STN].predict_proba(X_test))\n",
    "    pred_cat_dict[STN] = pd.DataFrame(best_cat_dict[STN].predict_proba(X_test))"
   ],
   "metadata": {
    "collapsed": false,
    "ExecuteTime": {
     "end_time": "2024-06-28T09:06:50.445525800Z",
     "start_time": "2024-06-28T09:06:20.647773800Z"
    }
   },
   "id": "b4b4fa74771e9834",
   "execution_count": 6
  },
  {
   "cell_type": "markdown",
   "source": [
    "# 60개 싱글모델 예측값 DataFrame 저장"
   ],
   "metadata": {
    "collapsed": false
   },
   "id": "e278cbad0fd9c9e2"
  },
  {
   "cell_type": "code",
   "outputs": [],
   "source": [
    "prediction_list = []\n",
    "for i, STN in enumerate(GMM_list):\n",
    "    prediction_list.append(pred_lgb_dict[STN].values)\n",
    "    prediction_list.append(pred_xgb_dict[STN].values)\n",
    "    prediction_list.append(pred_cat_dict[STN].values)\n",
    "    predictions = np.array(prediction_list)"
   ],
   "metadata": {
    "collapsed": false,
    "ExecuteTime": {
     "end_time": "2024-06-28T09:06:51.855620300Z",
     "start_time": "2024-06-28T09:06:50.446568100Z"
    }
   },
   "id": "ac58b6078870d5f",
   "execution_count": 7
  },
  {
   "cell_type": "code",
   "outputs": [],
   "source": [
    "selected_indices = [i for i in range(57)]\n",
    "delete_list = [9, 11, 12, 21, 22, 27, 36, 39, 42, 43, 44, 45, 46, 47, 48, 49, 50, 51, 52, 53, 54, 55, 56]\n",
    "\n",
    "selected_indices=[p for p in selected_indices if p not in delete_list]\n",
    "selected_predictions = predictions[selected_indices]"
   ],
   "metadata": {
    "collapsed": false,
    "ExecuteTime": {
     "end_time": "2024-06-28T09:15:15.413334100Z",
     "start_time": "2024-06-28T09:15:15.245991Z"
    }
   },
   "id": "8154d7b3c58c9ef8",
   "execution_count": 39
  },
  {
   "cell_type": "markdown",
   "source": [
    "# Hard Voting"
   ],
   "metadata": {
    "collapsed": false
   },
   "id": "ebf3334f46073c73"
  },
  {
   "cell_type": "code",
   "outputs": [],
   "source": [
    "from scipy.stats import mode\n",
    "\n",
    "individual_predictions = np.argmax(selected_predictions, axis=2)\n",
    "\n",
    "final_predictions, _ = mode(individual_predictions, axis=0)\n",
    "final_predictions = final_predictions.ravel()\n",
    "HV_pred_df = pd.DataFrame(final_predictions, index=X_test.index)"
   ],
   "metadata": {
    "collapsed": false,
    "ExecuteTime": {
     "end_time": "2024-06-28T09:15:23.416525700Z",
     "start_time": "2024-06-28T09:15:17.098145500Z"
    }
   },
   "id": "732b0df447cb124",
   "execution_count": 42
  },
  {
   "cell_type": "markdown",
   "source": [
    "# Soft Voting"
   ],
   "metadata": {
    "collapsed": false
   },
   "id": "2eb6b7cf70d0a908"
  },
  {
   "cell_type": "code",
   "outputs": [],
   "source": [
    "average_predictions = np.mean(selected_predictions, axis=0)\n",
    "final_predictions = np.argmax(average_predictions, axis=1)\n",
    "SV_pred_df = pd.DataFrame(final_predictions, index=X_test.index)"
   ],
   "metadata": {
    "collapsed": false,
    "ExecuteTime": {
     "end_time": "2024-06-28T09:15:23.472320900Z",
     "start_time": "2024-06-28T09:15:23.419629400Z"
    }
   },
   "id": "24ab29780d71915",
   "execution_count": 43
  },
  {
   "cell_type": "markdown",
   "source": [
    "# Entropy Fuzzy"
   ],
   "metadata": {
    "collapsed": false
   },
   "id": "c523fc199d3c551b"
  },
  {
   "cell_type": "code",
   "outputs": [],
   "source": [
    "def fuzzy_ensemble_predict(predictions):\n",
    "    # 엔트로피 기반 가중치 계산\n",
    "    entropies = np.array([entropy(pred.T) for pred in predictions])\n",
    "    weights = 1 - entropies / np.max(entropies)\n",
    "    weights = weights / np.sum(weights, axis=0)\n",
    "\n",
    "    # 가중 평균 계산\n",
    "    weighted_predictions = np.zeros((predictions.shape[1], predictions.shape[2]))\n",
    "\n",
    "    # 가중치를 적용한 최종 예측 계산\n",
    "    for i in range(predictions.shape[0]):\n",
    "        weighted_predictions += weights[i, :, np.newaxis] * predictions[i]\n",
    "    final_predictions = np.argmax(weighted_predictions, axis=1)\n",
    "    return final_predictions\n",
    "\n",
    "\n",
    "ensembled_pred = fuzzy_ensemble_predict(selected_predictions)"
   ],
   "metadata": {
    "collapsed": false,
    "ExecuteTime": {
     "end_time": "2024-06-28T09:15:24.659046600Z",
     "start_time": "2024-06-28T09:15:23.475396Z"
    }
   },
   "id": "61631d954c4c4bd",
   "execution_count": 44
  },
  {
   "cell_type": "code",
   "outputs": [],
   "source": [
    "EF_pred_df = pd.DataFrame(ensembled_pred, index=X_test.index)"
   ],
   "metadata": {
    "collapsed": false,
    "ExecuteTime": {
     "end_time": "2024-06-28T09:15:24.671277900Z",
     "start_time": "2024-06-28T09:15:24.661573700Z"
    }
   },
   "id": "d1cb975da7f68f86",
   "execution_count": 45
  },
  {
   "cell_type": "markdown",
   "source": [
    "# CSI 계산"
   ],
   "metadata": {
    "collapsed": false
   },
   "id": "fa6606581368331b"
  },
  {
   "cell_type": "code",
   "outputs": [
    {
     "data": {
      "text/plain": "0.029045011112572787"
     },
     "execution_count": 46,
     "metadata": {},
     "output_type": "execute_result"
    }
   ],
   "source": [
    "# data = pd.concat([pd.DataFrame(np.argmax(predictions[28], axis=1), index=y_test.index), y_test], axis=1)\n",
    "# data = pd.concat([HV_pred_df, y_test], axis=1)\n",
    "# data = pd.concat([SV_pred_df, y_test], axis=1)\n",
    "data = pd.concat([EF_pred_df, y_test], axis=1)\n",
    "mapping = {\n",
    "    0: \"<0.1\",\n",
    "    1: \"0.1<=X<0.2\",\n",
    "    2: \"0.2<=X<0.5\",\n",
    "    3: \"0.5<=X<1\",\n",
    "    4: \"1<=X<2\",\n",
    "    5: \"2<=X<5\",\n",
    "    6: \"5<=X<10\",\n",
    "    7: \"10<=X<20\",\n",
    "    8: \"20<=X<30\",\n",
    "    9: \"X>=30\"\n",
    "}\n",
    "\n",
    "data['predicted'] = data.iloc[:, 0].map(mapping)\n",
    "data['observed'] = data.iloc[:, 1].map(mapping)\n",
    "\n",
    "csi_categories = [\"<0.1\", \"0.1<=X<0.2\", \"0.2<=X<0.5\", \"0.5<=X<1\", \"1<=X<2\", \"2<=X<5\", \"5<=X<10\", \"10<=X<20\", \"20<=X<30\",\n",
    "                  \"X>=30\"]\n",
    "csi_table = pd.DataFrame(0, index=csi_categories, columns=csi_categories)\n",
    "\n",
    "for index, row in data.iterrows():\n",
    "    observed = row['observed']\n",
    "    predicted = row['predicted']\n",
    "    csi_table.at[observed, predicted] += 1\n",
    "\n",
    "cal_CSI(csi_table)"
   ],
   "metadata": {
    "collapsed": false,
    "ExecuteTime": {
     "end_time": "2024-06-28T09:15:39.223924300Z",
     "start_time": "2024-06-28T09:15:24.667264900Z"
    }
   },
   "id": "ad7389a2709eee08",
   "execution_count": 46
  },
  {
   "cell_type": "markdown",
   "source": [
    "# Real-test prediction 저장"
   ],
   "metadata": {
    "collapsed": false
   },
   "id": "bd3659d0d5783184"
  },
  {
   "cell_type": "code",
   "outputs": [
    {
     "data": {
      "text/plain": "<Figure size 640x480 with 1 Axes>",
      "image/png": "[encoded data removed]"
     },
     "metadata": {},
     "output_type": "display_data"
    }
   ],
   "source": [
    "plot_imabalance(EF_pred_df, 0)"
   ],
   "metadata": {
    "collapsed": false,
    "ExecuteTime": {
     "end_time": "2024-06-28T09:15:39.334599400Z",
     "start_time": "2024-06-28T09:15:39.220891400Z"
    }
   },
   "id": "7780eb38bc6aaf42",
   "execution_count": 48
  },
  {
   "cell_type": "code",
   "outputs": [
    {
     "data": {
      "text/plain": "<Figure size 640x480 with 1 Axes>",
      "image/png": "[encoded data removed]"
     },
     "metadata": {},
     "output_type": "display_data"
    }
   ],
   "source": [
    "submssion_df = pd.read_csv('Database/rainfall_test.csv')\n",
    "submssion_df.loc[EF_pred_df.index, 'rainfall_test.class_interval'] = EF_pred_df[0]\n",
    "plot_imabalance(submssion_df, 'rainfall_test.class_interval')"
   ],
   "metadata": {
    "collapsed": false,
    "ExecuteTime": {
     "end_time": "2024-06-27T15:13:57.859950200Z",
     "start_time": "2024-06-27T15:13:57.431031100Z"
    }
   },
   "id": "e633bc9728652e6e",
   "execution_count": 343
  },
  {
   "cell_type": "code",
   "outputs": [],
   "source": [
    "submssion_df.to_csv('File/240105.csv', index=False)"
   ],
   "metadata": {
    "collapsed": false,
    "ExecuteTime": {
     "end_time": "2024-06-27T15:14:03.375375500Z",
     "start_time": "2024-06-27T15:14:02.790733400Z"
    }
   },
   "id": "b433386a59f00b50",
   "execution_count": 344
  }
 ],
 "metadata": {
  "kernelspec": {
   "display_name": "Python 3",
   "language": "python",
   "name": "python3"
  },
  "language_info": {
   "codemirror_mode": {
    "name": "ipython",
    "version": 2
   },
   "file_extension": ".py",
   "mimetype": "text/x-python",
   "name": "python",
   "nbconvert_exporter": "python",
   "pygments_lexer": "ipython2",
   "version": "2.7.6"
  }
 },
 "nbformat": 4,
 "nbformat_minor": 5
}
