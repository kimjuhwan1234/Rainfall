{
 "cells": [
  {
   "cell_type": "code",
   "outputs": [],
   "source": [
    "import os\n",
    "import warnings\n",
    "\n",
    "import pandas as pd\n",
    "\n",
    "from joblib import load\n",
    "from utils.plot import *\n",
    "from utils.scaler import *\n",
    "from sklearn.metrics import *\n",
    "from scipy.stats import entropy\n",
    "from matplotlib import pyplot as plt\n",
    "from IPython.core.interactiveshell import InteractiveShell"
   ],
   "metadata": {
    "collapsed": false,
    "ExecuteTime": {
     "end_time": "2024-06-25T06:05:57.556135500Z",
     "start_time": "2024-06-25T06:05:57.539103200Z"
    }
   },
   "id": "5a7365216f084516",
   "execution_count": 19
  },
  {
   "cell_type": "code",
   "outputs": [],
   "source": [
    "plt.rc('font', family='GULIM')\n",
    "warnings.filterwarnings(action='ignore')\n",
    "InteractiveShell.ast_node_interactivity = \"all\""
   ],
   "metadata": {
    "collapsed": false,
    "ExecuteTime": {
     "end_time": "2024-06-25T06:05:57.843273Z",
     "start_time": "2024-06-25T06:05:57.833765700Z"
    }
   },
   "id": "d72017008e119bf8",
   "execution_count": 20
  },
  {
   "cell_type": "code",
   "outputs": [],
   "source": [
    "X_test = pd.read_csv('Database/test/X_self_test_norm.csv', index_col=0)\n",
    "# X_test = pd.read_csv('Database/test/X_real_test_norm.csv', index_col=0)\n",
    "y_test = pd.read_csv('Database/test/y_self_test.csv', index_col=0)"
   ],
   "metadata": {
    "collapsed": false,
    "ExecuteTime": {
     "end_time": "2024-06-25T06:05:59.519788600Z",
     "start_time": "2024-06-25T06:05:58.397789500Z"
    }
   },
   "id": "7c1006d94f65567c",
   "execution_count": 21
  },
  {
   "cell_type": "code",
   "outputs": [
    {
     "data": {
      "text/plain": "(144897, 57)"
     },
     "execution_count": 84,
     "metadata": {},
     "output_type": "execute_result"
    }
   ],
   "source": [
    "X_test.shape"
   ],
   "metadata": {
    "collapsed": false,
    "ExecuteTime": {
     "end_time": "2024-06-25T07:01:22.079871100Z",
     "start_time": "2024-06-25T07:01:22.066333100Z"
    }
   },
   "id": "2a9e9a019d00b7a9",
   "execution_count": 84
  },
  {
   "cell_type": "markdown",
   "source": [
    "# Best-model dict 저장"
   ],
   "metadata": {
    "collapsed": false
   },
   "id": "1bfa8079036ea622"
  },
  {
   "cell_type": "code",
   "outputs": [],
   "source": [
    "STN_list = ['STN001', 'STN002', 'STN003', 'STN004', 'STN005', 'STN006', 'STN007', 'STN008', 'STN009', 'STN010',\n",
    "            'STN011', 'STN012', 'STN013', 'STN014', 'STN015', 'STN016', 'STN017', 'STN018', 'STN019', 'STN020']\n",
    "\n",
    "GMM_list = [f'GMM{i}' for i in range(1)]\n",
    "\n",
    "dt_files = sorted(filename for filename in os.listdir('File/DT') if filename.endswith('.pkl'))\n",
    "lgb_files = sorted(filename for filename in os.listdir('File/LGBM') if filename.endswith('.pkl'))\n",
    "# xgb_files = sorted(filename for filename in os.listdir('File/XGB') if filename.endswith('.pkl'))\n",
    "# cat_files = sorted(filename for filename in os.listdir('File/CAT') if filename.endswith('.pkl'))\n",
    "\n",
    "best_dt_dict = {}\n",
    "best_lgb_dict = {}\n",
    "# best_xgb_dict = {}\n",
    "# best_cat_dict = {}\n",
    "\n",
    "for i, STN in enumerate(GMM_list):\n",
    "    best_dt_dict[STN] = load(os.path.join('File/DT', dt_files[i]))\n",
    "    best_lgb_dict[STN] = load(os.path.join('File/LGBM', lgb_files[i]))\n",
    "    # best_xgb_dict[STN] = load(os.path.join('File/XGB', xgb_files[i]))\n",
    "    # best_cat_dict[STN] = load(os.path.join('File/CAT', cat_files[i]))"
   ],
   "metadata": {
    "collapsed": false,
    "ExecuteTime": {
     "end_time": "2024-06-25T06:06:08.723752400Z",
     "start_time": "2024-06-25T06:06:08.448696100Z"
    }
   },
   "id": "3f33c9695b16819f",
   "execution_count": 23
  },
  {
   "cell_type": "markdown",
   "source": [
    "# 예측값 dict 저장"
   ],
   "metadata": {
    "collapsed": false
   },
   "id": "462eb93402957d8b"
  },
  {
   "cell_type": "code",
   "outputs": [],
   "source": [
    "pred_dt_dict = {}\n",
    "pred_lgb_dict = {}\n",
    "# pred_xgb_dict = {}\n",
    "# pred_cat_dict = {}\n",
    "\n",
    "# 아무것도 안했을 때\n",
    "for i, STN in enumerate(GMM_list):\n",
    "    pred_dt_dict[STN] = pd.DataFrame(best_dt_dict[STN].predict_proba(X_test))\n",
    "    pred_lgb_dict[STN] = pd.DataFrame(best_lgb_dict[STN].predict_proba(X_test))\n",
    "    # pred_xgb_dict[STN] = pd.DataFrame(best_xgb_dict[STN].predict_proba(X_test))\n",
    "    # pred_cat_dict[STN] = pd.DataFrame(best_cat_dict[STN].predict_proba(X_test))"
   ],
   "metadata": {
    "collapsed": false,
    "ExecuteTime": {
     "end_time": "2024-06-25T06:06:11.913726400Z",
     "start_time": "2024-06-25T06:06:10.086684400Z"
    }
   },
   "id": "b4b4fa74771e9834",
   "execution_count": 24
  },
  {
   "cell_type": "markdown",
   "source": [
    "# 60개 싱글모델 예측값 DataFrame 저장"
   ],
   "metadata": {
    "collapsed": false
   },
   "id": "e278cbad0fd9c9e2"
  },
  {
   "cell_type": "code",
   "outputs": [],
   "source": [
    "# prediction_df = np.array()\n",
    "# for i, STN in enumerate(GMM_list):\n",
    "#     prediction_df = pd.concat(\n",
    "#         [prediction_df,\n",
    "#          pd.DataFrame(pred_dt_dict[STN].values),\n",
    "#          pd.DataFrame(pred_lgb_dict[STN].values),\n",
    "#          pd.DataFrame(pred_xgb_dict[STN].values, columns=[f'xgb_{STN}']),\n",
    "#          pd.DataFrame(pred_cat_dict[STN].values, columns=[f'cat_{STN}'])\n",
    "#          ], axis=1)\n",
    "\n",
    "# prediction_df.index = X_test.index"
   ],
   "metadata": {
    "collapsed": false,
    "ExecuteTime": {
     "end_time": "2024-06-25T06:06:55.188267700Z",
     "start_time": "2024-06-25T06:06:55.131759500Z"
    }
   },
   "id": "72ee1d3c4292bb75",
   "execution_count": 28
  },
  {
   "cell_type": "code",
   "outputs": [],
   "source": [
    "prediction_list = []\n",
    "for i, STN in enumerate(GMM_list):\n",
    "         prediction_list.append(pred_dt_dict[STN].values)\n",
    "         prediction_list.append(pred_lgb_dict[STN].values)\n",
    "         predictions = np.array(prediction_list)"
   ],
   "metadata": {
    "collapsed": false,
    "ExecuteTime": {
     "end_time": "2024-06-25T06:27:06.675645900Z",
     "start_time": "2024-06-25T06:27:06.657766700Z"
    }
   },
   "id": "ac58b6078870d5f",
   "execution_count": 38
  },
  {
   "cell_type": "markdown",
   "source": [
    "# 60개 싱글모델 metric DataFrame 저장"
   ],
   "metadata": {
    "collapsed": false
   },
   "id": "590d1c88bbe3aee3"
  },
  {
   "cell_type": "code",
   "outputs": [],
   "source": [
    "# metric_df = pd.DataFrame(columns=['R2', 'RMSE', 'MAE', 'MAPE'])\n",
    "# for i, STN in enumerate(GMM_list):\n",
    "#     metric_df = pd.concat(\n",
    "#         [metric_df, pd.DataFrame([r2_score(y_test.values, pred_dt_dict[STN]),\n",
    "#                                   root_mean_squared_error(y_test.values, pred_dt_dict[STN]),\n",
    "#                                   mean_absolute_error(y_test.values, pred_dt_dict[STN]),\n",
    "#                                   mean_absolute_percentage_error(y_test.values, pred_dt_dict[STN])],\n",
    "#                                  index=metric_df.columns, columns=[f'DT_{STN}']).T], axis=0)\n",
    "# \n",
    "#     metric_df = pd.concat(\n",
    "#         [metric_df, pd.DataFrame([r2_score(y_test.values, pred_lgb_dict[STN]),\n",
    "#                                   root_mean_squared_error(y_test.values, pred_lgb_dict[STN]),\n",
    "#                                   mean_absolute_error(y_test.values, pred_lgb_dict[STN]),\n",
    "#                                   mean_absolute_percentage_error(y_test.values, pred_lgb_dict[STN])],\n",
    "#                                  index=metric_df.columns, columns=[f'LGB_{STN}']).T], axis=0)\n",
    "# \n",
    "#     metric_df = pd.concat(\n",
    "#         [metric_df, pd.DataFrame([r2_score(y_test.values, pred_xgb_dict[STN]),\n",
    "#                                   root_mean_squared_error(y_test.values, pred_xgb_dict[STN]),\n",
    "#                                   mean_absolute_error(y_test.values, pred_xgb_dict[STN]),\n",
    "#                                   mean_absolute_percentage_error(y_test.values, pred_xgb_dict[STN])],\n",
    "#                                  index=metric_df.columns, columns=[f'XGB_{STN}']).T], axis=0)\n",
    "# \n",
    "#     metric_df = pd.concat(\n",
    "#         [metric_df, pd.DataFrame([r2_score(y_test.values, pred_cat_dict[STN]),\n",
    "#                                   root_mean_squared_error(y_test.values, pred_cat_dict[STN]),\n",
    "#                                   mean_absolute_error(y_test.values, pred_cat_dict[STN]),\n",
    "#                                   mean_absolute_percentage_error(y_test.values, pred_cat_dict[STN])],\n",
    "#                                  index=metric_df.columns, columns=[f'CAT_{STN}']).T], axis=0)"
   ],
   "metadata": {
    "collapsed": false,
    "ExecuteTime": {
     "end_time": "2024-06-24T12:32:07.558543400Z",
     "start_time": "2024-06-24T12:32:07.006601200Z"
    }
   },
   "id": "f51c1617f0eaa62",
   "execution_count": 22
  },
  {
   "cell_type": "markdown",
   "source": [
    "# Entropy Fuzzy"
   ],
   "metadata": {
    "collapsed": false
   },
   "id": "c523fc199d3c551b"
  },
  {
   "cell_type": "code",
   "outputs": [],
   "source": [
    "def fuzzy_ensemble_predict(predictions):\n",
    "    # 엔트로피 기반 가중치 계산\n",
    "    entropies = np.array([entropy(pred.T) for pred in predictions])\n",
    "    weights = 1 - entropies / np.max(entropies)\n",
    "    weights = weights / np.sum(weights, axis=0)\n",
    "\n",
    "    # 가중 평균 계산\n",
    "    weighted_predictions = np.zeros((predictions.shape[1], predictions.shape[2]))\n",
    "\n",
    "    # 가중치를 적용한 최종 예측 계산\n",
    "    for i in range(predictions.shape[0]):\n",
    "        weighted_predictions += weights[i, :, np.newaxis] * predictions[i]\n",
    "    final_predictions = np.argmax(weighted_predictions, axis=1)\n",
    "    return final_predictions\n",
    "\n",
    "# 퍼지 앙상블로 예측\n",
    "ensembled_pred = fuzzy_ensemble_predict(predictions)"
   ],
   "metadata": {
    "collapsed": false,
    "ExecuteTime": {
     "end_time": "2024-06-25T06:58:23.493336700Z",
     "start_time": "2024-06-25T06:58:23.402994100Z"
    }
   },
   "id": "61631d954c4c4bd",
   "execution_count": 77
  },
  {
   "cell_type": "code",
   "outputs": [],
   "source": [
    "ensembled_pred_df=pd.DataFrame(ensembled_pred, index= y_test.index)"
   ],
   "metadata": {
    "collapsed": false,
    "ExecuteTime": {
     "end_time": "2024-06-25T06:59:22.820002900Z",
     "start_time": "2024-06-25T06:59:22.810662500Z"
    }
   },
   "id": "d1cb975da7f68f86",
   "execution_count": 80
  },
  {
   "cell_type": "markdown",
   "source": [
    "# CSI 계산"
   ],
   "metadata": {
    "collapsed": false
   },
   "id": "fa6606581368331b"
  },
  {
   "cell_type": "code",
   "outputs": [
    {
     "data": {
      "text/plain": "0.03322226090416273"
     },
     "execution_count": 83,
     "metadata": {},
     "output_type": "execute_result"
    }
   ],
   "source": [
    "data = pd.concat([ensembled_pred_df, y_test], axis=1)\n",
    "\n",
    "mapping = {\n",
    "    0: \"<0.1\",\n",
    "    1: \"0.1<=X<0.2\",\n",
    "    2: \"0.2<=X<0.5\",\n",
    "    3: \"0.5<=X<1\",\n",
    "    4: \"1<=X<2\",\n",
    "    5: \"2<=X<5\",\n",
    "    6: \"5<=X<10\",\n",
    "    7: \"10<=X<20\",\n",
    "    8: \"20<=X<30\",\n",
    "    9: \"X>=30\"\n",
    "}\n",
    "\n",
    "data['predicted'] = data.iloc[:, 0].map(mapping)\n",
    "data['observed'] = data.iloc[:, 1].map(mapping)\n",
    "\n",
    "csi_categories = [\"<0.1\", \"0.1<=X<0.2\", \"0.2<=X<0.5\", \"0.5<=X<1\", \"1<=X<2\", \"2<=X<5\", \"5<=X<10\", \"10<=X<20\", \"20<=X<30\",\n",
    "                  \"X>=30\"]\n",
    "csi_table = pd.DataFrame(0, index=csi_categories, columns=csi_categories)\n",
    "\n",
    "for index, row in data.iterrows():\n",
    "    observed = row['observed']\n",
    "    predicted = row['predicted']\n",
    "    csi_table.at[observed, predicted] += 1\n",
    "\n",
    "cal_CSI(csi_table)"
   ],
   "metadata": {
    "collapsed": false,
    "ExecuteTime": {
     "end_time": "2024-06-25T07:00:14.133837500Z",
     "start_time": "2024-06-25T06:59:57.941943Z"
    }
   },
   "id": "ad7389a2709eee08",
   "execution_count": 83
  },
  {
   "cell_type": "markdown",
   "source": [
    "# Real-test prediction 저장"
   ],
   "metadata": {
    "collapsed": false
   },
   "id": "bd3659d0d5783184"
  },
  {
   "cell_type": "code",
   "outputs": [
    {
     "data": {
      "text/plain": "<Figure size 640x480 with 1 Axes>",
      "image/png": "[encoded data removed]"
     },
     "metadata": {},
     "output_type": "display_data"
    }
   ],
   "source": [
    "pred_rating_df2 = prediction_df.applymap(lambda x: map_values(x))\n",
    "plot_imabalance(pred_rating_df2, 'lgb_GMM14')"
   ],
   "metadata": {
    "collapsed": false,
    "ExecuteTime": {
     "end_time": "2024-06-24T11:46:50.514467Z",
     "start_time": "2024-06-24T11:46:47.518074300Z"
    }
   },
   "id": "55f4b01c95b4a688",
   "execution_count": 752
  },
  {
   "cell_type": "code",
   "outputs": [
    {
     "data": {
      "text/plain": "<Figure size 640x480 with 1 Axes>",
      "image/png": "[encoded data removed]"
     },
     "metadata": {},
     "output_type": "display_data"
    }
   ],
   "source": [
    "submssion_df = pd.read_csv('Database/rainfall_test.csv')\n",
    "submssion_df.loc[pred_rating_df.index, 'rainfall_test.class_interval'] = pred_rating_df['Prediction']\n",
    "plot_imabalance(submssion_df, 'rainfall_test.class_interval')"
   ],
   "metadata": {
    "collapsed": false,
    "ExecuteTime": {
     "end_time": "2024-06-24T12:44:46.847346200Z",
     "start_time": "2024-06-24T12:44:46.597101700Z"
    }
   },
   "id": "e633bc9728652e6e",
   "execution_count": 84
  },
  {
   "cell_type": "code",
   "outputs": [],
   "source": [
    "submssion_df.to_csv('File/240105.csv', index=False)"
   ],
   "metadata": {
    "collapsed": false
   },
   "id": "b433386a59f00b50",
   "execution_count": 545
  }
 ],
 "metadata": {
  "kernelspec": {
   "display_name": "Python 3",
   "language": "python",
   "name": "python3"
  },
  "language_info": {
   "codemirror_mode": {
    "name": "ipython",
    "version": 2
   },
   "file_extension": ".py",
   "mimetype": "text/x-python",
   "name": "python",
   "nbconvert_exporter": "python",
   "pygments_lexer": "ipython2",
   "version": "2.7.6"
  }
 },
 "nbformat": 4,
 "nbformat_minor": 5
}
