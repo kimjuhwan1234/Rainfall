{
 "cells": [
  {
   "cell_type": "code",
   "outputs": [],
   "source": [
    "import os\n",
    "import warnings\n",
    "from joblib import load\n",
    "from utils.scaler import *\n",
    "from sklearn.metrics import *\n",
    "from matplotlib import pyplot as plt\n",
    "from IPython.core.interactiveshell import InteractiveShell"
   ],
   "metadata": {
    "collapsed": false,
    "ExecuteTime": {
     "end_time": "2024-06-20T12:08:26.488927900Z",
     "start_time": "2024-06-20T12:08:25.010322800Z"
    }
   },
   "id": "5a7365216f084516",
   "execution_count": 1
  },
  {
   "cell_type": "code",
   "outputs": [],
   "source": [
    "plt.rc('font', family='GULIM')\n",
    "warnings.filterwarnings(action='ignore')\n",
    "InteractiveShell.ast_node_interactivity = \"all\""
   ],
   "metadata": {
    "collapsed": false,
    "ExecuteTime": {
     "end_time": "2024-06-20T12:08:26.499814500Z",
     "start_time": "2024-06-20T12:08:26.491928600Z"
    }
   },
   "id": "d72017008e119bf8",
   "execution_count": 2
  },
  {
   "cell_type": "code",
   "outputs": [],
   "source": [
    "X_test = pd.read_csv('Database/test/X_self_test_norm.csv', index_col=0)\n",
    "y_test = pd.read_csv('Database/test/y_self_test.csv', index_col=0)\n",
    "y_test = inverse_boxcox(y_test, -0.4431146771093272) - 0.000001"
   ],
   "metadata": {
    "collapsed": false,
    "ExecuteTime": {
     "end_time": "2024-06-20T12:08:27.093185800Z",
     "start_time": "2024-06-20T12:08:26.496740200Z"
    }
   },
   "id": "7c1006d94f65567c",
   "execution_count": 3
  },
  {
   "cell_type": "markdown",
   "source": [
    "# Best-model dict 저장"
   ],
   "metadata": {
    "collapsed": false
   },
   "id": "1bfa8079036ea622"
  },
  {
   "cell_type": "code",
   "outputs": [],
   "source": [
    "STN_list = ['STN001', 'STN002', 'STN003', 'STN004', 'STN005', 'STN006', 'STN007', 'STN008', 'STN009', 'STN010',\n",
    "            'STN011', 'STN012', 'STN013', 'STN014', 'STN015', 'STN016', 'STN017', 'STN018', 'STN019', 'STN020']\n",
    "\n",
    "STN_list = ['STN001']\n",
    "\n",
    "dt_files = sorted(filename for filename in os.listdir('File/DT') if filename.endswith('.pkl'))\n",
    "lgb_files = sorted(filename for filename in os.listdir('File/LGBM') if filename.endswith('.pkl'))\n",
    "xgb_files = sorted(filename for filename in os.listdir('File/XGB') if filename.endswith('.pkl'))\n",
    "cat_files = sorted(filename for filename in os.listdir('File/CAT') if filename.endswith('.pkl'))\n",
    "\n",
    "best_dt_dict = {}\n",
    "best_lgb_dict = {}\n",
    "best_xgb_dict = {}\n",
    "best_cat_dict = {}\n",
    "\n",
    "for i, STN in enumerate(STN_list):\n",
    "    best_dt_dict[STN] = load(os.path.join('File/DT', dt_files[i]))\n",
    "    best_lgb_dict[STN] = load(os.path.join('File/LGBM', lgb_files[i]))\n",
    "    best_xgb_dict[STN] = load(os.path.join('File/XGB', xgb_files[i]))\n",
    "    best_cat_dict[STN] = load(os.path.join('File/CAT', cat_files[i]))"
   ],
   "metadata": {
    "collapsed": false,
    "ExecuteTime": {
     "end_time": "2024-06-20T12:08:27.415595600Z",
     "start_time": "2024-06-20T12:08:27.087942400Z"
    }
   },
   "id": "3f33c9695b16819f",
   "execution_count": 4
  },
  {
   "cell_type": "markdown",
   "source": [
    "# BoxCox 역변환 & 예측값 dict 저장"
   ],
   "metadata": {
    "collapsed": false
   },
   "id": "462eb93402957d8b"
  },
  {
   "cell_type": "code",
   "outputs": [],
   "source": [
    "pred_dt_dict = {}\n",
    "pred_lgb_dict = {}\n",
    "pred_xgb_dict = {}\n",
    "pred_cat_dict = {}\n",
    "\n",
    "for i, STN in enumerate(STN_list):\n",
    "    pred_dt_dict[STN] = inverse_boxcox(pd.DataFrame(best_dt_dict[STN].predict(X_test)), -0.4431146771093272) - 0.000001\n",
    "    pred_lgb_dict[STN] = inverse_boxcox(pd.DataFrame(best_dt_dict[STN].predict(X_test)), -0.4431146771093272) - 0.000001\n",
    "    pred_xgb_dict[STN] = inverse_boxcox(pd.DataFrame(best_dt_dict[STN].predict(X_test)), -0.4431146771093272) - 0.000001\n",
    "    pred_cat_dict[STN] = inverse_boxcox(pd.DataFrame(best_dt_dict[STN].predict(X_test)), -0.4431146771093272) - 0.000001"
   ],
   "metadata": {
    "collapsed": false,
    "ExecuteTime": {
     "end_time": "2024-06-20T12:08:27.586996800Z",
     "start_time": "2024-06-20T12:08:27.418596500Z"
    }
   },
   "id": "b7f89124448c0517",
   "execution_count": 5
  },
  {
   "cell_type": "markdown",
   "source": [
    "# 60개 싱글모델 예측값 DataFrame 저장"
   ],
   "metadata": {
    "collapsed": false
   },
   "id": "e278cbad0fd9c9e2"
  },
  {
   "cell_type": "code",
   "outputs": [],
   "source": [
    "prediction_df = pd.DataFrame()\n",
    "for i, STN in enumerate(STN_list):\n",
    "    prediction_df = pd.concat(\n",
    "        [prediction_df,\n",
    "         pd.DataFrame(pred_dt_dict[STN].values, columns=[f'DT_{STN}']),\n",
    "         pd.DataFrame(pred_lgb_dict[STN].values, columns=[f'lgb_{STN}']),\n",
    "         pd.DataFrame(pred_xgb_dict[STN].values, columns=[f'xgb_{STN}']),\n",
    "         pd.DataFrame(pred_cat_dict[STN].values, columns=[f'cat_{STN}'])], axis=1)\n",
    "prediction_df.index = X_test.index"
   ],
   "metadata": {
    "collapsed": false,
    "ExecuteTime": {
     "end_time": "2024-06-20T12:08:27.597848900Z",
     "start_time": "2024-06-20T12:08:27.589997500Z"
    }
   },
   "id": "72ee1d3c4292bb75",
   "execution_count": 6
  },
  {
   "cell_type": "markdown",
   "source": [
    "# 60개 싱글모델 metric DataFrame 저장"
   ],
   "metadata": {
    "collapsed": false
   },
   "id": "590d1c88bbe3aee3"
  },
  {
   "cell_type": "code",
   "outputs": [],
   "source": [
    "metric_df = pd.DataFrame(columns=['R2', 'RMSE', 'MAE', 'MAPE'])\n",
    "for i, STN in enumerate(STN_list):\n",
    "    metric_df = pd.concat(\n",
    "        [metric_df, pd.DataFrame([r2_score(y_test.values, pred_dt_dict[STN]),\n",
    "                                  root_mean_squared_error(y_test.values, pred_dt_dict[STN]),\n",
    "                                  mean_absolute_error(y_test.values, pred_dt_dict[STN]),\n",
    "                                  mean_absolute_percentage_error(y_test.values, pred_dt_dict[STN])],\n",
    "                                 index=metric_df.columns, columns=[f'DT_{STN}']).T], axis=0)\n",
    "\n",
    "    metric_df = pd.concat(\n",
    "        [metric_df, pd.DataFrame([r2_score(y_test.values, pred_lgb_dict[STN]),\n",
    "                                  root_mean_squared_error(y_test.values, pred_lgb_dict[STN]),\n",
    "                                  mean_absolute_error(y_test.values, pred_lgb_dict[STN]),\n",
    "                                  mean_absolute_percentage_error(y_test.values, pred_lgb_dict[STN])],\n",
    "                                 index=metric_df.columns, columns=[f'LGB_{STN}']).T], axis=0)\n",
    "\n",
    "    metric_df = pd.concat(\n",
    "        [metric_df, pd.DataFrame([r2_score(y_test.values, pred_xgb_dict[STN]),\n",
    "                                  root_mean_squared_error(y_test.values, pred_xgb_dict[STN]),\n",
    "                                  mean_absolute_error(y_test.values, pred_xgb_dict[STN]),\n",
    "                                  mean_absolute_percentage_error(y_test.values, pred_xgb_dict[STN])],\n",
    "                                 index=metric_df.columns, columns=[f'XGB_{STN}']).T], axis=0)\n",
    "\n",
    "    metric_df = pd.concat(\n",
    "        [metric_df, pd.DataFrame([r2_score(y_test.values, pred_cat_dict[STN]),\n",
    "                                  root_mean_squared_error(y_test.values, pred_cat_dict[STN]),\n",
    "                                  mean_absolute_error(y_test.values, pred_cat_dict[STN]),\n",
    "                                  mean_absolute_percentage_error(y_test.values, pred_cat_dict[STN])],\n",
    "                                 index=metric_df.columns, columns=[f'CAT_{STN}']).T], axis=0)"
   ],
   "metadata": {
    "collapsed": false,
    "ExecuteTime": {
     "end_time": "2024-06-20T12:08:27.639947500Z",
     "start_time": "2024-06-20T12:08:27.599849100Z"
    }
   },
   "id": "f51c1617f0eaa62",
   "execution_count": 7
  },
  {
   "cell_type": "markdown",
   "source": [
    "# CSI 계산"
   ],
   "metadata": {
    "collapsed": false
   },
   "id": "fa6606581368331b"
  },
  {
   "cell_type": "code",
   "outputs": [],
   "source": [
    "pred_rating_df = prediction_df.applymap(lambda x: map_values(x))\n",
    "truth_rating_df = pd.DataFrame(y_test).applymap(lambda x: map_values(x))\n",
    "data = pd.concat([pred_rating_df.iloc[:, 0], truth_rating_df], axis=1)"
   ],
   "metadata": {
    "collapsed": false,
    "ExecuteTime": {
     "end_time": "2024-06-20T12:08:27.948905200Z",
     "start_time": "2024-06-20T12:08:27.639947500Z"
    }
   },
   "id": "7e524436a93d687b",
   "execution_count": 8
  },
  {
   "cell_type": "code",
   "outputs": [],
   "source": [
    "mapping = {\n",
    "    0: \"<0.1\",\n",
    "    1: \"0.1<=X<0.2\",\n",
    "    2: \"0.2<=X<0.5\",\n",
    "    3: \"0.5<=X<1\",\n",
    "    4: \"1<=X<2\",\n",
    "    5: \"2<=X<5\",\n",
    "    6: \"5<=X<10\",\n",
    "    7: \"10<=X<20\",\n",
    "    8: \"20<=X<30\",\n",
    "    9: \"X>=30\"\n",
    "}\n",
    "\n",
    "data['predicted'] = data.iloc[:, 0].map(mapping)\n",
    "data['observed'] = data.iloc[:, 1].map(mapping)\n",
    "\n",
    "csi_categories = [\"<0.1\", \"0.1<=X<0.2\", \"0.2<=X<0.5\", \"0.5<=X<1\", \"1<=X<2\", \"2<=X<5\", \"5<=X<10\", \"10<=X<20\", \"20<=X<30\",\n",
    "                  \"X>=30\"]\n",
    "csi_table = pd.DataFrame(0, index=csi_categories, columns=csi_categories)\n",
    "\n",
    "for index, row in data.iterrows():\n",
    "    observed = row['observed']\n",
    "    predicted = row['predicted']\n",
    "    csi_table.at[observed, predicted] += 1"
   ],
   "metadata": {
    "collapsed": false,
    "ExecuteTime": {
     "end_time": "2024-06-20T12:08:42.134663600Z",
     "start_time": "2024-06-20T12:08:27.949905800Z"
    }
   },
   "id": "ad7389a2709eee08",
   "execution_count": 9
  },
  {
   "cell_type": "code",
   "outputs": [
    {
     "data": {
      "text/plain": "0.0006335282651072125"
     },
     "execution_count": 10,
     "metadata": {},
     "output_type": "execute_result"
    }
   ],
   "source": [
    "cal_CSI(csi_table)"
   ],
   "metadata": {
    "collapsed": false,
    "ExecuteTime": {
     "end_time": "2024-06-20T12:08:42.142921600Z",
     "start_time": "2024-06-20T12:08:42.136664400Z"
    }
   },
   "id": "9b4c5e1fffd18ae",
   "execution_count": 10
  }
 ],
 "metadata": {
  "kernelspec": {
   "display_name": "Python 3",
   "language": "python",
   "name": "python3"
  },
  "language_info": {
   "codemirror_mode": {
    "name": "ipython",
    "version": 2
   },
   "file_extension": ".py",
   "mimetype": "text/x-python",
   "name": "python",
   "nbconvert_exporter": "python",
   "pygments_lexer": "ipython2",
   "version": "2.7.6"
  }
 },
 "nbformat": 4,
 "nbformat_minor": 5
}
