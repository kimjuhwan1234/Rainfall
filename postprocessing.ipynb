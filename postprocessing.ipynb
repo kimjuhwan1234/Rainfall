{
 "cells": [
  {
   "cell_type": "code",
   "outputs": [],
   "source": [
    "import os\n",
    "import warnings\n",
    "from joblib import load\n",
    "from utils.scaler import *\n",
    "from sklearn.metrics import *\n",
    "from matplotlib import pyplot as plt\n",
    "from IPython.core.interactiveshell import InteractiveShell"
   ],
   "metadata": {
    "collapsed": false,
    "ExecuteTime": {
     "end_time": "2024-06-20T09:22:55.019477600Z",
     "start_time": "2024-06-20T09:22:55.015971300Z"
    }
   },
   "id": "5a7365216f084516",
   "execution_count": 114
  },
  {
   "cell_type": "code",
   "outputs": [],
   "source": [
    "plt.rc('font', family='GULIM')\n",
    "warnings.filterwarnings(action='ignore')\n",
    "InteractiveShell.ast_node_interactivity = \"all\""
   ],
   "metadata": {
    "collapsed": false,
    "ExecuteTime": {
     "end_time": "2024-06-20T09:22:55.195728800Z",
     "start_time": "2024-06-20T09:22:55.192193300Z"
    }
   },
   "id": "d72017008e119bf8",
   "execution_count": 115
  },
  {
   "cell_type": "code",
   "outputs": [],
   "source": [
    "X_test = pd.read_csv('Database/test/X_self_test_norm.csv', index_col=0)\n",
    "y_test = pd.read_csv('Database/test/y_self_test.csv', index_col=0)\n",
    "target_scaler = load('Database/target_scaler.joblib')\n",
    "y_test = inverse_boxcox(y_test, -0.4431146771093272) - 0.000001"
   ],
   "metadata": {
    "collapsed": false,
    "ExecuteTime": {
     "end_time": "2024-06-20T09:22:55.973847700Z",
     "start_time": "2024-06-20T09:22:55.384631Z"
    }
   },
   "id": "7c1006d94f65567c",
   "execution_count": 116
  },
  {
   "cell_type": "code",
   "outputs": [],
   "source": [
    "STN_list = ['STN001', 'STN002', 'STN003', 'STN004', 'STN005', 'STN006', 'STN007', 'STN008', 'STN009', 'STN010',\n",
    "            'STN011', 'STN012', 'STN013', 'STN014', 'STN015', 'STN016', 'STN017', 'STN018', 'STN019', 'STN020']\n",
    "\n",
    "STN_list = ['STN001']\n",
    "\n",
    "dt_files = sorted(filename for filename in os.listdir('File/DT') if filename.endswith('.pkl'))\n",
    "lgb_files = sorted(filename for filename in os.listdir('File/LGBM') if filename.endswith('.pkl'))\n",
    "xgb_files = sorted(filename for filename in os.listdir('File/XGB') if filename.endswith('.pkl'))\n",
    "cat_files = sorted(filename for filename in os.listdir('File/CAT') if filename.endswith('.pkl'))\n",
    "\n",
    "best_dt_dict = {}\n",
    "best_lgb_dict = {}\n",
    "best_xgb_dict = {}\n",
    "best_cat_dict = {}\n",
    "\n",
    "for i, STN in enumerate(STN_list):\n",
    "    best_dt_dict[STN] = load(os.path.join('File/DT', dt_files[i]))\n",
    "    best_lgb_dict[STN] = load(os.path.join('File/LGBM', lgb_files[i]))\n",
    "    best_xgb_dict[STN] = load(os.path.join('File/XGB', xgb_files[i]))\n",
    "    best_cat_dict[STN] = load(os.path.join('File/CAT', cat_files[i]))"
   ],
   "metadata": {
    "collapsed": false,
    "ExecuteTime": {
     "end_time": "2024-06-20T09:22:56.050142500Z",
     "start_time": "2024-06-20T09:22:55.976848Z"
    }
   },
   "id": "3f33c9695b16819f",
   "execution_count": 117
  },
  {
   "cell_type": "code",
   "outputs": [],
   "source": [
    "pred_dt_dict = {}\n",
    "pred_lgb_dict = {}\n",
    "pred_xgb_dict = {}\n",
    "pred_cat_dict = {}\n",
    "\n",
    "for i, STN in enumerate(STN_list):\n",
    "    pred_dt_dict[STN] = inverse_boxcox(\n",
    "        target_scaler.inverse_transform(pd.DataFrame(best_dt_dict[STN].predict(X_test))),\n",
    "        -0.4431146771093272) - 0.000001\n",
    "    pred_lgb_dict[STN] = inverse_boxcox(\n",
    "        target_scaler.inverse_transform(pd.DataFrame(best_dt_dict[STN].predict(X_test))),\n",
    "        -0.4431146771093272) - 0.000001\n",
    "    pred_xgb_dict[STN] = inverse_boxcox(\n",
    "        target_scaler.inverse_transform(pd.DataFrame(best_dt_dict[STN].predict(X_test))),\n",
    "        -0.4431146771093272) - 0.000001\n",
    "    pred_cat_dict[STN] = inverse_boxcox(\n",
    "        target_scaler.inverse_transform(pd.DataFrame(best_dt_dict[STN].predict(X_test))),\n",
    "        -0.4431146771093272) - 0.000001"
   ],
   "metadata": {
    "collapsed": false,
    "ExecuteTime": {
     "end_time": "2024-06-20T09:22:56.770430300Z",
     "start_time": "2024-06-20T09:22:56.604418100Z"
    }
   },
   "id": "b7f89124448c0517",
   "execution_count": 118
  },
  {
   "cell_type": "code",
   "outputs": [],
   "source": [
    "prediction_df = pd.DataFrame()\n",
    "for i, STN in enumerate(STN_list):\n",
    "    prediction_df = pd.concat(\n",
    "        [pd.DataFrame(pred_dt_dict[STN], columns=[f'DT_{STN}']),\n",
    "         pd.DataFrame(pred_lgb_dict[STN], columns=[f'lgb_{STN}']),\n",
    "         pd.DataFrame(pred_xgb_dict[STN], columns=[f'xgb_{STN}']),\n",
    "         pd.DataFrame(pred_cat_dict[STN], columns=[f'cat_{STN}'])], axis=1)"
   ],
   "metadata": {
    "collapsed": false,
    "ExecuteTime": {
     "end_time": "2024-06-20T09:31:04.619577800Z",
     "start_time": "2024-06-20T09:31:04.609717600Z"
    }
   },
   "id": "72ee1d3c4292bb75",
   "execution_count": 130
  },
  {
   "cell_type": "code",
   "outputs": [],
   "source": [
    "metric_df = pd.DataFrame(columns=['R2', 'RMSE', 'MAE', 'MAPE'])\n",
    "for i, STN in enumerate(STN_list):\n",
    "    metric_df = pd.concat(\n",
    "        [metric_df, pd.DataFrame([r2_score(y_test.values, pred_dt_dict[STN]),\n",
    "                                  root_mean_squared_error(y_test.values, pred_dt_dict[STN]),\n",
    "                                  mean_absolute_error(y_test.values, pred_dt_dict[STN]),\n",
    "                                  mean_absolute_percentage_error(y_test.values, pred_dt_dict[STN])],\n",
    "                                 index=metric_df.columns, columns=[f'DT_{STN}']).T], axis=0)\n",
    "\n",
    "    metric_df = pd.concat(\n",
    "        [metric_df, pd.DataFrame([r2_score(y_test.values, pred_lgb_dict[STN]),\n",
    "                                  root_mean_squared_error(y_test.values, pred_lgb_dict[STN]),\n",
    "                                  mean_absolute_error(y_test.values, pred_lgb_dict[STN]),\n",
    "                                  mean_absolute_percentage_error(y_test.values, pred_lgb_dict[STN])],\n",
    "                                 index=metric_df.columns, columns=[f'LGB_{STN}']).T], axis=0)\n",
    "\n",
    "    metric_df = pd.concat(\n",
    "        [metric_df, pd.DataFrame([r2_score(y_test.values, pred_xgb_dict[STN]),\n",
    "                                  root_mean_squared_error(y_test.values, pred_xgb_dict[STN]),\n",
    "                                  mean_absolute_error(y_test.values, pred_xgb_dict[STN]),\n",
    "                                  mean_absolute_percentage_error(y_test.values, pred_xgb_dict[STN])],\n",
    "                                 index=metric_df.columns, columns=[f'XGB_{STN}']).T], axis=0)\n",
    "\n",
    "    metric_df = pd.concat(\n",
    "        [metric_df, pd.DataFrame([r2_score(y_test.values, pred_cat_dict[STN]),\n",
    "                                  root_mean_squared_error(y_test.values, pred_cat_dict[STN]),\n",
    "                                  mean_absolute_error(y_test.values, pred_cat_dict[STN]),\n",
    "                                  mean_absolute_percentage_error(y_test.values, pred_cat_dict[STN])],\n",
    "                                 index=metric_df.columns, columns=[f'CAT_{STN}']).T], axis=0)"
   ],
   "metadata": {
    "collapsed": false,
    "ExecuteTime": {
     "end_time": "2024-06-20T09:40:53.137457500Z",
     "start_time": "2024-06-20T09:40:53.093471600Z"
    }
   },
   "id": "f51c1617f0eaa62",
   "execution_count": 155
  }
 ],
 "metadata": {
  "kernelspec": {
   "display_name": "Python 3",
   "language": "python",
   "name": "python3"
  },
  "language_info": {
   "codemirror_mode": {
    "name": "ipython",
    "version": 2
   },
   "file_extension": ".py",
   "mimetype": "text/x-python",
   "name": "python",
   "nbconvert_exporter": "python",
   "pygments_lexer": "ipython2",
   "version": "2.7.6"
  }
 },
 "nbformat": 4,
 "nbformat_minor": 5
}
