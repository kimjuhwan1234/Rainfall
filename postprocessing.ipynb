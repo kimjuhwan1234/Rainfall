{
 "cells": [
  {
   "cell_type": "code",
   "outputs": [],
   "source": [
    "import os\n",
    "import warnings\n",
    "from joblib import load\n",
    "from utils.scaler import *\n",
    "from sklearn.metrics import *\n",
    "from matplotlib import pyplot as plt\n",
    "from IPython.core.interactiveshell import InteractiveShell"
   ],
   "metadata": {
    "collapsed": false,
    "ExecuteTime": {
     "end_time": "2024-06-23T10:29:59.046391400Z",
     "start_time": "2024-06-23T10:29:59.043882500Z"
    }
   },
   "id": "5a7365216f084516",
   "execution_count": 62
  },
  {
   "cell_type": "code",
   "outputs": [],
   "source": [
    "plt.rc('font', family='GULIM')\n",
    "warnings.filterwarnings(action='ignore')\n",
    "InteractiveShell.ast_node_interactivity = \"all\""
   ],
   "metadata": {
    "collapsed": false,
    "ExecuteTime": {
     "end_time": "2024-06-23T10:29:59.334497400Z",
     "start_time": "2024-06-23T10:29:59.331490400Z"
    }
   },
   "id": "d72017008e119bf8",
   "execution_count": 63
  },
  {
   "cell_type": "code",
   "outputs": [],
   "source": [
    "X_test = pd.read_csv('Database/test/X_self_test_norm.csv', index_col=0)\n",
    "y_test = pd.read_csv('Database/test/y_self_test.csv', index_col=0)\n",
    "# y_test = inverse_boxcox(y_test, -0.4431146771093272) - 0.000001\n",
    "# y_test=pd.DataFrame(np.exp(y_test)-1)\n",
    "target_scaler = load('Database/target_scaler.joblib')\n",
    "y_test = pd.DataFrame(target_scaler.inverse_transform(y_test), index=y_test.index)"
   ],
   "metadata": {
    "collapsed": false,
    "ExecuteTime": {
     "end_time": "2024-06-23T10:32:01.671458300Z",
     "start_time": "2024-06-23T10:32:01.065485400Z"
    }
   },
   "id": "7c1006d94f65567c",
   "execution_count": 72
  },
  {
   "cell_type": "markdown",
   "source": [
    "# Best-model dict 저장"
   ],
   "metadata": {
    "collapsed": false
   },
   "id": "1bfa8079036ea622"
  },
  {
   "cell_type": "code",
   "outputs": [],
   "source": [
    "STN_list = ['STN001', 'STN002', 'STN003', 'STN004', 'STN005', 'STN006', 'STN007', 'STN008', 'STN009', 'STN010',\n",
    "            'STN011', 'STN012', 'STN013', 'STN014', 'STN015', 'STN016', 'STN017', 'STN018', 'STN019', 'STN020']\n",
    "\n",
    "STN_list = ['STN001']\n",
    "\n",
    "dt_files = sorted(filename for filename in os.listdir('File/DT') if filename.endswith('.pkl'))\n",
    "lgb_files = sorted(filename for filename in os.listdir('File/LGBM') if filename.endswith('.pkl'))\n",
    "xgb_files = sorted(filename for filename in os.listdir('File/XGB') if filename.endswith('.pkl'))\n",
    "cat_files = sorted(filename for filename in os.listdir('File/CAT') if filename.endswith('.pkl'))\n",
    "\n",
    "best_dt_dict = {}\n",
    "best_lgb_dict = {}\n",
    "best_xgb_dict = {}\n",
    "best_cat_dict = {}\n",
    "\n",
    "for i, STN in enumerate(STN_list):\n",
    "    best_dt_dict[STN] = load(os.path.join('File/DT', dt_files[i]))\n",
    "    best_lgb_dict[STN] = load(os.path.join('File/LGBM', lgb_files[i]))\n",
    "    best_xgb_dict[STN] = load(os.path.join('File/XGB', xgb_files[i]))\n",
    "    best_cat_dict[STN] = load(os.path.join('File/CAT', cat_files[i]))"
   ],
   "metadata": {
    "collapsed": false,
    "ExecuteTime": {
     "end_time": "2024-06-23T10:32:46.313804800Z",
     "start_time": "2024-06-23T10:32:46.239674400Z"
    }
   },
   "id": "3f33c9695b16819f",
   "execution_count": 77
  },
  {
   "cell_type": "code",
   "outputs": [],
   "source": [
    "pred_dt_dict = {}\n",
    "pred_lgb_dict = {}\n",
    "pred_xgb_dict = {}\n",
    "pred_cat_dict = {}\n",
    "\n",
    "for i, STN in enumerate(STN_list):\n",
    "    pred_dt_dict[STN] = pd.DataFrame(target_scaler.inverse_transform(best_dt_dict[STN].predict(X_test).reshape(-1,1)))\n",
    "    pred_lgb_dict[STN] = pd.DataFrame(target_scaler.inverse_transform(best_dt_dict[STN].predict(X_test).reshape(-1,1)))\n",
    "    pred_xgb_dict[STN] = pd.DataFrame(target_scaler.inverse_transform(best_dt_dict[STN].predict(X_test).reshape(-1,1)))\n",
    "    pred_cat_dict[STN] = pd.DataFrame(target_scaler.inverse_transform(best_dt_dict[STN].predict(X_test).reshape(-1,1)))"
   ],
   "metadata": {
    "collapsed": false,
    "ExecuteTime": {
     "end_time": "2024-06-23T10:32:57.413887100Z",
     "start_time": "2024-06-23T10:32:57.171335Z"
    }
   },
   "id": "b8a3ef3aa8a759c5",
   "execution_count": 78
  },
  {
   "cell_type": "code",
   "outputs": [
    {
     "data": {
      "text/plain": "{'STN001':                    0\n 0      -1.409983e-14\n 1       1.110223e-16\n 2      -1.387779e-14\n 3       0.000000e+00\n 4       1.110223e-16\n ...              ...\n 144892  6.610000e+01\n 144893  3.300000e+00\n 144894  0.000000e+00\n 144895 -1.409983e-14\n 144896  4.000000e+00\n \n [144897 rows x 1 columns]}"
     },
     "execution_count": 79,
     "metadata": {},
     "output_type": "execute_result"
    }
   ],
   "source": [
    "pred_dt_dict"
   ],
   "metadata": {
    "collapsed": false,
    "ExecuteTime": {
     "end_time": "2024-06-23T10:33:00.672467200Z",
     "start_time": "2024-06-23T10:33:00.669483500Z"
    }
   },
   "id": "38740ea51e542e4e",
   "execution_count": 79
  },
  {
   "cell_type": "markdown",
   "source": [
    "# BoxCox 역변환 & 예측값 dict 저장"
   ],
   "metadata": {
    "collapsed": false
   },
   "id": "462eb93402957d8b"
  },
  {
   "cell_type": "code",
   "outputs": [],
   "source": [
    "pred_dt_dict = {}\n",
    "pred_lgb_dict = {}\n",
    "pred_xgb_dict = {}\n",
    "pred_cat_dict = {}\n",
    "\n",
    "for i, STN in enumerate(STN_list):\n",
    "    pred_dt_dict[STN] = pd.DataFrame(target_scaler.inverse_transform(best_dt_dict[STN].predict(X_test).reshape(-1,1)))\n",
    "    pred_lgb_dict[STN] = pd.DataFrame(target_scaler.inverse_transform(best_dt_dict[STN].predict(X_test).reshape(-1,1)))\n",
    "    pred_xgb_dict[STN] = pd.DataFrame(target_scaler.inverse_transform(best_dt_dict[STN].predict(X_test).reshape(-1,1)))\n",
    "    pred_cat_dict[STN] = pd.DataFrame(target_scaler.inverse_transform(best_dt_dict[STN].predict(X_test).reshape(-1,1)))\n",
    "    \n",
    "# for i, STN in enumerate(STN_list):\n",
    "#     pred_dt_dict[STN] = inverse_boxcox(pd.DataFrame(best_dt_dict[STN].predict(X_test)), -0.4431146771093272) - 0.000001\n",
    "#     pred_lgb_dict[STN] = inverse_boxcox(pd.DataFrame(best_dt_dict[STN].predict(X_test)), -0.4431146771093272) - 0.000001\n",
    "#     pred_xgb_dict[STN] = inverse_boxcox(pd.DataFrame(best_dt_dict[STN].predict(X_test)), -0.4431146771093272) - 0.000001\n",
    "#     pred_cat_dict[STN] = inverse_boxcox(pd.DataFrame(best_dt_dict[STN].predict(X_test)), -0.4431146771093272) - 0.000001\n",
    "\n",
    "for i, STN in enumerate(STN_list):\n",
    "    pred_dt_dict[STN] = pd.DataFrame(np.exp(pred_dt_dict[STN])-1)\n",
    "    pred_lgb_dict[STN] = pd.DataFrame(np.exp(pred_lgb_dict[STN])-1)\n",
    "    pred_xgb_dict[STN] = pd.DataFrame(np.exp(pred_xgb_dict[STN])-1)\n",
    "    pred_cat_dict[STN] = pd.DataFrame(np.exp(pred_cat_dict[STN])-1)\n",
    "\n",
    "# for i, STN in enumerate(STN_list):\n",
    "#     pred_dt_dict[STN] = pd.DataFrame(best_dt_dict[STN].predict(X_test))\n",
    "#     pred_lgb_dict[STN] = pd.DataFrame(best_dt_dict[STN].predict(X_test))\n",
    "#     pred_xgb_dict[STN] = pd.DataFrame(best_dt_dict[STN].predict(X_test))\n",
    "#     pred_cat_dict[STN] = pd.DataFrame(best_dt_dict[STN].predict(X_test))\n",
    "\n"
   ],
   "metadata": {
    "collapsed": false,
    "ExecuteTime": {
     "end_time": "2024-06-23T10:32:04.262851100Z",
     "start_time": "2024-06-23T10:32:04.011069700Z"
    }
   },
   "id": "b7f89124448c0517",
   "execution_count": 74
  },
  {
   "cell_type": "markdown",
   "source": [
    "# 60개 싱글모델 예측값 DataFrame 저장"
   ],
   "metadata": {
    "collapsed": false
   },
   "id": "e278cbad0fd9c9e2"
  },
  {
   "cell_type": "code",
   "outputs": [],
   "source": [
    "prediction_df = pd.DataFrame()\n",
    "for i, STN in enumerate(STN_list):\n",
    "    prediction_df = pd.concat(\n",
    "        [prediction_df,\n",
    "         pd.DataFrame(pred_dt_dict[STN].values, columns=[f'DT_{STN}']),\n",
    "         pd.DataFrame(pred_lgb_dict[STN].values, columns=[f'lgb_{STN}']),\n",
    "         pd.DataFrame(pred_xgb_dict[STN].values, columns=[f'xgb_{STN}']),\n",
    "         pd.DataFrame(pred_cat_dict[STN].values, columns=[f'cat_{STN}'])], axis=1)\n",
    "prediction_df.index = X_test.index"
   ],
   "metadata": {
    "collapsed": false,
    "ExecuteTime": {
     "end_time": "2024-06-23T10:33:08.746547700Z",
     "start_time": "2024-06-23T10:33:08.730547100Z"
    }
   },
   "id": "72ee1d3c4292bb75",
   "execution_count": 80
  },
  {
   "cell_type": "code",
   "outputs": [
    {
     "data": {
      "text/plain": "            DT_STN001    lgb_STN001    xgb_STN001    cat_STN001\n54256   -1.409983e-14 -1.409983e-14 -1.409983e-14 -1.409983e-14\n189207   1.110223e-16  1.110223e-16  1.110223e-16  1.110223e-16\n263088  -1.387779e-14 -1.387779e-14 -1.387779e-14 -1.387779e-14\n694700   0.000000e+00  0.000000e+00  0.000000e+00  0.000000e+00\n660568   1.110223e-16  1.110223e-16  1.110223e-16  1.110223e-16\n...               ...           ...           ...           ...\n305612   6.610000e+01  6.610000e+01  6.610000e+01  6.610000e+01\n829901   3.300000e+00  3.300000e+00  3.300000e+00  3.300000e+00\n1410178  0.000000e+00  0.000000e+00  0.000000e+00  0.000000e+00\n1074628 -1.409983e-14 -1.409983e-14 -1.409983e-14 -1.409983e-14\n470683   4.000000e+00  4.000000e+00  4.000000e+00  4.000000e+00\n\n[144897 rows x 4 columns]",
      "text/html": "<div>\n<style scoped>\n    .dataframe tbody tr th:only-of-type {\n        vertical-align: middle;\n    }\n\n    .dataframe tbody tr th {\n        vertical-align: top;\n    }\n\n    .dataframe thead th {\n        text-align: right;\n    }\n</style>\n<table border=\"1\" class=\"dataframe\">\n  <thead>\n    <tr style=\"text-align: right;\">\n      <th></th>\n      <th>DT_STN001</th>\n      <th>lgb_STN001</th>\n      <th>xgb_STN001</th>\n      <th>cat_STN001</th>\n    </tr>\n  </thead>\n  <tbody>\n    <tr>\n      <th>54256</th>\n      <td>-1.409983e-14</td>\n      <td>-1.409983e-14</td>\n      <td>-1.409983e-14</td>\n      <td>-1.409983e-14</td>\n    </tr>\n    <tr>\n      <th>189207</th>\n      <td>1.110223e-16</td>\n      <td>1.110223e-16</td>\n      <td>1.110223e-16</td>\n      <td>1.110223e-16</td>\n    </tr>\n    <tr>\n      <th>263088</th>\n      <td>-1.387779e-14</td>\n      <td>-1.387779e-14</td>\n      <td>-1.387779e-14</td>\n      <td>-1.387779e-14</td>\n    </tr>\n    <tr>\n      <th>694700</th>\n      <td>0.000000e+00</td>\n      <td>0.000000e+00</td>\n      <td>0.000000e+00</td>\n      <td>0.000000e+00</td>\n    </tr>\n    <tr>\n      <th>660568</th>\n      <td>1.110223e-16</td>\n      <td>1.110223e-16</td>\n      <td>1.110223e-16</td>\n      <td>1.110223e-16</td>\n    </tr>\n    <tr>\n      <th>...</th>\n      <td>...</td>\n      <td>...</td>\n      <td>...</td>\n      <td>...</td>\n    </tr>\n    <tr>\n      <th>305612</th>\n      <td>6.610000e+01</td>\n      <td>6.610000e+01</td>\n      <td>6.610000e+01</td>\n      <td>6.610000e+01</td>\n    </tr>\n    <tr>\n      <th>829901</th>\n      <td>3.300000e+00</td>\n      <td>3.300000e+00</td>\n      <td>3.300000e+00</td>\n      <td>3.300000e+00</td>\n    </tr>\n    <tr>\n      <th>1410178</th>\n      <td>0.000000e+00</td>\n      <td>0.000000e+00</td>\n      <td>0.000000e+00</td>\n      <td>0.000000e+00</td>\n    </tr>\n    <tr>\n      <th>1074628</th>\n      <td>-1.409983e-14</td>\n      <td>-1.409983e-14</td>\n      <td>-1.409983e-14</td>\n      <td>-1.409983e-14</td>\n    </tr>\n    <tr>\n      <th>470683</th>\n      <td>4.000000e+00</td>\n      <td>4.000000e+00</td>\n      <td>4.000000e+00</td>\n      <td>4.000000e+00</td>\n    </tr>\n  </tbody>\n</table>\n<p>144897 rows × 4 columns</p>\n</div>"
     },
     "execution_count": 81,
     "metadata": {},
     "output_type": "execute_result"
    }
   ],
   "source": [
    "prediction_df"
   ],
   "metadata": {
    "collapsed": false,
    "ExecuteTime": {
     "end_time": "2024-06-23T10:33:09.300078100Z",
     "start_time": "2024-06-23T10:33:09.283036500Z"
    }
   },
   "id": "da0bcb09639d8b49",
   "execution_count": 81
  },
  {
   "cell_type": "markdown",
   "source": [
    "# 60개 싱글모델 metric DataFrame 저장"
   ],
   "metadata": {
    "collapsed": false
   },
   "id": "590d1c88bbe3aee3"
  },
  {
   "cell_type": "code",
   "outputs": [],
   "source": [
    "metric_df = pd.DataFrame(columns=['R2', 'RMSE', 'MAE', 'MAPE'])\n",
    "for i, STN in enumerate(STN_list):\n",
    "    metric_df = pd.concat(\n",
    "        [metric_df, pd.DataFrame([r2_score(y_test.values, pred_dt_dict[STN]),\n",
    "                                  root_mean_squared_error(y_test.values, pred_dt_dict[STN]),\n",
    "                                  mean_absolute_error(y_test.values, pred_dt_dict[STN]),\n",
    "                                  mean_absolute_percentage_error(y_test.values, pred_dt_dict[STN])],\n",
    "                                 index=metric_df.columns, columns=[f'DT_{STN}']).T], axis=0)\n",
    "\n",
    "    metric_df = pd.concat(\n",
    "        [metric_df, pd.DataFrame([r2_score(y_test.values, pred_lgb_dict[STN]),\n",
    "                                  root_mean_squared_error(y_test.values, pred_lgb_dict[STN]),\n",
    "                                  mean_absolute_error(y_test.values, pred_lgb_dict[STN]),\n",
    "                                  mean_absolute_percentage_error(y_test.values, pred_lgb_dict[STN])],\n",
    "                                 index=metric_df.columns, columns=[f'LGB_{STN}']).T], axis=0)\n",
    "\n",
    "    metric_df = pd.concat(\n",
    "        [metric_df, pd.DataFrame([r2_score(y_test.values, pred_xgb_dict[STN]),\n",
    "                                  root_mean_squared_error(y_test.values, pred_xgb_dict[STN]),\n",
    "                                  mean_absolute_error(y_test.values, pred_xgb_dict[STN]),\n",
    "                                  mean_absolute_percentage_error(y_test.values, pred_xgb_dict[STN])],\n",
    "                                 index=metric_df.columns, columns=[f'XGB_{STN}']).T], axis=0)\n",
    "\n",
    "    metric_df = pd.concat(\n",
    "        [metric_df, pd.DataFrame([r2_score(y_test.values, pred_cat_dict[STN]),\n",
    "                                  root_mean_squared_error(y_test.values, pred_cat_dict[STN]),\n",
    "                                  mean_absolute_error(y_test.values, pred_cat_dict[STN]),\n",
    "                                  mean_absolute_percentage_error(y_test.values, pred_cat_dict[STN])],\n",
    "                                 index=metric_df.columns, columns=[f'CAT_{STN}']).T], axis=0)"
   ],
   "metadata": {
    "collapsed": false,
    "ExecuteTime": {
     "end_time": "2024-06-23T10:14:34.745583800Z",
     "start_time": "2024-06-23T10:14:34.699176Z"
    }
   },
   "id": "f51c1617f0eaa62",
   "execution_count": 49
  },
  {
   "cell_type": "markdown",
   "source": [
    "# Deep Learning 단일모델 시험"
   ],
   "metadata": {
    "collapsed": false
   },
   "id": "c523fc199d3c551b"
  },
  {
   "cell_type": "code",
   "outputs": [
    {
     "data": {
      "text/plain": "<All keys matched successfully>"
     },
     "execution_count": 55,
     "metadata": {},
     "output_type": "execute_result"
    },
    {
     "data": {
      "text/plain": "MLP(\n  (MLP): Sequential(\n    (0): Linear(in_features=57, out_features=1024, bias=True)\n    (1): ReLU()\n    (2): Linear(in_features=1024, out_features=512, bias=True)\n    (3): ReLU()\n  )\n  (fc): Linear(in_features=512, out_features=1, bias=True)\n)"
     },
     "execution_count": 55,
     "metadata": {},
     "output_type": "execute_result"
    }
   ],
   "source": [
    "from Module.model import *\n",
    "\n",
    "backbone = MLP(input_size=57, hidden_size=1024, output_size=1).to('cuda')\n",
    "backbone.load_state_dict(torch.load('Weight/STN001.pth'))\n",
    "backbone.eval()\n",
    "output = backbone(torch.tensor(X_test.values).to('cuda'))\n",
    "\n",
    "output = pd.DataFrame(output.cpu().detach().numpy())\n",
    "prediction_df2 = pd.DataFrame(target_scaler.inverse_transform(output), index=y_test.index)\n",
    "# prediction_df2[prediction_df2 < 0] = 0\n",
    "# prediction_df2.index = y_test.index"
   ],
   "metadata": {
    "collapsed": false,
    "ExecuteTime": {
     "end_time": "2024-06-23T10:23:53.561492700Z",
     "start_time": "2024-06-23T10:23:51.092562100Z"
    }
   },
   "id": "8def9605e61b5329",
   "execution_count": 55
  },
  {
   "cell_type": "markdown",
   "source": [
    "# CSI 계산"
   ],
   "metadata": {
    "collapsed": false
   },
   "id": "fa6606581368331b"
  },
  {
   "cell_type": "code",
   "outputs": [],
   "source": [
    "pred_rating_df = prediction_df2.applymap(lambda x: map_values(x))\n",
    "truth_rating_df = pd.DataFrame(y_test).applymap(lambda x: map_values(x))\n",
    "data = pd.concat([pred_rating_df.iloc[:, 0], truth_rating_df], axis=1)"
   ],
   "metadata": {
    "collapsed": false,
    "ExecuteTime": {
     "end_time": "2024-06-23T10:24:34.452331600Z",
     "start_time": "2024-06-23T10:24:34.303104700Z"
    }
   },
   "id": "7e524436a93d687b",
   "execution_count": 58
  },
  {
   "cell_type": "code",
   "outputs": [],
   "source": [
    "mapping = {\n",
    "    0: \"<0.1\",\n",
    "    1: \"0.1<=X<0.2\",\n",
    "    2: \"0.2<=X<0.5\",\n",
    "    3: \"0.5<=X<1\",\n",
    "    4: \"1<=X<2\",\n",
    "    5: \"2<=X<5\",\n",
    "    6: \"5<=X<10\",\n",
    "    7: \"10<=X<20\",\n",
    "    8: \"20<=X<30\",\n",
    "    9: \"X>=30\"\n",
    "}\n",
    "\n",
    "data['predicted'] = data.iloc[:, 0].map(mapping)\n",
    "data['observed'] = data.iloc[:, 1].map(mapping)\n",
    "\n",
    "csi_categories = [\"<0.1\", \"0.1<=X<0.2\", \"0.2<=X<0.5\", \"0.5<=X<1\", \"1<=X<2\", \"2<=X<5\", \"5<=X<10\", \"10<=X<20\", \"20<=X<30\",\n",
    "                  \"X>=30\"]\n",
    "csi_table = pd.DataFrame(0, index=csi_categories, columns=csi_categories)\n",
    "\n",
    "for index, row in data.iterrows():\n",
    "    observed = row['observed']\n",
    "    predicted = row['predicted']\n",
    "    csi_table.at[observed, predicted] += 1"
   ],
   "metadata": {
    "collapsed": false,
    "ExecuteTime": {
     "end_time": "2024-06-23T10:24:52.455577600Z",
     "start_time": "2024-06-23T10:24:35.824525200Z"
    }
   },
   "id": "ad7389a2709eee08",
   "execution_count": 59
  },
  {
   "cell_type": "code",
   "outputs": [
    {
     "data": {
      "text/plain": "0.03752334703025775"
     },
     "execution_count": 60,
     "metadata": {},
     "output_type": "execute_result"
    }
   ],
   "source": [
    "cal_CSI(csi_table)"
   ],
   "metadata": {
    "collapsed": false,
    "ExecuteTime": {
     "end_time": "2024-06-23T10:24:52.462597300Z",
     "start_time": "2024-06-23T10:24:52.457578200Z"
    }
   },
   "id": "9b4c5e1fffd18ae",
   "execution_count": 60
  }
 ],
 "metadata": {
  "kernelspec": {
   "display_name": "Python 3",
   "language": "python",
   "name": "python3"
  },
  "language_info": {
   "codemirror_mode": {
    "name": "ipython",
    "version": 2
   },
   "file_extension": ".py",
   "mimetype": "text/x-python",
   "name": "python",
   "nbconvert_exporter": "python",
   "pygments_lexer": "ipython2",
   "version": "2.7.6"
  }
 },
 "nbformat": 4,
 "nbformat_minor": 5
}
