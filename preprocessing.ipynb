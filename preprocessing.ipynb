{
 "cells": [
  {
   "cell_type": "code",
   "execution_count": 6,
   "id": "initial_id",
   "metadata": {
    "collapsed": true,
    "ExecuteTime": {
     "end_time": "2024-06-26T14:51:56.216629900Z",
     "start_time": "2024-06-26T14:51:56.210122600Z"
    }
   },
   "outputs": [],
   "source": [
    "import joblib\n",
    "import warnings\n",
    "from scipy import stats\n",
    "from utils.scaler import *\n",
    "from matplotlib import pyplot as plt\n",
    "from sklearn.preprocessing import MinMaxScaler\n",
    "from sklearn.preprocessing import OneHotEncoder\n",
    "from sklearn.model_selection import train_test_split\n",
    "from IPython.core.interactiveshell import InteractiveShell"
   ]
  },
  {
   "cell_type": "code",
   "outputs": [],
   "source": [
    "plt.rc('font', family='GULIM')\n",
    "warnings.filterwarnings(action='ignore')\n",
    "InteractiveShell.ast_node_interactivity = \"all\""
   ],
   "metadata": {
    "collapsed": false,
    "ExecuteTime": {
     "end_time": "2024-06-26T14:51:56.388250300Z",
     "start_time": "2024-06-26T14:51:56.385235400Z"
    }
   },
   "id": "59e4e77f713b9513",
   "execution_count": 7
  },
  {
   "cell_type": "code",
   "outputs": [],
   "source": [
    "df = pd.read_csv('Database/rainfall_train.csv', index_col=0)\n",
    "df_test = pd.read_csv('Database/rainfall_test.csv')\n",
    "train_col = df.columns.tolist()\n",
    "train_col.remove(train_col[-2])\n",
    "df_test.columns = train_col\n",
    "train, self_test_df = train_test_split(df, test_size=0.1, random_state=42, shuffle=True)"
   ],
   "metadata": {
    "collapsed": false,
    "ExecuteTime": {
     "end_time": "2024-06-26T14:51:58.825017200Z",
     "start_time": "2024-06-26T14:51:56.590014900Z"
    }
   },
   "id": "54b2fb486cc3ff89",
   "execution_count": 8
  },
  {
   "cell_type": "markdown",
   "source": [
    "# Train General Preprocessing"
   ],
   "metadata": {
    "collapsed": false
   },
   "id": "c7ab97cb14a31a21"
  },
  {
   "cell_type": "code",
   "outputs": [],
   "source": [
    "df_1 = train.copy()\n",
    "mask = df_1['rainfall_train.class_interval'] == -999\n",
    "df_1 = df_1[~mask]\n",
    "\n",
    "delete_list = ['rainfall_train.fc_year', 'rainfall_train.fc_month', 'rainfall_train.fc_day', 'rainfall_train.fc_hour',\n",
    "               'rainfall_train.ef_year', 'rainfall_train.vv']\n",
    "df_1 = df_1.drop(columns=delete_list)"
   ],
   "metadata": {
    "collapsed": false,
    "ExecuteTime": {
     "end_time": "2024-06-26T14:51:59.027532600Z",
     "start_time": "2024-06-26T14:51:58.825017200Z"
    }
   },
   "id": "6413cb6705888157",
   "execution_count": 9
  },
  {
   "cell_type": "markdown",
   "source": [
    "# Train 이산형변수 처리"
   ],
   "metadata": {
    "collapsed": false
   },
   "id": "86e6060893d120d1"
  },
  {
   "cell_type": "code",
   "outputs": [],
   "source": [
    "df_2 = df_1.copy()\n",
    "\n",
    "original_values = list(range(3, 241, 3))\n",
    "reversed_values = original_values[::-1]\n",
    "mapping_table = dict(zip(original_values, reversed_values))\n",
    "\n",
    "\n",
    "def map_value(x):\n",
    "    if pd.isna(x):\n",
    "        return x\n",
    "    return mapping_table.get(x, x)\n",
    "\n",
    "\n",
    "df_2['rainfall_train.dh'] = df_2['rainfall_train.dh'].apply(map_value)"
   ],
   "metadata": {
    "collapsed": false,
    "ExecuteTime": {
     "end_time": "2024-06-26T14:51:59.989685800Z",
     "start_time": "2024-06-26T14:51:59.032066700Z"
    }
   },
   "id": "3c71828fcbb1aa4f",
   "execution_count": 10
  },
  {
   "cell_type": "code",
   "outputs": [],
   "source": [
    "enc_dict = {}\n",
    "onehot_df = pd.DataFrame(index=df_2.index)\n",
    "for i, col in enumerate(['rainfall_train.ef_month', 'rainfall_train.ef_day', 'rainfall_train.ef_hour']):\n",
    "    enc_dict[i] = OneHotEncoder(handle_unknown='ignore', sparse_output=False)\n",
    "    one_hot_encoded = enc_dict[i].fit_transform(pd.DataFrame(df_2[col]))\n",
    "\n",
    "    encoded_df = pd.DataFrame(one_hot_encoded, columns=enc_dict[i].get_feature_names_out([col]), index=df_2.index)\n",
    "    onehot_df = pd.concat([onehot_df, encoded_df], axis=1)\n",
    "    df_2 = df_2.drop(columns=[col])\n",
    "df_2 = pd.concat([df_2, onehot_df], axis=1)"
   ],
   "metadata": {
    "collapsed": false,
    "ExecuteTime": {
     "end_time": "2024-06-26T14:52:01.766866400Z",
     "start_time": "2024-06-26T14:51:59.968654600Z"
    }
   },
   "id": "f9f351f5d9783272",
   "execution_count": 11
  },
  {
   "cell_type": "markdown",
   "source": [
    "# Train 파생변수"
   ],
   "metadata": {
    "collapsed": false
   },
   "id": "ab8913b140ce7bc6"
  },
  {
   "cell_type": "code",
   "outputs": [],
   "source": [
    "df_3 = df_2.copy()\n",
    "\n",
    "continuous_list = [\n",
    "    'rainfall_train.v01', 'rainfall_train.v02', 'rainfall_train.v03', 'rainfall_train.v04', 'rainfall_train.v05',\n",
    "    'rainfall_train.v06', 'rainfall_train.v07', 'rainfall_train.v08', 'rainfall_train.v09']\n",
    "\n",
    "df_3.insert(11, 'cum_prob', df_3[continuous_list].sum(axis=1))\n",
    "df_3.insert(12, 'Zero_Count', (df_3[continuous_list] == 0).sum(axis=1))"
   ],
   "metadata": {
    "collapsed": false,
    "ExecuteTime": {
     "end_time": "2024-06-26T14:52:02.260863900Z",
     "start_time": "2024-06-26T14:52:01.771369700Z"
    }
   },
   "id": "9cf7ea77db1737dc",
   "execution_count": 12
  },
  {
   "cell_type": "markdown",
   "source": [
    "# Train 정규화"
   ],
   "metadata": {
    "collapsed": false
   },
   "id": "c30ce1aaa8cfb8c6"
  },
  {
   "cell_type": "code",
   "outputs": [],
   "source": [
    "df_4 = df_3.copy()\n",
    "\n",
    "minmax_list = ['rainfall_train.dh', 'Zero_Count']\n",
    "minmax_scaler = MinMaxScaler()\n",
    "df_4[minmax_list] = minmax_scaler.fit_transform(df_4[minmax_list])"
   ],
   "metadata": {
    "collapsed": false,
    "ExecuteTime": {
     "end_time": "2024-06-26T14:52:02.493194500Z",
     "start_time": "2024-06-26T14:52:02.262897200Z"
    }
   },
   "id": "4f54462b40d1ad11",
   "execution_count": 13
  },
  {
   "cell_type": "markdown",
   "source": [
    "# Train 연속형변수 분포저장"
   ],
   "metadata": {
    "collapsed": false
   },
   "id": "75236f11db963b51"
  },
  {
   "cell_type": "code",
   "outputs": [],
   "source": [
    "y = df_4['rainfall_train.class_interval']\n",
    "X = df_4.drop(columns='rainfall_train.class_interval')\n",
    "\n",
    "X_train, X_val, y_train, y_val = train_test_split(X, y, test_size=0.05, random_state=42, shuffle=True)"
   ],
   "metadata": {
    "collapsed": false,
    "ExecuteTime": {
     "end_time": "2024-06-26T14:52:04.048413100Z",
     "start_time": "2024-06-26T14:52:02.496195400Z"
    }
   },
   "id": "cec8003366004d60",
   "execution_count": 14
  },
  {
   "cell_type": "code",
   "outputs": [],
   "source": [
    "X_train_norm = X_train.copy()\n",
    "X_val_norm = X_val.copy()\n",
    "\n",
    "continuous_list = [\n",
    "    'rainfall_train.v01', 'rainfall_train.v02', 'rainfall_train.v03', 'rainfall_train.v04', 'rainfall_train.v05',\n",
    "    'rainfall_train.v06', 'rainfall_train.v07', 'rainfall_train.v08', 'rainfall_train.v09', 'cum_prob']\n",
    "\n",
    "X_train_norm.loc[:, continuous_list], scaler = standard_scale_train(X_train, continuous_list)\n",
    "X_val_norm.loc[:, continuous_list] = standard_scale_val(X_val, continuous_list, scaler)"
   ],
   "metadata": {
    "collapsed": false,
    "ExecuteTime": {
     "end_time": "2024-06-26T14:52:05.463589800Z",
     "start_time": "2024-06-26T14:52:04.049412800Z"
    }
   },
   "id": "9dd29061387dc5f3",
   "execution_count": 15
  },
  {
   "cell_type": "markdown",
   "source": [
    "# 불균형 해소를 위한 학습파일 저장"
   ],
   "metadata": {
    "collapsed": false
   },
   "id": "63e217a924d7b03"
  },
  {
   "cell_type": "code",
   "outputs": [],
   "source": [
    "total_train = pd.concat([X_train_norm, y_train], axis=1)\n",
    "total_val = pd.concat([X_val_norm, y_val], axis=1)\n",
    "\n",
    "total_train = total_train.iloc[:, 1:]\n",
    "total_val = total_val.iloc[:, 1:]\n",
    "\n",
    "train_mask = total_train['rainfall_train.class_interval'] == 0\n",
    "val_mask = total_val['rainfall_train.class_interval'] == 0\n",
    "\n",
    "total_train = total_train[~train_mask]\n",
    "total_val = total_val[~val_mask]"
   ],
   "metadata": {
    "collapsed": false,
    "ExecuteTime": {
     "end_time": "2024-06-26T14:52:06.178365600Z",
     "start_time": "2024-06-26T14:52:05.464589900Z"
    }
   },
   "id": "ec8c2d21a1b0a5b9",
   "execution_count": 16
  },
  {
   "cell_type": "code",
   "outputs": [],
   "source": [
    "enc = OneHotEncoder(handle_unknown='ignore', sparse_output=False)\n",
    "one_hot_encoded = enc.fit_transform(pd.DataFrame(total_train['rainfall_train.class_interval']))\n",
    "encoded_df = pd.DataFrame(one_hot_encoded, columns=enc.get_feature_names_out(['rainfall_train.class_interval']),\n",
    "                          index=total_train.index)\n",
    "total_train = total_train.drop(columns=['rainfall_train.class_interval'])\n",
    "total_train = pd.concat([total_train, encoded_df], axis=1)"
   ],
   "metadata": {
    "collapsed": false,
    "ExecuteTime": {
     "end_time": "2024-06-26T14:52:06.246665600Z",
     "start_time": "2024-06-26T14:52:06.181884600Z"
    }
   },
   "id": "eab5c8f6c510aba4",
   "execution_count": 17
  },
  {
   "cell_type": "code",
   "outputs": [],
   "source": [
    "one_hot_encoded = enc.transform(pd.DataFrame(total_val['rainfall_train.class_interval']))\n",
    "encoded_df = pd.DataFrame(one_hot_encoded, columns=enc.get_feature_names_out(['rainfall_train.class_interval']),\n",
    "                          index=total_val.index)\n",
    "total_val = total_val.drop(columns=['rainfall_train.class_interval'])\n",
    "total_val = pd.concat([total_val, encoded_df], axis=1)"
   ],
   "metadata": {
    "collapsed": false,
    "ExecuteTime": {
     "end_time": "2024-06-26T14:52:06.258443300Z",
     "start_time": "2024-06-26T14:52:06.249666300Z"
    }
   },
   "id": "73f8d1be3696c6ca",
   "execution_count": 18
  },
  {
   "cell_type": "code",
   "outputs": [],
   "source": [
    "# total_train.to_csv('Database/total/total_train.csv')\n",
    "# total_val.to_csv('Database/total/total_val.csv')"
   ],
   "metadata": {
    "collapsed": false,
    "ExecuteTime": {
     "end_time": "2024-06-26T14:52:06.270115200Z",
     "start_time": "2024-06-26T14:52:06.259443300Z"
    }
   },
   "id": "4ee8ceb01fc10a65",
   "execution_count": 19
  },
  {
   "cell_type": "markdown",
   "source": [
    "# test General Preprocessing"
   ],
   "metadata": {
    "collapsed": false
   },
   "id": "e7251cbfd6429ade"
  },
  {
   "cell_type": "code",
   "outputs": [],
   "source": [
    "self_test = True\n",
    "\n",
    "if self_test:\n",
    "    df_1 = self_test_df.copy()\n",
    "if not self_test:\n",
    "    df_1 = df_test.copy()\n",
    "\n",
    "mask = df_1['rainfall_train.class_interval'] == -999\n",
    "df_1 = df_1[~mask]\n",
    "\n",
    "delete_list = ['rainfall_train.fc_year', 'rainfall_train.fc_month', 'rainfall_train.fc_day', 'rainfall_train.fc_hour',\n",
    "               'rainfall_train.ef_year', 'rainfall_train.vv']\n",
    "df_1 = df_1.drop(columns=delete_list)"
   ],
   "metadata": {
    "collapsed": false,
    "ExecuteTime": {
     "end_time": "2024-06-26T14:52:06.316300100Z",
     "start_time": "2024-06-26T14:52:06.269114900Z"
    }
   },
   "id": "f5613864c21cec97",
   "execution_count": 20
  },
  {
   "cell_type": "markdown",
   "source": [
    "# test 이산형변수 처리"
   ],
   "metadata": {
    "collapsed": false
   },
   "id": "5b487c1d0ba45703"
  },
  {
   "cell_type": "code",
   "outputs": [],
   "source": [
    "df_2 = df_1.copy()\n",
    "\n",
    "original_values = list(range(3, 241, 3))\n",
    "reversed_values = original_values[::-1]\n",
    "mapping_table = dict(zip(original_values, reversed_values))\n",
    "\n",
    "\n",
    "def map_value(x):\n",
    "    if pd.isna(x):\n",
    "        return x\n",
    "    return mapping_table.get(x, x)\n",
    "\n",
    "\n",
    "df_2['rainfall_train.dh'] = df_2['rainfall_train.dh'].apply(map_value)"
   ],
   "metadata": {
    "collapsed": false,
    "ExecuteTime": {
     "end_time": "2024-06-26T14:52:06.461577700Z",
     "start_time": "2024-06-26T14:52:06.321340900Z"
    }
   },
   "id": "c5fa43ce3d24b6b0",
   "execution_count": 21
  },
  {
   "cell_type": "code",
   "outputs": [],
   "source": [
    "onehot_df = pd.DataFrame(index=df_2.index)\n",
    "for i, col in enumerate(['rainfall_train.ef_month', 'rainfall_train.ef_day', 'rainfall_train.ef_hour']):\n",
    "    one_hot_encoded = enc_dict[i].transform(pd.DataFrame(df_2[col]))\n",
    "\n",
    "    encoded_df = pd.DataFrame(one_hot_encoded, columns=enc_dict[i].get_feature_names_out([col]), index=df_2.index)\n",
    "    onehot_df = pd.concat([onehot_df, encoded_df], axis=1)\n",
    "    df_2 = df_2.drop(columns=[col])\n",
    "df_2 = pd.concat([df_2, onehot_df], axis=1)"
   ],
   "metadata": {
    "collapsed": false,
    "ExecuteTime": {
     "end_time": "2024-06-26T14:52:06.620969800Z",
     "start_time": "2024-06-26T14:52:06.480102600Z"
    }
   },
   "id": "a49a5d60b92f20b2",
   "execution_count": 22
  },
  {
   "cell_type": "markdown",
   "source": [
    "# test 파생변수"
   ],
   "metadata": {
    "collapsed": false
   },
   "id": "c84ea44f2b8fc942"
  },
  {
   "cell_type": "code",
   "outputs": [],
   "source": [
    "df_3 = df_2.copy()\n",
    "\n",
    "continuous_list = [\n",
    "    'rainfall_train.v01', 'rainfall_train.v02', 'rainfall_train.v03', 'rainfall_train.v04', 'rainfall_train.v05',\n",
    "    'rainfall_train.v06', 'rainfall_train.v07', 'rainfall_train.v08', 'rainfall_train.v09']\n",
    "\n",
    "df_3.insert(11, 'cum_prob', df_3[continuous_list].sum(axis=1))\n",
    "df_3.insert(12, 'Zero_Count', (df_3[continuous_list] == 0).sum(axis=1))"
   ],
   "metadata": {
    "collapsed": false,
    "ExecuteTime": {
     "end_time": "2024-06-26T14:52:06.696781200Z",
     "start_time": "2024-06-26T14:52:06.622980800Z"
    }
   },
   "id": "bc2e39914583ce83",
   "execution_count": 23
  },
  {
   "cell_type": "markdown",
   "source": [
    "# test 정규화"
   ],
   "metadata": {
    "collapsed": false
   },
   "id": "ca0b50f9df640da1"
  },
  {
   "cell_type": "code",
   "outputs": [],
   "source": [
    "df_4 = df_3.copy()\n",
    "\n",
    "minmax_list = ['rainfall_train.dh', 'Zero_Count']\n",
    "df_4[minmax_list] = minmax_scaler.transform(df_4[minmax_list])"
   ],
   "metadata": {
    "collapsed": false,
    "ExecuteTime": {
     "end_time": "2024-06-26T14:52:06.741780600Z",
     "start_time": "2024-06-26T14:52:06.698781700Z"
    }
   },
   "id": "fdaa61e7278bf8f7",
   "execution_count": 24
  },
  {
   "cell_type": "markdown",
   "source": [
    "# test 이산형변수 칼럼통일"
   ],
   "metadata": {
    "collapsed": false
   },
   "id": "d6a7bbefecc481c4"
  },
  {
   "cell_type": "code",
   "outputs": [],
   "source": [
    "if self_test:\n",
    "    y2 = df_4['rainfall_train.class_interval']\n",
    "    X2 = df_4.drop(columns='rainfall_train.class_interval')\n",
    "\n",
    "    # train에만 있고 test에 없는 경우, 해당 column name으로 test에 zero columns 추가.\n",
    "    X2[list(X_val_norm.columns[X_val_norm.columns.isin(X2) == False])] = 0\n",
    "\n",
    "    # test에만 있고 train에는 없는 경우, 해당 column name은 제거.\n",
    "    X2 = X2.drop(columns=list(X2.columns[X2.columns.isin(X_val_norm) == False]))\n",
    "    X2 = X2[X_val_norm.columns]\n",
    "\n",
    "if not self_test:\n",
    "    X2 = df_4\n",
    "\n",
    "    # train에만 있고 test에 없는 경우, 해당 column name으로 test에 zero columns 추가.\n",
    "    X2[list(X_val_norm.columns[X_val_norm.columns.isin(X2) == False])] = 0\n",
    "\n",
    "    # test에만 있고 train에는 없는 경우, 해당 column name은 제거.\n",
    "    X2 = X2.drop(columns=list(X2.columns[X2.columns.isin(X_val_norm) == False]))\n",
    "    X2 = X2[X_val_norm.columns]"
   ],
   "metadata": {
    "collapsed": false,
    "ExecuteTime": {
     "end_time": "2024-06-26T14:52:06.807243500Z",
     "start_time": "2024-06-26T14:52:06.743783Z"
    }
   },
   "id": "6cafd0da4f1061dc",
   "execution_count": 25
  },
  {
   "cell_type": "markdown",
   "source": [
    "# test 연속형변수 분포통일"
   ],
   "metadata": {
    "collapsed": false
   },
   "id": "f9475cd7439efdc7"
  },
  {
   "cell_type": "code",
   "outputs": [],
   "source": [
    "continuous_list = [\n",
    "    'rainfall_train.v01', 'rainfall_train.v02', 'rainfall_train.v03', 'rainfall_train.v04', 'rainfall_train.v05',\n",
    "    'rainfall_train.v06', 'rainfall_train.v07', 'rainfall_train.v08', 'rainfall_train.v09', 'cum_prob']\n",
    "\n",
    "X2.loc[:, continuous_list] = standard_scale_val(X2, continuous_list, scaler)"
   ],
   "metadata": {
    "collapsed": false,
    "ExecuteTime": {
     "end_time": "2024-06-26T14:52:06.885358Z",
     "start_time": "2024-06-26T14:52:06.808243700Z"
    }
   },
   "id": "7a2896378844b737",
   "execution_count": 26
  },
  {
   "cell_type": "markdown",
   "source": [
    "# 뷸균형 해소"
   ],
   "metadata": {
    "collapsed": false
   },
   "id": "332063645e67a8d"
  },
  {
   "cell_type": "code",
   "outputs": [
    {
     "data": {
      "text/plain": "<All keys matched successfully>"
     },
     "execution_count": 27,
     "metadata": {},
     "output_type": "execute_result"
    }
   ],
   "source": [
    "import torch\n",
    "from Module.model import VAE\n",
    "\n",
    "model = VAE(32, 10000)\n",
    "model.load_state_dict(torch.load('Weight/VAE.pth'))"
   ],
   "metadata": {
    "collapsed": false,
    "ExecuteTime": {
     "end_time": "2024-06-26T14:52:06.919648Z",
     "start_time": "2024-06-26T14:52:06.886358200Z"
    }
   },
   "id": "a975d94a9dedb547",
   "execution_count": 27
  },
  {
   "cell_type": "code",
   "outputs": [],
   "source": [
    "syn_data = model()"
   ],
   "metadata": {
    "collapsed": false,
    "ExecuteTime": {
     "end_time": "2024-06-26T14:52:55.856019Z",
     "start_time": "2024-06-26T14:52:55.823504600Z"
    }
   },
   "id": "53469dd87400bab0",
   "execution_count": 32
  },
  {
   "cell_type": "code",
   "outputs": [],
   "source": [
    "syn_df = pd.DataFrame(syn_data.cpu().detach().numpy(),\n",
    "                      columns=list(X_train_norm.iloc[:, 1:].columns) + ['rainfall_train.class_interval'])\n",
    "\n",
    "syn_df['rainfall_train.class_interval'] = syn_df['rainfall_train.class_interval'] + 1"
   ],
   "metadata": {
    "collapsed": false,
    "ExecuteTime": {
     "end_time": "2024-06-26T14:52:57.349094200Z",
     "start_time": "2024-06-26T14:52:57.225487Z"
    }
   },
   "id": "fd2eb6d9e172002e",
   "execution_count": 33
  },
  {
   "cell_type": "code",
   "outputs": [
    {
     "data": {
      "text/plain": "      rainfall_train.dh  rainfall_train.v01  rainfall_train.v02  \\\n0              0.369094            0.331431            0.262484   \n1              0.430277           -0.355134           -0.384092   \n2              0.693437            0.979161            0.916070   \n3              0.699977            2.142710            2.383671   \n4              0.479938            0.718585            0.613546   \n...                 ...                 ...                 ...   \n9995           0.669190            2.053699            2.237850   \n9996           0.390641            0.892036            0.853646   \n9997           0.921488            2.404714            2.670472   \n9998           0.491716           -0.084187           -0.173593   \n9999           0.423614            0.038808           -0.028343   \n\n      rainfall_train.v03  rainfall_train.v04  rainfall_train.v05  \\\n0               0.197628            0.123894            0.083374   \n1              -0.365883           -0.333130           -0.311019   \n2               0.641085            0.247572           -0.146580   \n3               2.732357            2.804041            2.479946   \n4               0.404134            0.168355            0.000325   \n...                  ...                 ...                 ...   \n9995            2.390616            2.274596            1.845432   \n9996            0.776104            0.671554            0.562969   \n9997            2.948883            2.787798            2.080581   \n9998           -0.287288           -0.354548           -0.387425   \n9999           -0.120637           -0.174054           -0.227648   \n\n      rainfall_train.v06  rainfall_train.v07  rainfall_train.v08  \\\n0               0.134528            0.065796            0.006349   \n1              -0.260748           -0.246526           -0.175596   \n2              -0.525247           -0.417525           -0.175490   \n3               1.173363            0.162626            0.003827   \n4              -0.081082           -0.101857           -0.124817   \n...                  ...                 ...                 ...   \n9995            0.706713           -0.071331           -0.100835   \n9996            0.397867            0.213817            0.018768   \n9997            0.410584           -0.334064           -0.311754   \n9998           -0.349571           -0.291014           -0.150061   \n9999           -0.238639           -0.199752           -0.185934   \n\n      rainfall_train.v09  ...  rainfall_train.ef_day_31  \\\n0              -0.008188  ...                       0.0   \n1              -0.118525  ...                       0.0   \n2              -0.066566  ...                       0.0   \n3              -0.058360  ...                       0.0   \n4              -0.138910  ...                       0.0   \n...                  ...  ...                       ...   \n9995           -0.088657  ...                       0.0   \n9996           -0.054516  ...                       0.0   \n9997           -0.118655  ...                       0.0   \n9998           -0.079352  ...                       0.0   \n9999           -0.096466  ...                       0.0   \n\n      rainfall_train.ef_hour_0  rainfall_train.ef_hour_3  \\\n0                          0.0                       0.0   \n1                          0.0                       0.0   \n2                          0.0                       0.0   \n3                          0.0                       0.0   \n4                          0.0                       0.0   \n...                        ...                       ...   \n9995                       0.0                       0.0   \n9996                       0.0                       0.0   \n9997                       0.0                       0.0   \n9998                       0.0                       0.0   \n9999                       0.0                       0.0   \n\n      rainfall_train.ef_hour_6  rainfall_train.ef_hour_9  \\\n0                          0.0                       0.0   \n1                          0.0                       0.0   \n2                          0.0                       0.0   \n3                          0.0                       0.0   \n4                          0.0                       0.0   \n...                        ...                       ...   \n9995                       0.0                       0.0   \n9996                       0.0                       0.0   \n9997                       0.0                       0.0   \n9998                       0.0                       0.0   \n9999                       0.0                       0.0   \n\n      rainfall_train.ef_hour_12  rainfall_train.ef_hour_15  \\\n0                           0.0                        0.0   \n1                           0.0                        0.0   \n2                           0.0                        0.0   \n3                           0.0                        0.0   \n4                           0.0                        0.0   \n...                         ...                        ...   \n9995                        0.0                        0.0   \n9996                        0.0                        0.0   \n9997                        0.0                        0.0   \n9998                        0.0                        0.0   \n9999                        0.0                        0.0   \n\n      rainfall_train.ef_hour_18  rainfall_train.ef_hour_21  \\\n0                           0.0                        0.0   \n1                           0.0                        0.0   \n2                           0.0                        0.0   \n3                           0.0                        0.0   \n4                           0.0                        0.0   \n...                         ...                        ...   \n9995                        0.0                        0.0   \n9996                        0.0                        0.0   \n9997                        0.0                        0.0   \n9998                        0.0                        0.0   \n9999                        0.0                        0.0   \n\n      rainfall_train.class_interval  \n0                               1.0  \n1                               5.0  \n2                               5.0  \n3                               2.0  \n4                               3.0  \n...                             ...  \n9995                            4.0  \n9996                            2.0  \n9997                            5.0  \n9998                            6.0  \n9999                            3.0  \n\n[10000 rows x 58 columns]",
      "text/html": "<div>\n<style scoped>\n    .dataframe tbody tr th:only-of-type {\n        vertical-align: middle;\n    }\n\n    .dataframe tbody tr th {\n        vertical-align: top;\n    }\n\n    .dataframe thead th {\n        text-align: right;\n    }\n</style>\n<table border=\"1\" class=\"dataframe\">\n  <thead>\n    <tr style=\"text-align: right;\">\n      <th></th>\n      <th>rainfall_train.dh</th>\n      <th>rainfall_train.v01</th>\n      <th>rainfall_train.v02</th>\n      <th>rainfall_train.v03</th>\n      <th>rainfall_train.v04</th>\n      <th>rainfall_train.v05</th>\n      <th>rainfall_train.v06</th>\n      <th>rainfall_train.v07</th>\n      <th>rainfall_train.v08</th>\n      <th>rainfall_train.v09</th>\n      <th>...</th>\n      <th>rainfall_train.ef_day_31</th>\n      <th>rainfall_train.ef_hour_0</th>\n      <th>rainfall_train.ef_hour_3</th>\n      <th>rainfall_train.ef_hour_6</th>\n      <th>rainfall_train.ef_hour_9</th>\n      <th>rainfall_train.ef_hour_12</th>\n      <th>rainfall_train.ef_hour_15</th>\n      <th>rainfall_train.ef_hour_18</th>\n      <th>rainfall_train.ef_hour_21</th>\n      <th>rainfall_train.class_interval</th>\n    </tr>\n  </thead>\n  <tbody>\n    <tr>\n      <th>0</th>\n      <td>0.369094</td>\n      <td>0.331431</td>\n      <td>0.262484</td>\n      <td>0.197628</td>\n      <td>0.123894</td>\n      <td>0.083374</td>\n      <td>0.134528</td>\n      <td>0.065796</td>\n      <td>0.006349</td>\n      <td>-0.008188</td>\n      <td>...</td>\n      <td>0.0</td>\n      <td>0.0</td>\n      <td>0.0</td>\n      <td>0.0</td>\n      <td>0.0</td>\n      <td>0.0</td>\n      <td>0.0</td>\n      <td>0.0</td>\n      <td>0.0</td>\n      <td>1.0</td>\n    </tr>\n    <tr>\n      <th>1</th>\n      <td>0.430277</td>\n      <td>-0.355134</td>\n      <td>-0.384092</td>\n      <td>-0.365883</td>\n      <td>-0.333130</td>\n      <td>-0.311019</td>\n      <td>-0.260748</td>\n      <td>-0.246526</td>\n      <td>-0.175596</td>\n      <td>-0.118525</td>\n      <td>...</td>\n      <td>0.0</td>\n      <td>0.0</td>\n      <td>0.0</td>\n      <td>0.0</td>\n      <td>0.0</td>\n      <td>0.0</td>\n      <td>0.0</td>\n      <td>0.0</td>\n      <td>0.0</td>\n      <td>5.0</td>\n    </tr>\n    <tr>\n      <th>2</th>\n      <td>0.693437</td>\n      <td>0.979161</td>\n      <td>0.916070</td>\n      <td>0.641085</td>\n      <td>0.247572</td>\n      <td>-0.146580</td>\n      <td>-0.525247</td>\n      <td>-0.417525</td>\n      <td>-0.175490</td>\n      <td>-0.066566</td>\n      <td>...</td>\n      <td>0.0</td>\n      <td>0.0</td>\n      <td>0.0</td>\n      <td>0.0</td>\n      <td>0.0</td>\n      <td>0.0</td>\n      <td>0.0</td>\n      <td>0.0</td>\n      <td>0.0</td>\n      <td>5.0</td>\n    </tr>\n    <tr>\n      <th>3</th>\n      <td>0.699977</td>\n      <td>2.142710</td>\n      <td>2.383671</td>\n      <td>2.732357</td>\n      <td>2.804041</td>\n      <td>2.479946</td>\n      <td>1.173363</td>\n      <td>0.162626</td>\n      <td>0.003827</td>\n      <td>-0.058360</td>\n      <td>...</td>\n      <td>0.0</td>\n      <td>0.0</td>\n      <td>0.0</td>\n      <td>0.0</td>\n      <td>0.0</td>\n      <td>0.0</td>\n      <td>0.0</td>\n      <td>0.0</td>\n      <td>0.0</td>\n      <td>2.0</td>\n    </tr>\n    <tr>\n      <th>4</th>\n      <td>0.479938</td>\n      <td>0.718585</td>\n      <td>0.613546</td>\n      <td>0.404134</td>\n      <td>0.168355</td>\n      <td>0.000325</td>\n      <td>-0.081082</td>\n      <td>-0.101857</td>\n      <td>-0.124817</td>\n      <td>-0.138910</td>\n      <td>...</td>\n      <td>0.0</td>\n      <td>0.0</td>\n      <td>0.0</td>\n      <td>0.0</td>\n      <td>0.0</td>\n      <td>0.0</td>\n      <td>0.0</td>\n      <td>0.0</td>\n      <td>0.0</td>\n      <td>3.0</td>\n    </tr>\n    <tr>\n      <th>...</th>\n      <td>...</td>\n      <td>...</td>\n      <td>...</td>\n      <td>...</td>\n      <td>...</td>\n      <td>...</td>\n      <td>...</td>\n      <td>...</td>\n      <td>...</td>\n      <td>...</td>\n      <td>...</td>\n      <td>...</td>\n      <td>...</td>\n      <td>...</td>\n      <td>...</td>\n      <td>...</td>\n      <td>...</td>\n      <td>...</td>\n      <td>...</td>\n      <td>...</td>\n      <td>...</td>\n    </tr>\n    <tr>\n      <th>9995</th>\n      <td>0.669190</td>\n      <td>2.053699</td>\n      <td>2.237850</td>\n      <td>2.390616</td>\n      <td>2.274596</td>\n      <td>1.845432</td>\n      <td>0.706713</td>\n      <td>-0.071331</td>\n      <td>-0.100835</td>\n      <td>-0.088657</td>\n      <td>...</td>\n      <td>0.0</td>\n      <td>0.0</td>\n      <td>0.0</td>\n      <td>0.0</td>\n      <td>0.0</td>\n      <td>0.0</td>\n      <td>0.0</td>\n      <td>0.0</td>\n      <td>0.0</td>\n      <td>4.0</td>\n    </tr>\n    <tr>\n      <th>9996</th>\n      <td>0.390641</td>\n      <td>0.892036</td>\n      <td>0.853646</td>\n      <td>0.776104</td>\n      <td>0.671554</td>\n      <td>0.562969</td>\n      <td>0.397867</td>\n      <td>0.213817</td>\n      <td>0.018768</td>\n      <td>-0.054516</td>\n      <td>...</td>\n      <td>0.0</td>\n      <td>0.0</td>\n      <td>0.0</td>\n      <td>0.0</td>\n      <td>0.0</td>\n      <td>0.0</td>\n      <td>0.0</td>\n      <td>0.0</td>\n      <td>0.0</td>\n      <td>2.0</td>\n    </tr>\n    <tr>\n      <th>9997</th>\n      <td>0.921488</td>\n      <td>2.404714</td>\n      <td>2.670472</td>\n      <td>2.948883</td>\n      <td>2.787798</td>\n      <td>2.080581</td>\n      <td>0.410584</td>\n      <td>-0.334064</td>\n      <td>-0.311754</td>\n      <td>-0.118655</td>\n      <td>...</td>\n      <td>0.0</td>\n      <td>0.0</td>\n      <td>0.0</td>\n      <td>0.0</td>\n      <td>0.0</td>\n      <td>0.0</td>\n      <td>0.0</td>\n      <td>0.0</td>\n      <td>0.0</td>\n      <td>5.0</td>\n    </tr>\n    <tr>\n      <th>9998</th>\n      <td>0.491716</td>\n      <td>-0.084187</td>\n      <td>-0.173593</td>\n      <td>-0.287288</td>\n      <td>-0.354548</td>\n      <td>-0.387425</td>\n      <td>-0.349571</td>\n      <td>-0.291014</td>\n      <td>-0.150061</td>\n      <td>-0.079352</td>\n      <td>...</td>\n      <td>0.0</td>\n      <td>0.0</td>\n      <td>0.0</td>\n      <td>0.0</td>\n      <td>0.0</td>\n      <td>0.0</td>\n      <td>0.0</td>\n      <td>0.0</td>\n      <td>0.0</td>\n      <td>6.0</td>\n    </tr>\n    <tr>\n      <th>9999</th>\n      <td>0.423614</td>\n      <td>0.038808</td>\n      <td>-0.028343</td>\n      <td>-0.120637</td>\n      <td>-0.174054</td>\n      <td>-0.227648</td>\n      <td>-0.238639</td>\n      <td>-0.199752</td>\n      <td>-0.185934</td>\n      <td>-0.096466</td>\n      <td>...</td>\n      <td>0.0</td>\n      <td>0.0</td>\n      <td>0.0</td>\n      <td>0.0</td>\n      <td>0.0</td>\n      <td>0.0</td>\n      <td>0.0</td>\n      <td>0.0</td>\n      <td>0.0</td>\n      <td>3.0</td>\n    </tr>\n  </tbody>\n</table>\n<p>10000 rows × 58 columns</p>\n</div>"
     },
     "execution_count": 35,
     "metadata": {},
     "output_type": "execute_result"
    }
   ],
   "source": [
    "syn_df"
   ],
   "metadata": {
    "collapsed": false,
    "ExecuteTime": {
     "end_time": "2024-06-26T14:53:00.935894500Z",
     "start_time": "2024-06-26T14:53:00.909545300Z"
    }
   },
   "id": "c31f263e2aff6ecb",
   "execution_count": 35
  },
  {
   "cell_type": "markdown",
   "source": [
    "# 지역별 분리"
   ],
   "metadata": {
    "collapsed": false
   },
   "id": "5dc96be36fd17aa9"
  },
  {
   "cell_type": "code",
   "outputs": [],
   "source": [
    "# X_train_norm_dict = {}\n",
    "# y_train_norm_dict = {}\n",
    "# \n",
    "# for i, STN in enumerate(df['rainfall_train.stn4contest'].unique().tolist()):\n",
    "#     train_mask = (X_train_norm['rainfall_train.stn4contest'] == STN)\n",
    "#     X_train_norm_dict[STN] = X_train_norm[train_mask]\n",
    "#     y_train_norm_dict[STN] = pd.DataFrame(y_train_norm)[train_mask]\n",
    "# \n",
    "# for i, (key, value) in enumerate(X_train_norm_dict.items()):\n",
    "#     X_train_norm_dict[key] = value.iloc[:, 1:]\n",
    "# \n",
    "# X_val_norm = X_val_norm.iloc[:, 1:]\n",
    "# X2 = X2.iloc[:, 1:]"
   ],
   "metadata": {
    "collapsed": false,
    "ExecuteTime": {
     "end_time": "2024-06-26T13:27:24.134067100Z",
     "start_time": "2024-06-26T13:27:24.130561800Z"
    }
   },
   "id": "dc163c82d5dc09fc",
   "execution_count": 94
  },
  {
   "cell_type": "markdown",
   "source": [
    "# GMM분리"
   ],
   "metadata": {
    "collapsed": false
   },
   "id": "5e03401e4847e15c"
  },
  {
   "cell_type": "code",
   "outputs": [],
   "source": [
    "X_train_norm = X_train_norm.iloc[:, 1:]\n",
    "X_val_norm = X_val_norm.iloc[:, 1:]\n",
    "X2 = X2.iloc[:, 1:]\n",
    "\n",
    "GMM = joblib.load('Database/gmm_model.pkl')\n",
    "X_train_norm = pd.concat([X_train_norm, pd.DataFrame(GMM.predict(X_train_norm), index=X_train_norm.index)], axis=1)\n",
    "\n",
    "X_train_norm_dict = {}\n",
    "y_train_norm_dict = {}\n",
    "\n",
    "for i, cluster_num in enumerate(X_train_norm[0].unique().tolist()):\n",
    "    train_mask = (X_train_norm[0] == cluster_num)\n",
    "    X_train_norm_dict[cluster_num] = X_train_norm[train_mask]\n",
    "    y_train_norm_dict[cluster_num] = pd.DataFrame(y_train)[train_mask]\n",
    "    X_train_norm_dict[cluster_num] = X_train_norm_dict[cluster_num].drop(columns=0)"
   ],
   "metadata": {
    "collapsed": false,
    "ExecuteTime": {
     "end_time": "2024-06-26T13:36:56.452356500Z",
     "start_time": "2024-06-26T13:36:41.915453600Z"
    }
   },
   "id": "c34a82bc7f1a9118",
   "execution_count": 21
  },
  {
   "cell_type": "code",
   "outputs": [
    {
     "name": "stdout",
     "output_type": "stream",
     "text": [
      "10 Train set\n",
      "(123072, 57)\n",
      "(123072, 1)\n",
      "4 Train set\n",
      "(97820, 57)\n",
      "(97820, 1)\n",
      "1 Train set\n",
      "(90284, 57)\n",
      "(90284, 1)\n",
      "6 Train set\n",
      "(125411, 57)\n",
      "(125411, 1)\n",
      "8 Train set\n",
      "(150807, 57)\n",
      "(150807, 1)\n",
      "9 Train set\n",
      "(115253, 57)\n",
      "(115253, 1)\n",
      "5 Train set\n",
      "(20187, 57)\n",
      "(20187, 1)\n",
      "3 Train set\n",
      "(54302, 57)\n",
      "(54302, 1)\n",
      "7 Train set\n",
      "(18608, 57)\n",
      "(18608, 1)\n",
      "14 Train set\n",
      "(74820, 57)\n",
      "(74820, 1)\n",
      "12 Train set\n",
      "(93290, 57)\n",
      "(93290, 1)\n",
      "0 Train set\n",
      "(175835, 57)\n",
      "(175835, 1)\n",
      "13 Train set\n",
      "(80389, 57)\n",
      "(80389, 1)\n",
      "2 Train set\n",
      "(5023, 57)\n",
      "(5023, 1)\n",
      "11 Train set\n",
      "(13570, 57)\n",
      "(13570, 1)\n",
      "Validation set\n",
      "(65194, 57)\n",
      "(65194,)\n",
      "Test set\n",
      "(144897, 57)\n",
      "(144897,)\n"
     ]
    }
   ],
   "source": [
    "for i, (key, value) in enumerate(X_train_norm_dict.items()):\n",
    "    print(f'{key} Train set')\n",
    "    print(value.shape)\n",
    "    print(y_train_norm_dict[key].shape)\n",
    "\n",
    "print('Validation set')\n",
    "print(X_val_norm.shape)\n",
    "print(y_val.shape)\n",
    "\n",
    "print('Test set')\n",
    "print(X2.shape)\n",
    "\n",
    "if self_test:\n",
    "    print(y2.shape)"
   ],
   "metadata": {
    "collapsed": false,
    "ExecuteTime": {
     "end_time": "2024-06-26T13:36:58.960110100Z",
     "start_time": "2024-06-26T13:36:58.954964600Z"
    }
   },
   "id": "69a7a767f0ae4c0a",
   "execution_count": 22
  },
  {
   "cell_type": "markdown",
   "source": [
    "# 전처리 파일저장"
   ],
   "metadata": {
    "collapsed": false
   },
   "id": "bde16628edcfe83a"
  },
  {
   "cell_type": "code",
   "outputs": [
    {
     "name": "stdout",
     "output_type": "stream",
     "text": [
      "GMM10 Train set saved!\n",
      "GMM4 Train set saved!\n",
      "GMM1 Train set saved!\n",
      "GMM6 Train set saved!\n",
      "GMM8 Train set saved!\n",
      "GMM9 Train set saved!\n",
      "GMM5 Train set saved!\n",
      "GMM3 Train set saved!\n",
      "GMM7 Train set saved!\n",
      "GMM14 Train set saved!\n",
      "GMM12 Train set saved!\n",
      "GMM0 Train set saved!\n",
      "GMM13 Train set saved!\n",
      "GMM2 Train set saved!\n",
      "GMM11 Train set saved!\n",
      "Validation set saved!\n",
      "Test set saved!\n"
     ]
    }
   ],
   "source": [
    "for i, (key, value) in enumerate(X_train_norm_dict.items()):\n",
    "    value.to_csv(f'Database/train/GMM{key}_X_train_norm.csv')\n",
    "    y_train_norm_dict[key].to_csv(f'Database/train/GMM{key}_y_train.csv')\n",
    "    print(f'GMM{key} Train set saved!')\n",
    "\n",
    "X_val_norm.to_csv(f'Database/val/X_val_norm.csv')\n",
    "y_val.to_csv(f'Database/val/y_val.csv')\n",
    "print('Validation set saved!')\n",
    "\n",
    "if self_test:\n",
    "    X2.to_csv(f'Database/test/X_self_test_norm.csv')\n",
    "    y2.to_csv(f'Database/test/y_self_test.csv')\n",
    "\n",
    "if not self_test:\n",
    "    X2.to_csv(f'Database/test/X_real_test_norm.csv')\n",
    "print('Test set saved!')"
   ],
   "metadata": {
    "collapsed": false,
    "ExecuteTime": {
     "end_time": "2024-06-26T13:38:12.574594100Z",
     "start_time": "2024-06-26T13:37:15.427508600Z"
    }
   },
   "id": "96d62eb21b81b0ed",
   "execution_count": 23
  }
 ],
 "metadata": {
  "kernelspec": {
   "name": "python3",
   "language": "python",
   "display_name": "Python 3 (ipykernel)"
  },
  "language_info": {
   "codemirror_mode": {
    "name": "ipython",
    "version": 2
   },
   "file_extension": ".py",
   "mimetype": "text/x-python",
   "name": "python",
   "nbconvert_exporter": "python",
   "pygments_lexer": "ipython2",
   "version": "2.7.6"
  }
 },
 "nbformat": 4,
 "nbformat_minor": 5
}
