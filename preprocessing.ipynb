{
 "cells": [
  {
   "cell_type": "code",
   "execution_count": 7,
   "id": "initial_id",
   "metadata": {
    "collapsed": true,
    "ExecuteTime": {
     "end_time": "2024-06-18T05:59:07.223071Z",
     "start_time": "2024-06-18T05:59:07.213950Z"
    }
   },
   "outputs": [],
   "source": [
    "from matplotlib import pyplot as plt\n",
    "from IPython.core.interactiveshell import InteractiveShell\n",
    "\n",
    "import warnings\n",
    "import numpy as np\n",
    "import pandas as pd"
   ]
  },
  {
   "cell_type": "code",
   "outputs": [],
   "source": [
    "plt.rc('font', family='GULIM')\n",
    "warnings.filterwarnings(action='ignore')\n",
    "InteractiveShell.ast_node_interactivity = \"all\""
   ],
   "metadata": {
    "collapsed": false,
    "ExecuteTime": {
     "end_time": "2024-06-18T13:40:54.737205Z",
     "start_time": "2024-06-18T13:40:54.722234Z"
    }
   },
   "id": "59e4e77f713b9513",
   "execution_count": 13
  },
  {
   "cell_type": "code",
   "outputs": [],
   "source": [
    "df = pd.read_csv('Database/rainfall_train.csv', index_col=0)\n",
    "df_test = pd.read_csv('Database/rainfall_test.csv', index_col=0)"
   ],
   "metadata": {
    "collapsed": false,
    "ExecuteTime": {
     "end_time": "2024-06-18T13:41:03.170125Z",
     "start_time": "2024-06-18T13:40:55.333287Z"
    }
   },
   "id": "54b2fb486cc3ff89",
   "execution_count": 14
  },
  {
   "cell_type": "code",
   "outputs": [
    {
     "name": "stdout",
     "output_type": "stream",
     "text": [
      "<class 'pandas.core.frame.DataFrame'>\n",
      "Index: 1457252 entries, 1 to 1457252\n",
      "Data columns (total 21 columns):\n",
      " #   Column                         Non-Null Count    Dtype  \n",
      "---  ------                         --------------    -----  \n",
      " 0   rainfall_train.fc_year         1457252 non-null  object \n",
      " 1   rainfall_train.fc_month        1457252 non-null  int64  \n",
      " 2   rainfall_train.fc_day          1457252 non-null  int64  \n",
      " 3   rainfall_train.fc_hour         1457252 non-null  int64  \n",
      " 4   rainfall_train.stn4contest     1457252 non-null  object \n",
      " 5   rainfall_train.dh              1457252 non-null  int64  \n",
      " 6   rainfall_train.ef_year         1457252 non-null  object \n",
      " 7   rainfall_train.ef_month        1457252 non-null  int64  \n",
      " 8   rainfall_train.ef_day          1457252 non-null  int64  \n",
      " 9   rainfall_train.ef_hour         1457252 non-null  int64  \n",
      " 10  rainfall_train.v01             1457252 non-null  int64  \n",
      " 11  rainfall_train.v02             1457252 non-null  int64  \n",
      " 12  rainfall_train.v03             1457252 non-null  int64  \n",
      " 13  rainfall_train.v04             1457252 non-null  int64  \n",
      " 14  rainfall_train.v05             1457252 non-null  int64  \n",
      " 15  rainfall_train.v06             1457252 non-null  int64  \n",
      " 16  rainfall_train.v07             1457252 non-null  int64  \n",
      " 17  rainfall_train.v08             1457252 non-null  int64  \n",
      " 18  rainfall_train.v09             1457252 non-null  int64  \n",
      " 19  rainfall_train.vv              1457252 non-null  float64\n",
      " 20  rainfall_train.class_interval  1457252 non-null  int64  \n",
      "dtypes: float64(1), int64(17), object(3)\n",
      "memory usage: 244.6+ MB\n"
     ]
    }
   ],
   "source": [
    "df.info()"
   ],
   "metadata": {
    "collapsed": false,
    "ExecuteTime": {
     "end_time": "2024-06-18T13:41:03.604597Z",
     "start_time": "2024-06-18T13:41:03.175453Z"
    }
   },
   "id": "3c9235838e50127",
   "execution_count": 15
  },
  {
   "cell_type": "code",
   "outputs": [],
   "source": [
    "mask=df['rainfall_train.class_interval']==-999\n",
    "df=df[~mask]"
   ],
   "metadata": {
    "collapsed": false,
    "ExecuteTime": {
     "end_time": "2024-06-18T13:41:03.909210Z",
     "start_time": "2024-06-18T13:41:03.612003Z"
    }
   },
   "id": "184b892b4894c048",
   "execution_count": 16
  },
  {
   "cell_type": "code",
   "outputs": [
    {
     "data": {
      "text/plain": "        rainfall_train.fc_year  rainfall_train.fc_month  \\\n1                            A                        5   \n2                            A                        5   \n3                            A                        5   \n4                            A                        5   \n5                            A                        5   \n...                        ...                      ...   \n1457248                      C                        9   \n1457249                      C                        9   \n1457250                      C                        9   \n1457251                      C                        9   \n1457252                      C                        9   \n\n         rainfall_train.fc_day  rainfall_train.fc_hour  \\\n1                            1                       9   \n2                            1                       9   \n3                            1                       9   \n4                            1                       9   \n5                            1                       9   \n...                        ...                     ...   \n1457248                     30                      21   \n1457249                     30                      21   \n1457250                     30                      21   \n1457251                     30                      21   \n1457252                     30                      21   \n\n        rainfall_train.stn4contest  rainfall_train.dh rainfall_train.ef_year  \\\n1                           STN001                  3                      A   \n2                           STN001                  6                      A   \n3                           STN001                  9                      A   \n4                           STN001                 12                      A   \n5                           STN001                 15                      A   \n...                            ...                ...                    ...   \n1457248                     STN020                228                      C   \n1457249                     STN020                231                      C   \n1457250                     STN020                234                      C   \n1457251                     STN020                237                      C   \n1457252                     STN020                240                      C   \n\n         rainfall_train.ef_month  rainfall_train.ef_day  \\\n1                              5                      1   \n2                              5                      1   \n3                              5                      1   \n4                              5                      1   \n5                              5                      2   \n...                          ...                    ...   \n1457248                       10                     10   \n1457249                       10                     10   \n1457250                       10                     10   \n1457251                       10                     10   \n1457252                       10                     10   \n\n         rainfall_train.ef_hour  ...  rainfall_train.v02  rainfall_train.v03  \\\n1                            12  ...                   0                   0   \n2                            15  ...                   0                   0   \n3                            18  ...                   0                   0   \n4                            21  ...                   0                   0   \n5                             0  ...                   0                   0   \n...                         ...  ...                 ...                 ...   \n1457248                       9  ...                   7                   2   \n1457249                      12  ...                   9                   5   \n1457250                      15  ...                   9                   5   \n1457251                      18  ...                   6                   4   \n1457252                      21  ...                   6                   4   \n\n         rainfall_train.v04  rainfall_train.v05  rainfall_train.v06  \\\n1                         0                   0                   0   \n2                         0                   0                   0   \n3                         0                   0                   0   \n4                         0                   0                   0   \n5                         0                   0                   0   \n...                     ...                 ...                 ...   \n1457248                   2                   0                   0   \n1457249                   3                   1                   0   \n1457250                   3                   1                   0   \n1457251                   2                   2                   0   \n1457252                   2                   2                   0   \n\n         rainfall_train.v07  rainfall_train.v08  rainfall_train.v09  \\\n1                         0                   0                   0   \n2                         0                   0                   0   \n3                         0                   0                   0   \n4                         0                   0                   0   \n5                         0                   0                   0   \n...                     ...                 ...                 ...   \n1457248                   0                   0                   0   \n1457249                   0                   0                   0   \n1457250                   0                   0                   0   \n1457251                   0                   0                   0   \n1457252                   0                   0                   0   \n\n         rainfall_train.vv  rainfall_train.class_interval  \n1                      0.0                              0  \n2                      0.0                              0  \n3                      0.0                              0  \n4                      0.0                              0  \n5                      0.0                              0  \n...                    ...                            ...  \n1457248                0.5                              3  \n1457249                0.0                              0  \n1457250                1.9                              4  \n1457251                1.9                              4  \n1457252                1.8                              4  \n\n[1448762 rows x 21 columns]",
      "text/html": "<div>\n<style scoped>\n    .dataframe tbody tr th:only-of-type {\n        vertical-align: middle;\n    }\n\n    .dataframe tbody tr th {\n        vertical-align: top;\n    }\n\n    .dataframe thead th {\n        text-align: right;\n    }\n</style>\n<table border=\"1\" class=\"dataframe\">\n  <thead>\n    <tr style=\"text-align: right;\">\n      <th></th>\n      <th>rainfall_train.fc_year</th>\n      <th>rainfall_train.fc_month</th>\n      <th>rainfall_train.fc_day</th>\n      <th>rainfall_train.fc_hour</th>\n      <th>rainfall_train.stn4contest</th>\n      <th>rainfall_train.dh</th>\n      <th>rainfall_train.ef_year</th>\n      <th>rainfall_train.ef_month</th>\n      <th>rainfall_train.ef_day</th>\n      <th>rainfall_train.ef_hour</th>\n      <th>...</th>\n      <th>rainfall_train.v02</th>\n      <th>rainfall_train.v03</th>\n      <th>rainfall_train.v04</th>\n      <th>rainfall_train.v05</th>\n      <th>rainfall_train.v06</th>\n      <th>rainfall_train.v07</th>\n      <th>rainfall_train.v08</th>\n      <th>rainfall_train.v09</th>\n      <th>rainfall_train.vv</th>\n      <th>rainfall_train.class_interval</th>\n    </tr>\n  </thead>\n  <tbody>\n    <tr>\n      <th>1</th>\n      <td>A</td>\n      <td>5</td>\n      <td>1</td>\n      <td>9</td>\n      <td>STN001</td>\n      <td>3</td>\n      <td>A</td>\n      <td>5</td>\n      <td>1</td>\n      <td>12</td>\n      <td>...</td>\n      <td>0</td>\n      <td>0</td>\n      <td>0</td>\n      <td>0</td>\n      <td>0</td>\n      <td>0</td>\n      <td>0</td>\n      <td>0</td>\n      <td>0.0</td>\n      <td>0</td>\n    </tr>\n    <tr>\n      <th>2</th>\n      <td>A</td>\n      <td>5</td>\n      <td>1</td>\n      <td>9</td>\n      <td>STN001</td>\n      <td>6</td>\n      <td>A</td>\n      <td>5</td>\n      <td>1</td>\n      <td>15</td>\n      <td>...</td>\n      <td>0</td>\n      <td>0</td>\n      <td>0</td>\n      <td>0</td>\n      <td>0</td>\n      <td>0</td>\n      <td>0</td>\n      <td>0</td>\n      <td>0.0</td>\n      <td>0</td>\n    </tr>\n    <tr>\n      <th>3</th>\n      <td>A</td>\n      <td>5</td>\n      <td>1</td>\n      <td>9</td>\n      <td>STN001</td>\n      <td>9</td>\n      <td>A</td>\n      <td>5</td>\n      <td>1</td>\n      <td>18</td>\n      <td>...</td>\n      <td>0</td>\n      <td>0</td>\n      <td>0</td>\n      <td>0</td>\n      <td>0</td>\n      <td>0</td>\n      <td>0</td>\n      <td>0</td>\n      <td>0.0</td>\n      <td>0</td>\n    </tr>\n    <tr>\n      <th>4</th>\n      <td>A</td>\n      <td>5</td>\n      <td>1</td>\n      <td>9</td>\n      <td>STN001</td>\n      <td>12</td>\n      <td>A</td>\n      <td>5</td>\n      <td>1</td>\n      <td>21</td>\n      <td>...</td>\n      <td>0</td>\n      <td>0</td>\n      <td>0</td>\n      <td>0</td>\n      <td>0</td>\n      <td>0</td>\n      <td>0</td>\n      <td>0</td>\n      <td>0.0</td>\n      <td>0</td>\n    </tr>\n    <tr>\n      <th>5</th>\n      <td>A</td>\n      <td>5</td>\n      <td>1</td>\n      <td>9</td>\n      <td>STN001</td>\n      <td>15</td>\n      <td>A</td>\n      <td>5</td>\n      <td>2</td>\n      <td>0</td>\n      <td>...</td>\n      <td>0</td>\n      <td>0</td>\n      <td>0</td>\n      <td>0</td>\n      <td>0</td>\n      <td>0</td>\n      <td>0</td>\n      <td>0</td>\n      <td>0.0</td>\n      <td>0</td>\n    </tr>\n    <tr>\n      <th>...</th>\n      <td>...</td>\n      <td>...</td>\n      <td>...</td>\n      <td>...</td>\n      <td>...</td>\n      <td>...</td>\n      <td>...</td>\n      <td>...</td>\n      <td>...</td>\n      <td>...</td>\n      <td>...</td>\n      <td>...</td>\n      <td>...</td>\n      <td>...</td>\n      <td>...</td>\n      <td>...</td>\n      <td>...</td>\n      <td>...</td>\n      <td>...</td>\n      <td>...</td>\n      <td>...</td>\n    </tr>\n    <tr>\n      <th>1457248</th>\n      <td>C</td>\n      <td>9</td>\n      <td>30</td>\n      <td>21</td>\n      <td>STN020</td>\n      <td>228</td>\n      <td>C</td>\n      <td>10</td>\n      <td>10</td>\n      <td>9</td>\n      <td>...</td>\n      <td>7</td>\n      <td>2</td>\n      <td>2</td>\n      <td>0</td>\n      <td>0</td>\n      <td>0</td>\n      <td>0</td>\n      <td>0</td>\n      <td>0.5</td>\n      <td>3</td>\n    </tr>\n    <tr>\n      <th>1457249</th>\n      <td>C</td>\n      <td>9</td>\n      <td>30</td>\n      <td>21</td>\n      <td>STN020</td>\n      <td>231</td>\n      <td>C</td>\n      <td>10</td>\n      <td>10</td>\n      <td>12</td>\n      <td>...</td>\n      <td>9</td>\n      <td>5</td>\n      <td>3</td>\n      <td>1</td>\n      <td>0</td>\n      <td>0</td>\n      <td>0</td>\n      <td>0</td>\n      <td>0.0</td>\n      <td>0</td>\n    </tr>\n    <tr>\n      <th>1457250</th>\n      <td>C</td>\n      <td>9</td>\n      <td>30</td>\n      <td>21</td>\n      <td>STN020</td>\n      <td>234</td>\n      <td>C</td>\n      <td>10</td>\n      <td>10</td>\n      <td>15</td>\n      <td>...</td>\n      <td>9</td>\n      <td>5</td>\n      <td>3</td>\n      <td>1</td>\n      <td>0</td>\n      <td>0</td>\n      <td>0</td>\n      <td>0</td>\n      <td>1.9</td>\n      <td>4</td>\n    </tr>\n    <tr>\n      <th>1457251</th>\n      <td>C</td>\n      <td>9</td>\n      <td>30</td>\n      <td>21</td>\n      <td>STN020</td>\n      <td>237</td>\n      <td>C</td>\n      <td>10</td>\n      <td>10</td>\n      <td>18</td>\n      <td>...</td>\n      <td>6</td>\n      <td>4</td>\n      <td>2</td>\n      <td>2</td>\n      <td>0</td>\n      <td>0</td>\n      <td>0</td>\n      <td>0</td>\n      <td>1.9</td>\n      <td>4</td>\n    </tr>\n    <tr>\n      <th>1457252</th>\n      <td>C</td>\n      <td>9</td>\n      <td>30</td>\n      <td>21</td>\n      <td>STN020</td>\n      <td>240</td>\n      <td>C</td>\n      <td>10</td>\n      <td>10</td>\n      <td>21</td>\n      <td>...</td>\n      <td>6</td>\n      <td>4</td>\n      <td>2</td>\n      <td>2</td>\n      <td>0</td>\n      <td>0</td>\n      <td>0</td>\n      <td>0</td>\n      <td>1.8</td>\n      <td>4</td>\n    </tr>\n  </tbody>\n</table>\n<p>1448762 rows × 21 columns</p>\n</div>"
     },
     "execution_count": 17,
     "metadata": {},
     "output_type": "execute_result"
    }
   ],
   "source": [
    "df"
   ],
   "metadata": {
    "collapsed": false,
    "ExecuteTime": {
     "end_time": "2024-06-18T13:41:04.653187Z",
     "start_time": "2024-06-18T13:41:03.912494Z"
    }
   },
   "id": "95015c45820bc6cd",
   "execution_count": 17
  },
  {
   "cell_type": "code",
   "outputs": [
    {
     "data": {
      "text/plain": "array(['STN001', 'STN002', 'STN003', 'STN004', 'STN005', 'STN006',\n       'STN007', 'STN008', 'STN009', 'STN010', 'STN011', 'STN012',\n       'STN013', 'STN014', 'STN015', 'STN016', 'STN017', 'STN018',\n       'STN019', 'STN020'], dtype=object)"
     },
     "execution_count": 19,
     "metadata": {},
     "output_type": "execute_result"
    }
   ],
   "source": [
    "df['rainfall_train.stn4contest'].unique()"
   ],
   "metadata": {
    "collapsed": false,
    "ExecuteTime": {
     "end_time": "2024-06-18T13:41:48.315593Z",
     "start_time": "2024-06-18T13:41:48.178710Z"
    }
   },
   "id": "46a1bacb8a78eb61",
   "execution_count": 19
  }
 ],
 "metadata": {
  "kernelspec": {
   "display_name": "Python 3",
   "language": "python",
   "name": "python3"
  },
  "language_info": {
   "codemirror_mode": {
    "name": "ipython",
    "version": 2
   },
   "file_extension": ".py",
   "mimetype": "text/x-python",
   "name": "python",
   "nbconvert_exporter": "python",
   "pygments_lexer": "ipython2",
   "version": "2.7.6"
  }
 },
 "nbformat": 4,
 "nbformat_minor": 5
}
