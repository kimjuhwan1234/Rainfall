{
 "cells": [
  {
   "cell_type": "code",
   "execution_count": 1,
   "id": "initial_id",
   "metadata": {
    "collapsed": true,
    "ExecuteTime": {
     "end_time": "2024-06-26T14:48:07.829602800Z",
     "start_time": "2024-06-26T14:48:05.929367Z"
    }
   },
   "outputs": [],
   "source": [
    "import joblib\n",
    "import warnings\n",
    "from scipy import stats\n",
    "from utils.scaler import *\n",
    "from matplotlib import pyplot as plt\n",
    "from sklearn.preprocessing import MinMaxScaler\n",
    "from sklearn.preprocessing import OneHotEncoder\n",
    "from sklearn.model_selection import train_test_split\n",
    "from IPython.core.interactiveshell import InteractiveShell"
   ]
  },
  {
   "cell_type": "code",
   "outputs": [],
   "source": [
    "plt.rc('font', family='GULIM')\n",
    "warnings.filterwarnings(action='ignore')\n",
    "InteractiveShell.ast_node_interactivity = \"all\""
   ],
   "metadata": {
    "collapsed": false,
    "ExecuteTime": {
     "end_time": "2024-06-26T14:48:07.839066900Z",
     "start_time": "2024-06-26T14:48:07.833120800Z"
    }
   },
   "id": "59e4e77f713b9513",
   "execution_count": 2
  },
  {
   "cell_type": "code",
   "outputs": [],
   "source": [
    "df = pd.read_csv('Database/rainfall_train.csv', index_col=0)\n",
    "df_test = pd.read_csv('Database/rainfall_test.csv')\n",
    "train_col = df.columns.tolist()\n",
    "train_col.remove(train_col[-2])\n",
    "df_test.columns = train_col\n",
    "train, self_test_df = train_test_split(df, test_size=0.1, random_state=42, shuffle=True)"
   ],
   "metadata": {
    "collapsed": false,
    "ExecuteTime": {
     "end_time": "2024-06-26T14:48:09.934224300Z",
     "start_time": "2024-06-26T14:48:07.838066800Z"
    }
   },
   "id": "54b2fb486cc3ff89",
   "execution_count": 3
  },
  {
   "cell_type": "markdown",
   "source": [
    "# Train General Preprocessing"
   ],
   "metadata": {
    "collapsed": false
   },
   "id": "c7ab97cb14a31a21"
  },
  {
   "cell_type": "code",
   "outputs": [],
   "source": [
    "df_1 = train.copy()\n",
    "mask = df_1['rainfall_train.class_interval'] == -999\n",
    "df_1 = df_1[~mask]\n",
    "\n",
    "delete_list = ['rainfall_train.fc_year', 'rainfall_train.fc_month', 'rainfall_train.fc_day', 'rainfall_train.fc_hour',\n",
    "               'rainfall_train.ef_year', 'rainfall_train.vv']\n",
    "df_1 = df_1.drop(columns=delete_list)"
   ],
   "metadata": {
    "collapsed": false,
    "ExecuteTime": {
     "end_time": "2024-06-26T14:48:10.148499700Z",
     "start_time": "2024-06-26T14:48:09.938225Z"
    }
   },
   "id": "6413cb6705888157",
   "execution_count": 4
  },
  {
   "cell_type": "markdown",
   "source": [
    "# Train 이산형변수 처리"
   ],
   "metadata": {
    "collapsed": false
   },
   "id": "86e6060893d120d1"
  },
  {
   "cell_type": "code",
   "outputs": [],
   "source": [
    "df_2 = df_1.copy()\n",
    "\n",
    "original_values = list(range(3, 241, 3))\n",
    "reversed_values = original_values[::-1]\n",
    "mapping_table = dict(zip(original_values, reversed_values))\n",
    "\n",
    "\n",
    "def map_value(x):\n",
    "    if pd.isna(x):\n",
    "        return x\n",
    "    return mapping_table.get(x, x)\n",
    "\n",
    "\n",
    "df_2['rainfall_train.dh'] = df_2['rainfall_train.dh'].apply(map_value)"
   ],
   "metadata": {
    "collapsed": false,
    "ExecuteTime": {
     "end_time": "2024-06-26T14:48:11.267495700Z",
     "start_time": "2024-06-26T14:48:10.158019700Z"
    }
   },
   "id": "3c71828fcbb1aa4f",
   "execution_count": 5
  },
  {
   "cell_type": "code",
   "outputs": [],
   "source": [
    "enc_dict = {}\n",
    "onehot_df = pd.DataFrame(index=df_2.index)\n",
    "for i, col in enumerate(['rainfall_train.ef_month', 'rainfall_train.ef_day', 'rainfall_train.ef_hour']):\n",
    "    enc_dict[i] = OneHotEncoder(handle_unknown='ignore', sparse_output=False)\n",
    "    one_hot_encoded = enc_dict[i].fit_transform(pd.DataFrame(df_2[col]))\n",
    "\n",
    "    encoded_df = pd.DataFrame(one_hot_encoded, columns=enc_dict[i].get_feature_names_out([col]), index=df_2.index)\n",
    "    onehot_df = pd.concat([onehot_df, encoded_df], axis=1)\n",
    "    df_2 = df_2.drop(columns=[col])\n",
    "df_2 = pd.concat([df_2, onehot_df], axis=1)"
   ],
   "metadata": {
    "collapsed": false,
    "ExecuteTime": {
     "end_time": "2024-06-26T14:48:12.681586Z",
     "start_time": "2024-06-26T14:48:11.273014500Z"
    }
   },
   "id": "f9f351f5d9783272",
   "execution_count": 6
  },
  {
   "cell_type": "markdown",
   "source": [
    "# Train 파생변수"
   ],
   "metadata": {
    "collapsed": false
   },
   "id": "ab8913b140ce7bc6"
  },
  {
   "cell_type": "code",
   "outputs": [],
   "source": [
    "df_3 = df_2.copy()\n",
    "\n",
    "continuous_list = [\n",
    "    'rainfall_train.v01', 'rainfall_train.v02', 'rainfall_train.v03', 'rainfall_train.v04', 'rainfall_train.v05',\n",
    "    'rainfall_train.v06', 'rainfall_train.v07', 'rainfall_train.v08', 'rainfall_train.v09']\n",
    "\n",
    "df_3.insert(11, 'cum_prob', df_3[continuous_list].sum(axis=1))\n",
    "df_3.insert(12, 'Zero_Count', (df_3[continuous_list] == 0).sum(axis=1))"
   ],
   "metadata": {
    "collapsed": false,
    "ExecuteTime": {
     "end_time": "2024-06-26T14:48:13.451191800Z",
     "start_time": "2024-06-26T14:48:12.684589300Z"
    }
   },
   "id": "9cf7ea77db1737dc",
   "execution_count": 7
  },
  {
   "cell_type": "markdown",
   "source": [
    "# Train 정규화"
   ],
   "metadata": {
    "collapsed": false
   },
   "id": "c30ce1aaa8cfb8c6"
  },
  {
   "cell_type": "code",
   "outputs": [],
   "source": [
    "df_4 = df_3.copy()\n",
    "\n",
    "minmax_list = ['rainfall_train.dh', 'Zero_Count']\n",
    "minmax_scaler = MinMaxScaler()\n",
    "df_4[minmax_list] = minmax_scaler.fit_transform(df_4[minmax_list])"
   ],
   "metadata": {
    "collapsed": false,
    "ExecuteTime": {
     "end_time": "2024-06-26T14:48:13.724565900Z",
     "start_time": "2024-06-26T14:48:13.451694700Z"
    }
   },
   "id": "4f54462b40d1ad11",
   "execution_count": 8
  },
  {
   "cell_type": "markdown",
   "source": [
    "# Train 연속형변수 분포저장"
   ],
   "metadata": {
    "collapsed": false
   },
   "id": "75236f11db963b51"
  },
  {
   "cell_type": "code",
   "outputs": [],
   "source": [
    "y = df_4['rainfall_train.class_interval']\n",
    "X = df_4.drop(columns='rainfall_train.class_interval')\n",
    "\n",
    "X_train, X_val, y_train, y_val = train_test_split(X, y, test_size=0.05, random_state=42, shuffle=True)"
   ],
   "metadata": {
    "collapsed": false,
    "ExecuteTime": {
     "end_time": "2024-06-26T14:48:15.039926100Z",
     "start_time": "2024-06-26T14:48:13.726566Z"
    }
   },
   "id": "cec8003366004d60",
   "execution_count": 9
  },
  {
   "cell_type": "code",
   "outputs": [],
   "source": [
    "X_train_norm = X_train.copy()\n",
    "X_val_norm = X_val.copy()\n",
    "\n",
    "continuous_list = [\n",
    "    'rainfall_train.v01', 'rainfall_train.v02', 'rainfall_train.v03', 'rainfall_train.v04', 'rainfall_train.v05',\n",
    "    'rainfall_train.v06', 'rainfall_train.v07', 'rainfall_train.v08', 'rainfall_train.v09', 'cum_prob']\n",
    "\n",
    "X_train_norm.loc[:, continuous_list], scaler = standard_scale_train(X_train, continuous_list)\n",
    "X_val_norm.loc[:, continuous_list] = standard_scale_val(X_val, continuous_list, scaler)"
   ],
   "metadata": {
    "collapsed": false,
    "ExecuteTime": {
     "end_time": "2024-06-26T14:48:17.379577400Z",
     "start_time": "2024-06-26T14:48:15.042430600Z"
    }
   },
   "id": "9dd29061387dc5f3",
   "execution_count": 10
  },
  {
   "cell_type": "markdown",
   "source": [
    "# 불균형 해소를 위한 학습파일 저장"
   ],
   "metadata": {
    "collapsed": false
   },
   "id": "63e217a924d7b03"
  },
  {
   "cell_type": "code",
   "outputs": [],
   "source": [
    "total_train = pd.concat([X_train_norm, y_train], axis=1)\n",
    "total_val = pd.concat([X_val_norm, y_val], axis=1)\n",
    "\n",
    "total_train = total_train.iloc[:, 1:]\n",
    "total_val = total_val.iloc[:, 1:]\n",
    "\n",
    "train_mask = total_train['rainfall_train.class_interval'] == 0\n",
    "val_mask = total_val['rainfall_train.class_interval'] == 0\n",
    "\n",
    "total_train = total_train[~train_mask]\n",
    "total_val = total_val[~val_mask]"
   ],
   "metadata": {
    "collapsed": false,
    "ExecuteTime": {
     "end_time": "2024-06-26T14:48:18.787426400Z",
     "start_time": "2024-06-26T14:48:17.384095200Z"
    }
   },
   "id": "ec8c2d21a1b0a5b9",
   "execution_count": 11
  },
  {
   "cell_type": "code",
   "outputs": [],
   "source": [
    "enc = OneHotEncoder(handle_unknown='ignore', sparse_output=False)\n",
    "one_hot_encoded = enc.fit_transform(pd.DataFrame(total_train['rainfall_train.class_interval']))\n",
    "encoded_df = pd.DataFrame(one_hot_encoded, columns=enc.get_feature_names_out(['rainfall_train.class_interval']),\n",
    "                          index=total_train.index)\n",
    "total_train = total_train.drop(columns=['rainfall_train.class_interval'])\n",
    "total_train = pd.concat([total_train, encoded_df], axis=1)"
   ],
   "metadata": {
    "collapsed": false,
    "ExecuteTime": {
     "end_time": "2024-06-26T14:48:18.893705900Z",
     "start_time": "2024-06-26T14:48:18.791942700Z"
    }
   },
   "id": "eab5c8f6c510aba4",
   "execution_count": 12
  },
  {
   "cell_type": "code",
   "outputs": [],
   "source": [
    "one_hot_encoded = enc.transform(pd.DataFrame(total_val['rainfall_train.class_interval']))\n",
    "encoded_df = pd.DataFrame(one_hot_encoded, columns=enc.get_feature_names_out(['rainfall_train.class_interval']),\n",
    "                          index=total_val.index)\n",
    "total_val = total_val.drop(columns=['rainfall_train.class_interval'])\n",
    "total_val = pd.concat([total_val, encoded_df], axis=1)"
   ],
   "metadata": {
    "collapsed": false,
    "ExecuteTime": {
     "end_time": "2024-06-26T14:48:18.915783800Z",
     "start_time": "2024-06-26T14:48:18.901739400Z"
    }
   },
   "id": "73f8d1be3696c6ca",
   "execution_count": 13
  },
  {
   "cell_type": "code",
   "outputs": [],
   "source": [
    "# total_train.to_csv('Database/total/total_train.csv')\n",
    "# total_val.to_csv('Database/total/total_val.csv')"
   ],
   "metadata": {
    "collapsed": false,
    "ExecuteTime": {
     "end_time": "2024-06-26T14:24:50.752719500Z",
     "start_time": "2024-06-26T14:24:41.871362Z"
    }
   },
   "id": "4ee8ceb01fc10a65",
   "execution_count": 16
  },
  {
   "cell_type": "markdown",
   "source": [
    "# test General Preprocessing"
   ],
   "metadata": {
    "collapsed": false
   },
   "id": "e7251cbfd6429ade"
  },
  {
   "cell_type": "code",
   "outputs": [],
   "source": [
    "self_test = True\n",
    "\n",
    "if self_test:\n",
    "    df_1 = self_test_df.copy()\n",
    "if not self_test:\n",
    "    df_1 = df_test.copy()\n",
    "\n",
    "mask = df_1['rainfall_train.class_interval'] == -999\n",
    "df_1 = df_1[~mask]\n",
    "\n",
    "delete_list = ['rainfall_train.fc_year', 'rainfall_train.fc_month', 'rainfall_train.fc_day', 'rainfall_train.fc_hour',\n",
    "               'rainfall_train.ef_year', 'rainfall_train.vv']\n",
    "df_1 = df_1.drop(columns=delete_list)"
   ],
   "metadata": {
    "collapsed": false,
    "ExecuteTime": {
     "end_time": "2024-06-26T14:48:21.064184900Z",
     "start_time": "2024-06-26T14:48:20.997581300Z"
    }
   },
   "id": "f5613864c21cec97",
   "execution_count": 14
  },
  {
   "cell_type": "markdown",
   "source": [
    "# test 이산형변수 처리"
   ],
   "metadata": {
    "collapsed": false
   },
   "id": "5b487c1d0ba45703"
  },
  {
   "cell_type": "code",
   "outputs": [],
   "source": [
    "df_2 = df_1.copy()\n",
    "\n",
    "original_values = list(range(3, 241, 3))\n",
    "reversed_values = original_values[::-1]\n",
    "mapping_table = dict(zip(original_values, reversed_values))\n",
    "\n",
    "\n",
    "def map_value(x):\n",
    "    if pd.isna(x):\n",
    "        return x\n",
    "    return mapping_table.get(x, x)\n",
    "\n",
    "\n",
    "df_2['rainfall_train.dh'] = df_2['rainfall_train.dh'].apply(map_value)"
   ],
   "metadata": {
    "collapsed": false,
    "ExecuteTime": {
     "end_time": "2024-06-26T14:48:21.229275400Z",
     "start_time": "2024-06-26T14:48:21.057662700Z"
    }
   },
   "id": "c5fa43ce3d24b6b0",
   "execution_count": 15
  },
  {
   "cell_type": "code",
   "outputs": [],
   "source": [
    "onehot_df = pd.DataFrame(index=df_2.index)\n",
    "for i, col in enumerate(['rainfall_train.ef_month', 'rainfall_train.ef_day', 'rainfall_train.ef_hour']):\n",
    "    one_hot_encoded = enc_dict[i].transform(pd.DataFrame(df_2[col]))\n",
    "\n",
    "    encoded_df = pd.DataFrame(one_hot_encoded, columns=enc_dict[i].get_feature_names_out([col]), index=df_2.index)\n",
    "    onehot_df = pd.concat([onehot_df, encoded_df], axis=1)\n",
    "    df_2 = df_2.drop(columns=[col])\n",
    "df_2 = pd.concat([df_2, onehot_df], axis=1)"
   ],
   "metadata": {
    "collapsed": false,
    "ExecuteTime": {
     "end_time": "2024-06-26T14:48:21.419460700Z",
     "start_time": "2024-06-26T14:48:21.219768400Z"
    }
   },
   "id": "a49a5d60b92f20b2",
   "execution_count": 16
  },
  {
   "cell_type": "markdown",
   "source": [
    "# test 파생변수"
   ],
   "metadata": {
    "collapsed": false
   },
   "id": "c84ea44f2b8fc942"
  },
  {
   "cell_type": "code",
   "outputs": [],
   "source": [
    "df_3 = df_2.copy()\n",
    "\n",
    "continuous_list = [\n",
    "    'rainfall_train.v01', 'rainfall_train.v02', 'rainfall_train.v03', 'rainfall_train.v04', 'rainfall_train.v05',\n",
    "    'rainfall_train.v06', 'rainfall_train.v07', 'rainfall_train.v08', 'rainfall_train.v09']\n",
    "\n",
    "df_3.insert(11, 'cum_prob', df_3[continuous_list].sum(axis=1))\n",
    "df_3.insert(12, 'Zero_Count', (df_3[continuous_list] == 0).sum(axis=1))"
   ],
   "metadata": {
    "collapsed": false,
    "ExecuteTime": {
     "end_time": "2024-06-26T14:48:23.069266200Z",
     "start_time": "2024-06-26T14:48:22.964966500Z"
    }
   },
   "id": "bc2e39914583ce83",
   "execution_count": 17
  },
  {
   "cell_type": "markdown",
   "source": [
    "# test 정규화"
   ],
   "metadata": {
    "collapsed": false
   },
   "id": "ca0b50f9df640da1"
  },
  {
   "cell_type": "code",
   "outputs": [],
   "source": [
    "df_4 = df_3.copy()\n",
    "\n",
    "minmax_list = ['rainfall_train.dh', 'Zero_Count']\n",
    "df_4[minmax_list] = minmax_scaler.transform(df_4[minmax_list])"
   ],
   "metadata": {
    "collapsed": false,
    "ExecuteTime": {
     "end_time": "2024-06-26T14:48:23.135966500Z",
     "start_time": "2024-06-26T14:48:23.072783700Z"
    }
   },
   "id": "fdaa61e7278bf8f7",
   "execution_count": 18
  },
  {
   "cell_type": "markdown",
   "source": [
    "# test 이산형변수 칼럼통일"
   ],
   "metadata": {
    "collapsed": false
   },
   "id": "d6a7bbefecc481c4"
  },
  {
   "cell_type": "code",
   "outputs": [],
   "source": [
    "if self_test:\n",
    "    y2 = df_4['rainfall_train.class_interval']\n",
    "    X2 = df_4.drop(columns='rainfall_train.class_interval')\n",
    "\n",
    "    # train에만 있고 test에 없는 경우, 해당 column name으로 test에 zero columns 추가.\n",
    "    X2[list(X_val_norm.columns[X_val_norm.columns.isin(X2) == False])] = 0\n",
    "\n",
    "    # test에만 있고 train에는 없는 경우, 해당 column name은 제거.\n",
    "    X2 = X2.drop(columns=list(X2.columns[X2.columns.isin(X_val_norm) == False]))\n",
    "    X2 = X2[X_val_norm.columns]\n",
    "\n",
    "if not self_test:\n",
    "    X2 = df_4\n",
    "\n",
    "    # train에만 있고 test에 없는 경우, 해당 column name으로 test에 zero columns 추가.\n",
    "    X2[list(X_val_norm.columns[X_val_norm.columns.isin(X2) == False])] = 0\n",
    "\n",
    "    # test에만 있고 train에는 없는 경우, 해당 column name은 제거.\n",
    "    X2 = X2.drop(columns=list(X2.columns[X2.columns.isin(X_val_norm) == False]))\n",
    "    X2 = X2[X_val_norm.columns]"
   ],
   "metadata": {
    "collapsed": false,
    "ExecuteTime": {
     "end_time": "2024-06-26T14:48:24.471095800Z",
     "start_time": "2024-06-26T14:48:24.406728Z"
    }
   },
   "id": "6cafd0da4f1061dc",
   "execution_count": 19
  },
  {
   "cell_type": "markdown",
   "source": [
    "# test 연속형변수 분포통일"
   ],
   "metadata": {
    "collapsed": false
   },
   "id": "f9475cd7439efdc7"
  },
  {
   "cell_type": "code",
   "outputs": [],
   "source": [
    "continuous_list = [\n",
    "    'rainfall_train.v01', 'rainfall_train.v02', 'rainfall_train.v03', 'rainfall_train.v04', 'rainfall_train.v05',\n",
    "    'rainfall_train.v06', 'rainfall_train.v07', 'rainfall_train.v08', 'rainfall_train.v09', 'cum_prob']\n",
    "\n",
    "X2.loc[:, continuous_list] = standard_scale_val(X2, continuous_list, scaler)"
   ],
   "metadata": {
    "collapsed": false,
    "ExecuteTime": {
     "end_time": "2024-06-26T14:48:25.672515500Z",
     "start_time": "2024-06-26T14:48:25.595813700Z"
    }
   },
   "id": "7a2896378844b737",
   "execution_count": 20
  },
  {
   "cell_type": "markdown",
   "source": [
    "# 뷸균형 해소"
   ],
   "metadata": {
    "collapsed": false
   },
   "id": "332063645e67a8d"
  },
  {
   "cell_type": "code",
   "outputs": [
    {
     "data": {
      "text/plain": "<All keys matched successfully>"
     },
     "execution_count": 21,
     "metadata": {},
     "output_type": "execute_result"
    }
   ],
   "source": [
    "import torch\n",
    "from Module.model import VAE\n",
    "\n",
    "model = VAE(32, 10000)\n",
    "model.load_state_dict(torch.load('Weight/VAE.pth'))"
   ],
   "metadata": {
    "collapsed": false,
    "ExecuteTime": {
     "end_time": "2024-06-26T14:48:29.782974Z",
     "start_time": "2024-06-26T14:48:27.050223100Z"
    }
   },
   "id": "a975d94a9dedb547",
   "execution_count": 21
  },
  {
   "cell_type": "code",
   "outputs": [],
   "source": [
    "syn_data = model()"
   ],
   "metadata": {
    "collapsed": false,
    "ExecuteTime": {
     "end_time": "2024-06-26T14:48:31.047834300Z",
     "start_time": "2024-06-26T14:48:30.701604600Z"
    }
   },
   "id": "53469dd87400bab0",
   "execution_count": 22
  },
  {
   "cell_type": "code",
   "outputs": [],
   "source": [
    "syn_df = pd.DataFrame(syn_data.cpu().detach().numpy(),\n",
    "                      columns=list(X_train_norm.iloc[:, 1:].columns) + ['rainfall_train.class_interval'])"
   ],
   "metadata": {
    "collapsed": false,
    "ExecuteTime": {
     "end_time": "2024-06-26T14:48:32.138561100Z",
     "start_time": "2024-06-26T14:48:31.995507100Z"
    }
   },
   "id": "fd2eb6d9e172002e",
   "execution_count": 23
  },
  {
   "cell_type": "code",
   "outputs": [
    {
     "data": {
      "text/plain": "         rainfall_train.dh  rainfall_train.v01  rainfall_train.v02  \\\n1452751           0.696203            2.348428            2.579809   \n926455            0.873418            0.672826            0.764343   \n829430            0.784810            1.869685            2.061104   \n88365             0.341772            2.177448            2.246356   \n890088            0.481013            0.501847            0.579091   \n...                    ...                 ...                 ...   \n16012             0.835443            2.280036            2.616859   \n1056215           0.455696            2.109056            2.024054   \n468297            0.924051            2.245840            2.283406   \n1154183           0.063291            0.672826            0.801393   \n95230             0.531646            1.254157            1.283047   \n\n         rainfall_train.v03  rainfall_train.v04  rainfall_train.v05  \\\n1452751            3.099341            3.586163            4.173833   \n926455             0.498615            0.174043           -0.024139   \n829430             2.535851            2.669474            2.858051   \n88365              2.362469            2.618547            2.544769   \n890088             0.541961            0.428679           -0.086795   \n...                     ...                 ...                 ...   \n16012              3.229378            3.891726            4.111177   \n1056215            0.802033            0.123116            0.289143   \n468297             2.319124            2.516693            1.041018   \n1154183            0.932070            1.039805            1.041018   \n95230              1.062106            0.377752           -0.086795   \n\n         rainfall_train.v06  rainfall_train.v07  rainfall_train.v08  \\\n1452751            4.938387            6.161024            5.934830   \n926455            -0.446242           -0.325896           -0.191676   \n829430             3.015306            2.746856            1.121147   \n88365              2.342227            3.088273            2.871577   \n890088            -0.061626           -0.325896           -0.191676   \n...                     ...                 ...                 ...   \n16012              3.399922            0.869063           -0.191676   \n1056215           -0.350088           -0.325896           -0.191676   \n468297             0.419145           -0.325896           -0.191676   \n1154183            0.515299            0.698355            1.558754   \n95230             -0.446242           -0.325896           -0.191676   \n\n         rainfall_train.v09  ...  rainfall_train.ef_hour_21  \\\n1452751            3.484600  ...                        0.0   \n926455            -0.125634  ...                        0.0   \n829430             1.679483  ...                        0.0   \n88365             -0.125634  ...                        0.0   \n890088            -0.125634  ...                        0.0   \n...                     ...  ...                        ...   \n16012             -0.125634  ...                        0.0   \n1056215           -0.125634  ...                        0.0   \n468297            -0.125634  ...                        0.0   \n1154183            1.679483  ...                        0.0   \n95230             -0.125634  ...                        0.0   \n\n         rainfall_train.class_interval_1  rainfall_train.class_interval_2  \\\n1452751                              0.0                              0.0   \n926455                               0.0                              1.0   \n829430                               0.0                              1.0   \n88365                                0.0                              0.0   \n890088                               0.0                              0.0   \n...                                  ...                              ...   \n16012                                0.0                              0.0   \n1056215                              0.0                              0.0   \n468297                               0.0                              1.0   \n1154183                              0.0                              0.0   \n95230                                0.0                              0.0   \n\n         rainfall_train.class_interval_3  rainfall_train.class_interval_4  \\\n1452751                              0.0                              0.0   \n926455                               0.0                              0.0   \n829430                               0.0                              0.0   \n88365                                0.0                              1.0   \n890088                               0.0                              0.0   \n...                                  ...                              ...   \n16012                                0.0                              0.0   \n1056215                              0.0                              0.0   \n468297                               0.0                              0.0   \n1154183                              0.0                              0.0   \n95230                                0.0                              0.0   \n\n         rainfall_train.class_interval_5  rainfall_train.class_interval_6  \\\n1452751                              0.0                              0.0   \n926455                               0.0                              0.0   \n829430                               0.0                              0.0   \n88365                                0.0                              0.0   \n890088                               1.0                              0.0   \n...                                  ...                              ...   \n16012                                0.0                              0.0   \n1056215                              0.0                              0.0   \n468297                               0.0                              0.0   \n1154183                              0.0                              1.0   \n95230                                1.0                              0.0   \n\n         rainfall_train.class_interval_7  rainfall_train.class_interval_8  \\\n1452751                              0.0                              0.0   \n926455                               0.0                              0.0   \n829430                               0.0                              0.0   \n88365                                0.0                              0.0   \n890088                               0.0                              0.0   \n...                                  ...                              ...   \n16012                                0.0                              1.0   \n1056215                              1.0                              0.0   \n468297                               0.0                              0.0   \n1154183                              0.0                              0.0   \n95230                                0.0                              0.0   \n\n         rainfall_train.class_interval_9  \n1452751                              1.0  \n926455                               0.0  \n829430                               0.0  \n88365                                0.0  \n890088                               0.0  \n...                                  ...  \n16012                                0.0  \n1056215                              0.0  \n468297                               0.0  \n1154183                              0.0  \n95230                                0.0  \n\n[192531 rows x 66 columns]",
      "text/html": "<div>\n<style scoped>\n    .dataframe tbody tr th:only-of-type {\n        vertical-align: middle;\n    }\n\n    .dataframe tbody tr th {\n        vertical-align: top;\n    }\n\n    .dataframe thead th {\n        text-align: right;\n    }\n</style>\n<table border=\"1\" class=\"dataframe\">\n  <thead>\n    <tr style=\"text-align: right;\">\n      <th></th>\n      <th>rainfall_train.dh</th>\n      <th>rainfall_train.v01</th>\n      <th>rainfall_train.v02</th>\n      <th>rainfall_train.v03</th>\n      <th>rainfall_train.v04</th>\n      <th>rainfall_train.v05</th>\n      <th>rainfall_train.v06</th>\n      <th>rainfall_train.v07</th>\n      <th>rainfall_train.v08</th>\n      <th>rainfall_train.v09</th>\n      <th>...</th>\n      <th>rainfall_train.ef_hour_21</th>\n      <th>rainfall_train.class_interval_1</th>\n      <th>rainfall_train.class_interval_2</th>\n      <th>rainfall_train.class_interval_3</th>\n      <th>rainfall_train.class_interval_4</th>\n      <th>rainfall_train.class_interval_5</th>\n      <th>rainfall_train.class_interval_6</th>\n      <th>rainfall_train.class_interval_7</th>\n      <th>rainfall_train.class_interval_8</th>\n      <th>rainfall_train.class_interval_9</th>\n    </tr>\n  </thead>\n  <tbody>\n    <tr>\n      <th>1452751</th>\n      <td>0.696203</td>\n      <td>2.348428</td>\n      <td>2.579809</td>\n      <td>3.099341</td>\n      <td>3.586163</td>\n      <td>4.173833</td>\n      <td>4.938387</td>\n      <td>6.161024</td>\n      <td>5.934830</td>\n      <td>3.484600</td>\n      <td>...</td>\n      <td>0.0</td>\n      <td>0.0</td>\n      <td>0.0</td>\n      <td>0.0</td>\n      <td>0.0</td>\n      <td>0.0</td>\n      <td>0.0</td>\n      <td>0.0</td>\n      <td>0.0</td>\n      <td>1.0</td>\n    </tr>\n    <tr>\n      <th>926455</th>\n      <td>0.873418</td>\n      <td>0.672826</td>\n      <td>0.764343</td>\n      <td>0.498615</td>\n      <td>0.174043</td>\n      <td>-0.024139</td>\n      <td>-0.446242</td>\n      <td>-0.325896</td>\n      <td>-0.191676</td>\n      <td>-0.125634</td>\n      <td>...</td>\n      <td>0.0</td>\n      <td>0.0</td>\n      <td>1.0</td>\n      <td>0.0</td>\n      <td>0.0</td>\n      <td>0.0</td>\n      <td>0.0</td>\n      <td>0.0</td>\n      <td>0.0</td>\n      <td>0.0</td>\n    </tr>\n    <tr>\n      <th>829430</th>\n      <td>0.784810</td>\n      <td>1.869685</td>\n      <td>2.061104</td>\n      <td>2.535851</td>\n      <td>2.669474</td>\n      <td>2.858051</td>\n      <td>3.015306</td>\n      <td>2.746856</td>\n      <td>1.121147</td>\n      <td>1.679483</td>\n      <td>...</td>\n      <td>0.0</td>\n      <td>0.0</td>\n      <td>1.0</td>\n      <td>0.0</td>\n      <td>0.0</td>\n      <td>0.0</td>\n      <td>0.0</td>\n      <td>0.0</td>\n      <td>0.0</td>\n      <td>0.0</td>\n    </tr>\n    <tr>\n      <th>88365</th>\n      <td>0.341772</td>\n      <td>2.177448</td>\n      <td>2.246356</td>\n      <td>2.362469</td>\n      <td>2.618547</td>\n      <td>2.544769</td>\n      <td>2.342227</td>\n      <td>3.088273</td>\n      <td>2.871577</td>\n      <td>-0.125634</td>\n      <td>...</td>\n      <td>0.0</td>\n      <td>0.0</td>\n      <td>0.0</td>\n      <td>0.0</td>\n      <td>1.0</td>\n      <td>0.0</td>\n      <td>0.0</td>\n      <td>0.0</td>\n      <td>0.0</td>\n      <td>0.0</td>\n    </tr>\n    <tr>\n      <th>890088</th>\n      <td>0.481013</td>\n      <td>0.501847</td>\n      <td>0.579091</td>\n      <td>0.541961</td>\n      <td>0.428679</td>\n      <td>-0.086795</td>\n      <td>-0.061626</td>\n      <td>-0.325896</td>\n      <td>-0.191676</td>\n      <td>-0.125634</td>\n      <td>...</td>\n      <td>0.0</td>\n      <td>0.0</td>\n      <td>0.0</td>\n      <td>0.0</td>\n      <td>0.0</td>\n      <td>1.0</td>\n      <td>0.0</td>\n      <td>0.0</td>\n      <td>0.0</td>\n      <td>0.0</td>\n    </tr>\n    <tr>\n      <th>...</th>\n      <td>...</td>\n      <td>...</td>\n      <td>...</td>\n      <td>...</td>\n      <td>...</td>\n      <td>...</td>\n      <td>...</td>\n      <td>...</td>\n      <td>...</td>\n      <td>...</td>\n      <td>...</td>\n      <td>...</td>\n      <td>...</td>\n      <td>...</td>\n      <td>...</td>\n      <td>...</td>\n      <td>...</td>\n      <td>...</td>\n      <td>...</td>\n      <td>...</td>\n      <td>...</td>\n    </tr>\n    <tr>\n      <th>16012</th>\n      <td>0.835443</td>\n      <td>2.280036</td>\n      <td>2.616859</td>\n      <td>3.229378</td>\n      <td>3.891726</td>\n      <td>4.111177</td>\n      <td>3.399922</td>\n      <td>0.869063</td>\n      <td>-0.191676</td>\n      <td>-0.125634</td>\n      <td>...</td>\n      <td>0.0</td>\n      <td>0.0</td>\n      <td>0.0</td>\n      <td>0.0</td>\n      <td>0.0</td>\n      <td>0.0</td>\n      <td>0.0</td>\n      <td>0.0</td>\n      <td>1.0</td>\n      <td>0.0</td>\n    </tr>\n    <tr>\n      <th>1056215</th>\n      <td>0.455696</td>\n      <td>2.109056</td>\n      <td>2.024054</td>\n      <td>0.802033</td>\n      <td>0.123116</td>\n      <td>0.289143</td>\n      <td>-0.350088</td>\n      <td>-0.325896</td>\n      <td>-0.191676</td>\n      <td>-0.125634</td>\n      <td>...</td>\n      <td>0.0</td>\n      <td>0.0</td>\n      <td>0.0</td>\n      <td>0.0</td>\n      <td>0.0</td>\n      <td>0.0</td>\n      <td>0.0</td>\n      <td>1.0</td>\n      <td>0.0</td>\n      <td>0.0</td>\n    </tr>\n    <tr>\n      <th>468297</th>\n      <td>0.924051</td>\n      <td>2.245840</td>\n      <td>2.283406</td>\n      <td>2.319124</td>\n      <td>2.516693</td>\n      <td>1.041018</td>\n      <td>0.419145</td>\n      <td>-0.325896</td>\n      <td>-0.191676</td>\n      <td>-0.125634</td>\n      <td>...</td>\n      <td>0.0</td>\n      <td>0.0</td>\n      <td>1.0</td>\n      <td>0.0</td>\n      <td>0.0</td>\n      <td>0.0</td>\n      <td>0.0</td>\n      <td>0.0</td>\n      <td>0.0</td>\n      <td>0.0</td>\n    </tr>\n    <tr>\n      <th>1154183</th>\n      <td>0.063291</td>\n      <td>0.672826</td>\n      <td>0.801393</td>\n      <td>0.932070</td>\n      <td>1.039805</td>\n      <td>1.041018</td>\n      <td>0.515299</td>\n      <td>0.698355</td>\n      <td>1.558754</td>\n      <td>1.679483</td>\n      <td>...</td>\n      <td>0.0</td>\n      <td>0.0</td>\n      <td>0.0</td>\n      <td>0.0</td>\n      <td>0.0</td>\n      <td>0.0</td>\n      <td>1.0</td>\n      <td>0.0</td>\n      <td>0.0</td>\n      <td>0.0</td>\n    </tr>\n    <tr>\n      <th>95230</th>\n      <td>0.531646</td>\n      <td>1.254157</td>\n      <td>1.283047</td>\n      <td>1.062106</td>\n      <td>0.377752</td>\n      <td>-0.086795</td>\n      <td>-0.446242</td>\n      <td>-0.325896</td>\n      <td>-0.191676</td>\n      <td>-0.125634</td>\n      <td>...</td>\n      <td>0.0</td>\n      <td>0.0</td>\n      <td>0.0</td>\n      <td>0.0</td>\n      <td>0.0</td>\n      <td>1.0</td>\n      <td>0.0</td>\n      <td>0.0</td>\n      <td>0.0</td>\n      <td>0.0</td>\n    </tr>\n  </tbody>\n</table>\n<p>192531 rows × 66 columns</p>\n</div>"
     },
     "execution_count": 24,
     "metadata": {},
     "output_type": "execute_result"
    }
   ],
   "source": [
    "total_train"
   ],
   "metadata": {
    "collapsed": false,
    "ExecuteTime": {
     "end_time": "2024-06-26T14:48:33.581867700Z",
     "start_time": "2024-06-26T14:48:33.507587700Z"
    }
   },
   "id": "9223438cba3f9630",
   "execution_count": 24
  },
  {
   "cell_type": "code",
   "outputs": [
    {
     "data": {
      "text/plain": "      rainfall_train.dh  rainfall_train.v01  rainfall_train.v02  \\\n0              0.637098            2.025040            2.163590   \n1              0.609669            1.942567            2.033810   \n2              0.359252            0.420057            0.395552   \n3              0.581665            1.944295            2.075282   \n4              0.412646            0.644469            0.581715   \n...                 ...                 ...                 ...   \n9995           0.462308           -0.322671           -0.363805   \n9996           0.607051            1.936580            2.110434   \n9997           0.558610            0.395248            0.284043   \n9998           0.585859            1.878104            2.101682   \n9999           0.374841            0.310465            0.283340   \n\n      rainfall_train.v03  rainfall_train.v04  rainfall_train.v05  \\\n0               2.253500            2.044357            1.550571   \n1               2.030638            1.769201            1.318017   \n2               0.377447            0.342180            0.271293   \n3               2.180141            2.050198            1.735692   \n4               0.463149            0.325164            0.196255   \n...                  ...                 ...                 ...   \n9995           -0.356592           -0.338557           -0.325854   \n9996            2.389647            2.510287            2.391372   \n9997            0.064924           -0.143763           -0.286861   \n9998            2.493845            2.742632            3.048960   \n9999            0.265664            0.204140            0.103209   \n\n      rainfall_train.v06  rainfall_train.v07  rainfall_train.v08  \\\n0               0.670762            0.177104           -0.140630   \n1               0.566097            0.095959           -0.113031   \n2               0.178883            0.105434           -0.038721   \n3               1.038695            0.445485            0.017632   \n4               0.086712            0.012580           -0.091243   \n...                  ...                 ...                 ...   \n9995           -0.338171           -0.327901           -0.216222   \n9996            1.562829            0.646533            0.046327   \n9997           -0.377414           -0.329868           -0.220881   \n9998            3.725542            4.416602            6.486263   \n9999            0.047013            0.064382           -0.022437   \n\n      rainfall_train.v09  ...  rainfall_train.ef_day_31  \\\n0              -0.080024  ...                       0.0   \n1               0.001608  ...                       0.0   \n2              -0.043456  ...                       0.0   \n3              -0.038453  ...                       0.0   \n4              -0.113085  ...                       0.0   \n...                  ...  ...                       ...   \n9995           -0.102607  ...                       0.0   \n9996            0.052093  ...                       0.0   \n9997           -0.097487  ...                       0.0   \n9998            8.835534  ...                       0.0   \n9999           -0.117908  ...                       0.0   \n\n      rainfall_train.ef_hour_0  rainfall_train.ef_hour_3  \\\n0                          0.0                       0.0   \n1                          0.0                       0.0   \n2                          0.0                       0.0   \n3                          0.0                       0.0   \n4                          0.0                       0.0   \n...                        ...                       ...   \n9995                       0.0                       0.0   \n9996                       0.0                       1.0   \n9997                       0.0                       1.0   \n9998                       0.0                       0.0   \n9999                       0.0                       0.0   \n\n      rainfall_train.ef_hour_6  rainfall_train.ef_hour_9  \\\n0                          0.0                       0.0   \n1                          0.0                       0.0   \n2                          0.0                       0.0   \n3                          0.0                       0.0   \n4                          0.0                       0.0   \n...                        ...                       ...   \n9995                       0.0                       0.0   \n9996                       0.0                       0.0   \n9997                       0.0                       0.0   \n9998                       0.0                       0.0   \n9999                       0.0                       0.0   \n\n      rainfall_train.ef_hour_12  rainfall_train.ef_hour_15  \\\n0                           0.0                        0.0   \n1                           0.0                        0.0   \n2                           0.0                        0.0   \n3                           0.0                        0.0   \n4                           0.0                        0.0   \n...                         ...                        ...   \n9995                        0.0                        0.0   \n9996                        0.0                        0.0   \n9997                        0.0                        0.0   \n9998                        0.0                        0.0   \n9999                        0.0                        0.0   \n\n      rainfall_train.ef_hour_18  rainfall_train.ef_hour_21  \\\n0                           0.0                        0.0   \n1                           0.0                        0.0   \n2                           0.0                        0.0   \n3                           0.0                        0.0   \n4                           0.0                        0.0   \n...                         ...                        ...   \n9995                        0.0                        0.0   \n9996                        0.0                        0.0   \n9997                        0.0                        0.0   \n9998                        0.0                        0.0   \n9999                        0.0                        0.0   \n\n      rainfall_train.class_interval  \n0                               1.0  \n1                               5.0  \n2                               6.0  \n3                               1.0  \n4                               3.0  \n...                             ...  \n9995                            4.0  \n9996                            3.0  \n9997                            3.0  \n9998                            6.0  \n9999                            2.0  \n\n[10000 rows x 58 columns]",
      "text/html": "<div>\n<style scoped>\n    .dataframe tbody tr th:only-of-type {\n        vertical-align: middle;\n    }\n\n    .dataframe tbody tr th {\n        vertical-align: top;\n    }\n\n    .dataframe thead th {\n        text-align: right;\n    }\n</style>\n<table border=\"1\" class=\"dataframe\">\n  <thead>\n    <tr style=\"text-align: right;\">\n      <th></th>\n      <th>rainfall_train.dh</th>\n      <th>rainfall_train.v01</th>\n      <th>rainfall_train.v02</th>\n      <th>rainfall_train.v03</th>\n      <th>rainfall_train.v04</th>\n      <th>rainfall_train.v05</th>\n      <th>rainfall_train.v06</th>\n      <th>rainfall_train.v07</th>\n      <th>rainfall_train.v08</th>\n      <th>rainfall_train.v09</th>\n      <th>...</th>\n      <th>rainfall_train.ef_day_31</th>\n      <th>rainfall_train.ef_hour_0</th>\n      <th>rainfall_train.ef_hour_3</th>\n      <th>rainfall_train.ef_hour_6</th>\n      <th>rainfall_train.ef_hour_9</th>\n      <th>rainfall_train.ef_hour_12</th>\n      <th>rainfall_train.ef_hour_15</th>\n      <th>rainfall_train.ef_hour_18</th>\n      <th>rainfall_train.ef_hour_21</th>\n      <th>rainfall_train.class_interval</th>\n    </tr>\n  </thead>\n  <tbody>\n    <tr>\n      <th>0</th>\n      <td>0.637098</td>\n      <td>2.025040</td>\n      <td>2.163590</td>\n      <td>2.253500</td>\n      <td>2.044357</td>\n      <td>1.550571</td>\n      <td>0.670762</td>\n      <td>0.177104</td>\n      <td>-0.140630</td>\n      <td>-0.080024</td>\n      <td>...</td>\n      <td>0.0</td>\n      <td>0.0</td>\n      <td>0.0</td>\n      <td>0.0</td>\n      <td>0.0</td>\n      <td>0.0</td>\n      <td>0.0</td>\n      <td>0.0</td>\n      <td>0.0</td>\n      <td>1.0</td>\n    </tr>\n    <tr>\n      <th>1</th>\n      <td>0.609669</td>\n      <td>1.942567</td>\n      <td>2.033810</td>\n      <td>2.030638</td>\n      <td>1.769201</td>\n      <td>1.318017</td>\n      <td>0.566097</td>\n      <td>0.095959</td>\n      <td>-0.113031</td>\n      <td>0.001608</td>\n      <td>...</td>\n      <td>0.0</td>\n      <td>0.0</td>\n      <td>0.0</td>\n      <td>0.0</td>\n      <td>0.0</td>\n      <td>0.0</td>\n      <td>0.0</td>\n      <td>0.0</td>\n      <td>0.0</td>\n      <td>5.0</td>\n    </tr>\n    <tr>\n      <th>2</th>\n      <td>0.359252</td>\n      <td>0.420057</td>\n      <td>0.395552</td>\n      <td>0.377447</td>\n      <td>0.342180</td>\n      <td>0.271293</td>\n      <td>0.178883</td>\n      <td>0.105434</td>\n      <td>-0.038721</td>\n      <td>-0.043456</td>\n      <td>...</td>\n      <td>0.0</td>\n      <td>0.0</td>\n      <td>0.0</td>\n      <td>0.0</td>\n      <td>0.0</td>\n      <td>0.0</td>\n      <td>0.0</td>\n      <td>0.0</td>\n      <td>0.0</td>\n      <td>6.0</td>\n    </tr>\n    <tr>\n      <th>3</th>\n      <td>0.581665</td>\n      <td>1.944295</td>\n      <td>2.075282</td>\n      <td>2.180141</td>\n      <td>2.050198</td>\n      <td>1.735692</td>\n      <td>1.038695</td>\n      <td>0.445485</td>\n      <td>0.017632</td>\n      <td>-0.038453</td>\n      <td>...</td>\n      <td>0.0</td>\n      <td>0.0</td>\n      <td>0.0</td>\n      <td>0.0</td>\n      <td>0.0</td>\n      <td>0.0</td>\n      <td>0.0</td>\n      <td>0.0</td>\n      <td>0.0</td>\n      <td>1.0</td>\n    </tr>\n    <tr>\n      <th>4</th>\n      <td>0.412646</td>\n      <td>0.644469</td>\n      <td>0.581715</td>\n      <td>0.463149</td>\n      <td>0.325164</td>\n      <td>0.196255</td>\n      <td>0.086712</td>\n      <td>0.012580</td>\n      <td>-0.091243</td>\n      <td>-0.113085</td>\n      <td>...</td>\n      <td>0.0</td>\n      <td>0.0</td>\n      <td>0.0</td>\n      <td>0.0</td>\n      <td>0.0</td>\n      <td>0.0</td>\n      <td>0.0</td>\n      <td>0.0</td>\n      <td>0.0</td>\n      <td>3.0</td>\n    </tr>\n    <tr>\n      <th>...</th>\n      <td>...</td>\n      <td>...</td>\n      <td>...</td>\n      <td>...</td>\n      <td>...</td>\n      <td>...</td>\n      <td>...</td>\n      <td>...</td>\n      <td>...</td>\n      <td>...</td>\n      <td>...</td>\n      <td>...</td>\n      <td>...</td>\n      <td>...</td>\n      <td>...</td>\n      <td>...</td>\n      <td>...</td>\n      <td>...</td>\n      <td>...</td>\n      <td>...</td>\n      <td>...</td>\n    </tr>\n    <tr>\n      <th>9995</th>\n      <td>0.462308</td>\n      <td>-0.322671</td>\n      <td>-0.363805</td>\n      <td>-0.356592</td>\n      <td>-0.338557</td>\n      <td>-0.325854</td>\n      <td>-0.338171</td>\n      <td>-0.327901</td>\n      <td>-0.216222</td>\n      <td>-0.102607</td>\n      <td>...</td>\n      <td>0.0</td>\n      <td>0.0</td>\n      <td>0.0</td>\n      <td>0.0</td>\n      <td>0.0</td>\n      <td>0.0</td>\n      <td>0.0</td>\n      <td>0.0</td>\n      <td>0.0</td>\n      <td>4.0</td>\n    </tr>\n    <tr>\n      <th>9996</th>\n      <td>0.607051</td>\n      <td>1.936580</td>\n      <td>2.110434</td>\n      <td>2.389647</td>\n      <td>2.510287</td>\n      <td>2.391372</td>\n      <td>1.562829</td>\n      <td>0.646533</td>\n      <td>0.046327</td>\n      <td>0.052093</td>\n      <td>...</td>\n      <td>0.0</td>\n      <td>0.0</td>\n      <td>1.0</td>\n      <td>0.0</td>\n      <td>0.0</td>\n      <td>0.0</td>\n      <td>0.0</td>\n      <td>0.0</td>\n      <td>0.0</td>\n      <td>3.0</td>\n    </tr>\n    <tr>\n      <th>9997</th>\n      <td>0.558610</td>\n      <td>0.395248</td>\n      <td>0.284043</td>\n      <td>0.064924</td>\n      <td>-0.143763</td>\n      <td>-0.286861</td>\n      <td>-0.377414</td>\n      <td>-0.329868</td>\n      <td>-0.220881</td>\n      <td>-0.097487</td>\n      <td>...</td>\n      <td>0.0</td>\n      <td>0.0</td>\n      <td>1.0</td>\n      <td>0.0</td>\n      <td>0.0</td>\n      <td>0.0</td>\n      <td>0.0</td>\n      <td>0.0</td>\n      <td>0.0</td>\n      <td>3.0</td>\n    </tr>\n    <tr>\n      <th>9998</th>\n      <td>0.585859</td>\n      <td>1.878104</td>\n      <td>2.101682</td>\n      <td>2.493845</td>\n      <td>2.742632</td>\n      <td>3.048960</td>\n      <td>3.725542</td>\n      <td>4.416602</td>\n      <td>6.486263</td>\n      <td>8.835534</td>\n      <td>...</td>\n      <td>0.0</td>\n      <td>0.0</td>\n      <td>0.0</td>\n      <td>0.0</td>\n      <td>0.0</td>\n      <td>0.0</td>\n      <td>0.0</td>\n      <td>0.0</td>\n      <td>0.0</td>\n      <td>6.0</td>\n    </tr>\n    <tr>\n      <th>9999</th>\n      <td>0.374841</td>\n      <td>0.310465</td>\n      <td>0.283340</td>\n      <td>0.265664</td>\n      <td>0.204140</td>\n      <td>0.103209</td>\n      <td>0.047013</td>\n      <td>0.064382</td>\n      <td>-0.022437</td>\n      <td>-0.117908</td>\n      <td>...</td>\n      <td>0.0</td>\n      <td>0.0</td>\n      <td>0.0</td>\n      <td>0.0</td>\n      <td>0.0</td>\n      <td>0.0</td>\n      <td>0.0</td>\n      <td>0.0</td>\n      <td>0.0</td>\n      <td>2.0</td>\n    </tr>\n  </tbody>\n</table>\n<p>10000 rows × 58 columns</p>\n</div>"
     },
     "execution_count": 25,
     "metadata": {},
     "output_type": "execute_result"
    }
   ],
   "source": [
    "syn_df"
   ],
   "metadata": {
    "collapsed": false,
    "ExecuteTime": {
     "end_time": "2024-06-26T14:48:36.043392400Z",
     "start_time": "2024-06-26T14:48:36.012026400Z"
    }
   },
   "id": "c31f263e2aff6ecb",
   "execution_count": 25
  },
  {
   "cell_type": "markdown",
   "source": [
    "# 지역별 분리"
   ],
   "metadata": {
    "collapsed": false
   },
   "id": "5dc96be36fd17aa9"
  },
  {
   "cell_type": "code",
   "outputs": [],
   "source": [
    "# X_train_norm_dict = {}\n",
    "# y_train_norm_dict = {}\n",
    "# \n",
    "# for i, STN in enumerate(df['rainfall_train.stn4contest'].unique().tolist()):\n",
    "#     train_mask = (X_train_norm['rainfall_train.stn4contest'] == STN)\n",
    "#     X_train_norm_dict[STN] = X_train_norm[train_mask]\n",
    "#     y_train_norm_dict[STN] = pd.DataFrame(y_train_norm)[train_mask]\n",
    "# \n",
    "# for i, (key, value) in enumerate(X_train_norm_dict.items()):\n",
    "#     X_train_norm_dict[key] = value.iloc[:, 1:]\n",
    "# \n",
    "# X_val_norm = X_val_norm.iloc[:, 1:]\n",
    "# X2 = X2.iloc[:, 1:]"
   ],
   "metadata": {
    "collapsed": false,
    "ExecuteTime": {
     "end_time": "2024-06-26T13:27:24.134067100Z",
     "start_time": "2024-06-26T13:27:24.130561800Z"
    }
   },
   "id": "dc163c82d5dc09fc",
   "execution_count": 94
  },
  {
   "cell_type": "markdown",
   "source": [
    "# GMM분리"
   ],
   "metadata": {
    "collapsed": false
   },
   "id": "5e03401e4847e15c"
  },
  {
   "cell_type": "code",
   "outputs": [],
   "source": [
    "X_train_norm = X_train_norm.iloc[:, 1:]\n",
    "X_val_norm = X_val_norm.iloc[:, 1:]\n",
    "X2 = X2.iloc[:, 1:]\n",
    "\n",
    "GMM = joblib.load('Database/gmm_model.pkl')\n",
    "X_train_norm = pd.concat([X_train_norm, pd.DataFrame(GMM.predict(X_train_norm), index=X_train_norm.index)], axis=1)\n",
    "\n",
    "X_train_norm_dict = {}\n",
    "y_train_norm_dict = {}\n",
    "\n",
    "for i, cluster_num in enumerate(X_train_norm[0].unique().tolist()):\n",
    "    train_mask = (X_train_norm[0] == cluster_num)\n",
    "    X_train_norm_dict[cluster_num] = X_train_norm[train_mask]\n",
    "    y_train_norm_dict[cluster_num] = pd.DataFrame(y_train)[train_mask]\n",
    "    X_train_norm_dict[cluster_num] = X_train_norm_dict[cluster_num].drop(columns=0)"
   ],
   "metadata": {
    "collapsed": false,
    "ExecuteTime": {
     "end_time": "2024-06-26T13:36:56.452356500Z",
     "start_time": "2024-06-26T13:36:41.915453600Z"
    }
   },
   "id": "c34a82bc7f1a9118",
   "execution_count": 21
  },
  {
   "cell_type": "code",
   "outputs": [
    {
     "name": "stdout",
     "output_type": "stream",
     "text": [
      "10 Train set\n",
      "(123072, 57)\n",
      "(123072, 1)\n",
      "4 Train set\n",
      "(97820, 57)\n",
      "(97820, 1)\n",
      "1 Train set\n",
      "(90284, 57)\n",
      "(90284, 1)\n",
      "6 Train set\n",
      "(125411, 57)\n",
      "(125411, 1)\n",
      "8 Train set\n",
      "(150807, 57)\n",
      "(150807, 1)\n",
      "9 Train set\n",
      "(115253, 57)\n",
      "(115253, 1)\n",
      "5 Train set\n",
      "(20187, 57)\n",
      "(20187, 1)\n",
      "3 Train set\n",
      "(54302, 57)\n",
      "(54302, 1)\n",
      "7 Train set\n",
      "(18608, 57)\n",
      "(18608, 1)\n",
      "14 Train set\n",
      "(74820, 57)\n",
      "(74820, 1)\n",
      "12 Train set\n",
      "(93290, 57)\n",
      "(93290, 1)\n",
      "0 Train set\n",
      "(175835, 57)\n",
      "(175835, 1)\n",
      "13 Train set\n",
      "(80389, 57)\n",
      "(80389, 1)\n",
      "2 Train set\n",
      "(5023, 57)\n",
      "(5023, 1)\n",
      "11 Train set\n",
      "(13570, 57)\n",
      "(13570, 1)\n",
      "Validation set\n",
      "(65194, 57)\n",
      "(65194,)\n",
      "Test set\n",
      "(144897, 57)\n",
      "(144897,)\n"
     ]
    }
   ],
   "source": [
    "for i, (key, value) in enumerate(X_train_norm_dict.items()):\n",
    "    print(f'{key} Train set')\n",
    "    print(value.shape)\n",
    "    print(y_train_norm_dict[key].shape)\n",
    "\n",
    "print('Validation set')\n",
    "print(X_val_norm.shape)\n",
    "print(y_val.shape)\n",
    "\n",
    "print('Test set')\n",
    "print(X2.shape)\n",
    "\n",
    "if self_test:\n",
    "    print(y2.shape)"
   ],
   "metadata": {
    "collapsed": false,
    "ExecuteTime": {
     "end_time": "2024-06-26T13:36:58.960110100Z",
     "start_time": "2024-06-26T13:36:58.954964600Z"
    }
   },
   "id": "69a7a767f0ae4c0a",
   "execution_count": 22
  },
  {
   "cell_type": "markdown",
   "source": [
    "# 전처리 파일저장"
   ],
   "metadata": {
    "collapsed": false
   },
   "id": "bde16628edcfe83a"
  },
  {
   "cell_type": "code",
   "outputs": [
    {
     "name": "stdout",
     "output_type": "stream",
     "text": [
      "GMM10 Train set saved!\n",
      "GMM4 Train set saved!\n",
      "GMM1 Train set saved!\n",
      "GMM6 Train set saved!\n",
      "GMM8 Train set saved!\n",
      "GMM9 Train set saved!\n",
      "GMM5 Train set saved!\n",
      "GMM3 Train set saved!\n",
      "GMM7 Train set saved!\n",
      "GMM14 Train set saved!\n",
      "GMM12 Train set saved!\n",
      "GMM0 Train set saved!\n",
      "GMM13 Train set saved!\n",
      "GMM2 Train set saved!\n",
      "GMM11 Train set saved!\n",
      "Validation set saved!\n",
      "Test set saved!\n"
     ]
    }
   ],
   "source": [
    "for i, (key, value) in enumerate(X_train_norm_dict.items()):\n",
    "    value.to_csv(f'Database/train/GMM{key}_X_train_norm.csv')\n",
    "    y_train_norm_dict[key].to_csv(f'Database/train/GMM{key}_y_train.csv')\n",
    "    print(f'GMM{key} Train set saved!')\n",
    "\n",
    "X_val_norm.to_csv(f'Database/val/X_val_norm.csv')\n",
    "y_val.to_csv(f'Database/val/y_val.csv')\n",
    "print('Validation set saved!')\n",
    "\n",
    "if self_test:\n",
    "    X2.to_csv(f'Database/test/X_self_test_norm.csv')\n",
    "    y2.to_csv(f'Database/test/y_self_test.csv')\n",
    "\n",
    "if not self_test:\n",
    "    X2.to_csv(f'Database/test/X_real_test_norm.csv')\n",
    "print('Test set saved!')"
   ],
   "metadata": {
    "collapsed": false,
    "ExecuteTime": {
     "end_time": "2024-06-26T13:38:12.574594100Z",
     "start_time": "2024-06-26T13:37:15.427508600Z"
    }
   },
   "id": "96d62eb21b81b0ed",
   "execution_count": 23
  }
 ],
 "metadata": {
  "kernelspec": {
   "name": "python3",
   "language": "python",
   "display_name": "Python 3 (ipykernel)"
  },
  "language_info": {
   "codemirror_mode": {
    "name": "ipython",
    "version": 2
   },
   "file_extension": ".py",
   "mimetype": "text/x-python",
   "name": "python",
   "nbconvert_exporter": "python",
   "pygments_lexer": "ipython2",
   "version": "2.7.6"
  }
 },
 "nbformat": 4,
 "nbformat_minor": 5
}
