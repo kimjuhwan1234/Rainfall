{
 "cells": [
  {
   "cell_type": "code",
   "execution_count": 26,
   "id": "initial_id",
   "metadata": {
    "collapsed": true,
    "ExecuteTime": {
     "end_time": "2024-06-26T12:24:33.089806700Z",
     "start_time": "2024-06-26T12:24:33.079839800Z"
    }
   },
   "outputs": [],
   "source": [
    "import joblib\n",
    "import warnings\n",
    "from scipy import stats\n",
    "from utils.scaler import *\n",
    "from matplotlib import pyplot as plt\n",
    "from sklearn.preprocessing import OneHotEncoder\n",
    "from sklearn.model_selection import train_test_split\n",
    "from IPython.core.interactiveshell import InteractiveShell"
   ]
  },
  {
   "cell_type": "code",
   "outputs": [],
   "source": [
    "plt.rc('font', family='GULIM')\n",
    "warnings.filterwarnings(action='ignore')\n",
    "InteractiveShell.ast_node_interactivity = \"all\""
   ],
   "metadata": {
    "collapsed": false,
    "ExecuteTime": {
     "end_time": "2024-06-26T12:24:33.946908Z",
     "start_time": "2024-06-26T12:24:33.943632600Z"
    }
   },
   "id": "59e4e77f713b9513",
   "execution_count": 27
  },
  {
   "cell_type": "code",
   "outputs": [],
   "source": [
    "df = pd.read_csv('Database/rainfall_train.csv', index_col=0)\n",
    "df_test = pd.read_csv('Database/rainfall_test.csv')\n",
    "train_col = df.columns.tolist()\n",
    "train_col.remove(train_col[-2])\n",
    "df_test.columns = train_col\n",
    "train, self_test_df = train_test_split(df, test_size=0.1, random_state=42, shuffle=True)"
   ],
   "metadata": {
    "collapsed": false,
    "ExecuteTime": {
     "end_time": "2024-06-26T12:24:35.991164100Z",
     "start_time": "2024-06-26T12:24:33.947908400Z"
    }
   },
   "id": "54b2fb486cc3ff89",
   "execution_count": 28
  },
  {
   "cell_type": "markdown",
   "source": [
    "# Train General Preprocessing"
   ],
   "metadata": {
    "collapsed": false
   },
   "id": "c7ab97cb14a31a21"
  },
  {
   "cell_type": "code",
   "outputs": [],
   "source": [
    "df_1 = train.copy()\n",
    "mask = df_1['rainfall_train.class_interval'] == -999\n",
    "df_1 = df_1[~mask]\n",
    "\n",
    "delete_list = ['rainfall_train.fc_year', 'rainfall_train.fc_month', 'rainfall_train.fc_day', 'rainfall_train.fc_hour',\n",
    "               'rainfall_train.ef_year', 'rainfall_train.vv']\n",
    "df_1 = df_1.drop(columns=delete_list)"
   ],
   "metadata": {
    "collapsed": false,
    "ExecuteTime": {
     "end_time": "2024-06-26T12:24:36.204291200Z",
     "start_time": "2024-06-26T12:24:35.994686Z"
    }
   },
   "id": "6413cb6705888157",
   "execution_count": 29
  },
  {
   "cell_type": "markdown",
   "source": [
    "# Train 이산형변수 처리"
   ],
   "metadata": {
    "collapsed": false
   },
   "id": "86e6060893d120d1"
  },
  {
   "cell_type": "code",
   "outputs": [],
   "source": [
    "df_2 = df_1.copy()\n",
    "\n",
    "original_values = list(range(3, 241, 3))\n",
    "reversed_values = original_values[::-1]\n",
    "mapping_table = dict(zip(original_values, reversed_values))\n",
    "\n",
    "\n",
    "def map_value(x):\n",
    "    if pd.isna(x):\n",
    "        return x\n",
    "    return mapping_table.get(x, x)\n",
    "\n",
    "\n",
    "df_2['rainfall_train.dh'] = df_2['rainfall_train.dh'].apply(map_value)"
   ],
   "metadata": {
    "collapsed": false,
    "ExecuteTime": {
     "end_time": "2024-06-26T12:24:37.088295600Z",
     "start_time": "2024-06-26T12:24:36.208305300Z"
    }
   },
   "id": "3c71828fcbb1aa4f",
   "execution_count": 30
  },
  {
   "cell_type": "code",
   "outputs": [],
   "source": [
    "enc_dict = {}\n",
    "onehot_df = pd.DataFrame(index=df_2.index)\n",
    "for i, col in enumerate(['rainfall_train.ef_month', 'rainfall_train.ef_day', 'rainfall_train.ef_hour']):\n",
    "    enc_dict[i] = OneHotEncoder(handle_unknown='ignore', sparse_output=False)\n",
    "    one_hot_encoded = enc_dict[i].fit_transform(pd.DataFrame(df_2[col]))\n",
    "\n",
    "    encoded_df = pd.DataFrame(one_hot_encoded, columns=enc_dict[i].get_feature_names_out([col]), index=df_2.index)\n",
    "    onehot_df = pd.concat([onehot_df, encoded_df], axis=1)\n",
    "    df_2 = df_2.drop(columns=[col])\n",
    "df_2 = pd.concat([df_2, onehot_df], axis=1)"
   ],
   "metadata": {
    "collapsed": false,
    "ExecuteTime": {
     "end_time": "2024-06-26T12:24:38.413094300Z",
     "start_time": "2024-06-26T12:24:37.090295900Z"
    }
   },
   "id": "f9f351f5d9783272",
   "execution_count": 31
  },
  {
   "cell_type": "markdown",
   "source": [
    "# Train 파생변수"
   ],
   "metadata": {
    "collapsed": false
   },
   "id": "ab8913b140ce7bc6"
  },
  {
   "cell_type": "code",
   "outputs": [],
   "source": [
    "df_3 = df_2.copy()\n",
    "\n",
    "continuous_list = [\n",
    "    'rainfall_train.v01', 'rainfall_train.v02', 'rainfall_train.v03', 'rainfall_train.v04', 'rainfall_train.v05',\n",
    "    'rainfall_train.v06', 'rainfall_train.v07', 'rainfall_train.v08', 'rainfall_train.v09']\n",
    "\n",
    "df_3.insert(11, 'cum_prob', df_3[continuous_list].sum(axis=1))\n",
    "df_3.insert(12, 'Zero_Count', (df_3[continuous_list] == 0).sum(axis=1))"
   ],
   "metadata": {
    "collapsed": false,
    "ExecuteTime": {
     "end_time": "2024-06-26T12:24:38.863109100Z",
     "start_time": "2024-06-26T12:24:38.416098100Z"
    }
   },
   "id": "9cf7ea77db1737dc",
   "execution_count": 32
  },
  {
   "cell_type": "markdown",
   "source": [
    "# Train 연속형변수 분포저장"
   ],
   "metadata": {
    "collapsed": false
   },
   "id": "75236f11db963b51"
  },
  {
   "cell_type": "code",
   "outputs": [],
   "source": [
    "y = df_3['rainfall_train.class_interval']\n",
    "X = df_3.drop(columns='rainfall_train.class_interval')\n",
    "\n",
    "X_train, X_val, y_train, y_val = train_test_split(X, y, test_size=0.05, random_state=42, shuffle=True)"
   ],
   "metadata": {
    "collapsed": false,
    "ExecuteTime": {
     "end_time": "2024-06-26T12:24:39.875981700Z",
     "start_time": "2024-06-26T12:24:38.865253300Z"
    }
   },
   "id": "cec8003366004d60",
   "execution_count": 33
  },
  {
   "cell_type": "code",
   "outputs": [],
   "source": [
    "X_train_norm = X_train.copy()\n",
    "X_val_norm = X_val.copy()\n",
    "\n",
    "continuous_list = [\n",
    "    'rainfall_train.dh', 'rainfall_train.v01', 'rainfall_train.v02', 'rainfall_train.v03', 'rainfall_train.v04',\n",
    "    'rainfall_train.v05', 'rainfall_train.v06', 'rainfall_train.v07', 'rainfall_train.v08', 'rainfall_train.v09',\n",
    "    'cum_prob', 'Zero_Count']\n",
    "\n",
    "X_train_norm.loc[:, continuous_list], scaler = standard_scale_train(X_train, continuous_list)\n",
    "X_val_norm.loc[:, continuous_list] = standard_scale_val(X_val, continuous_list, scaler)"
   ],
   "metadata": {
    "collapsed": false,
    "ExecuteTime": {
     "end_time": "2024-06-26T12:24:40.864613800Z",
     "start_time": "2024-06-26T12:24:39.879982300Z"
    }
   },
   "id": "9dd29061387dc5f3",
   "execution_count": 34
  },
  {
   "cell_type": "markdown",
   "source": [
    "# 불균형 해소를 위한 학습파일 저장"
   ],
   "metadata": {
    "collapsed": false
   },
   "id": "63e217a924d7b03"
  },
  {
   "cell_type": "code",
   "outputs": [],
   "source": [
    "X_train_norm = X_train_norm.iloc[:, 1:]\n",
    "X_val_norm = X_val_norm.iloc[:, 1:]\n",
    "\n",
    "X_train_norm.to_csv('Database/total/total_X_train_norm.csv')\n",
    "X_val_norm.to_csv('Database/total/total_X_val_norm.csv')\n",
    "y_train.to_csv('Database/total/total_y_train.csv')\n",
    "y_val.to_csv('Database/total/total_y_val.csv')"
   ],
   "metadata": {
    "collapsed": false,
    "ExecuteTime": {
     "end_time": "2024-06-26T12:25:37.788023900Z",
     "start_time": "2024-06-26T12:24:46.271667500Z"
    }
   },
   "id": "9f791d5be24b820a",
   "execution_count": 35
  },
  {
   "cell_type": "markdown",
   "source": [
    "# test General Preprocessing"
   ],
   "metadata": {
    "collapsed": false
   },
   "id": "e7251cbfd6429ade"
  },
  {
   "cell_type": "code",
   "outputs": [],
   "source": [
    "self_test = True\n",
    "\n",
    "if self_test:\n",
    "    df_1 = self_test_df.copy()\n",
    "if not self_test:\n",
    "    df_1 = df_test.copy()\n",
    "\n",
    "mask = df_1['rainfall_train.class_interval'] == -999\n",
    "df_1 = df_1[~mask]\n",
    "\n",
    "delete_list = ['rainfall_train.fc_year', 'rainfall_train.fc_month', 'rainfall_train.fc_day', 'rainfall_train.fc_hour',\n",
    "               'rainfall_train.ef_year', 'rainfall_train.vv']\n",
    "df_1 = df_1.drop(columns=delete_list)"
   ],
   "metadata": {
    "collapsed": false,
    "ExecuteTime": {
     "end_time": "2024-06-26T12:25:54.563905900Z",
     "start_time": "2024-06-26T12:25:54.526970300Z"
    }
   },
   "id": "f5613864c21cec97",
   "execution_count": 39
  },
  {
   "cell_type": "markdown",
   "source": [
    "# test 이산형변수 처리"
   ],
   "metadata": {
    "collapsed": false
   },
   "id": "5b487c1d0ba45703"
  },
  {
   "cell_type": "code",
   "outputs": [],
   "source": [
    "df_2 = df_1.copy()\n",
    "\n",
    "original_values = list(range(3, 241, 3))\n",
    "reversed_values = original_values[::-1]\n",
    "mapping_table = dict(zip(original_values, reversed_values))\n",
    "\n",
    "\n",
    "def map_value(x):\n",
    "    if pd.isna(x):\n",
    "        return x\n",
    "    return mapping_table.get(x, x)\n",
    "\n",
    "\n",
    "df_2['rainfall_train.dh'] = df_2['rainfall_train.dh'].apply(map_value)"
   ],
   "metadata": {
    "collapsed": false,
    "ExecuteTime": {
     "end_time": "2024-06-26T12:25:55.914834800Z",
     "start_time": "2024-06-26T12:25:55.727787900Z"
    }
   },
   "id": "c5fa43ce3d24b6b0",
   "execution_count": 40
  },
  {
   "cell_type": "code",
   "outputs": [],
   "source": [
    "onehot_df = pd.DataFrame(index=df_2.index)\n",
    "for i, col in enumerate(['rainfall_train.ef_month', 'rainfall_train.ef_day', 'rainfall_train.ef_hour']):\n",
    "    one_hot_encoded = enc_dict[i].transform(pd.DataFrame(df_2[col]))\n",
    "\n",
    "    encoded_df = pd.DataFrame(one_hot_encoded, columns=enc_dict[i].get_feature_names_out([col]), index=df_2.index)\n",
    "    onehot_df = pd.concat([onehot_df, encoded_df], axis=1)\n",
    "    df_2 = df_2.drop(columns=[col])\n",
    "df_2 = pd.concat([df_2, onehot_df], axis=1)"
   ],
   "metadata": {
    "collapsed": false,
    "ExecuteTime": {
     "end_time": "2024-06-26T12:25:56.082762400Z",
     "start_time": "2024-06-26T12:25:55.932658700Z"
    }
   },
   "id": "a49a5d60b92f20b2",
   "execution_count": 41
  },
  {
   "cell_type": "markdown",
   "source": [
    "# test 파생변수"
   ],
   "metadata": {
    "collapsed": false
   },
   "id": "c84ea44f2b8fc942"
  },
  {
   "cell_type": "code",
   "outputs": [],
   "source": [
    "df_3 = df_2.copy()\n",
    "\n",
    "continuous_list = [\n",
    "    'rainfall_train.v01', 'rainfall_train.v02', 'rainfall_train.v03', 'rainfall_train.v04', 'rainfall_train.v05',\n",
    "    'rainfall_train.v06', 'rainfall_train.v07', 'rainfall_train.v08', 'rainfall_train.v09']\n",
    "\n",
    "df_3.insert(11, 'cum_prob', df_3[continuous_list].sum(axis=1))\n",
    "df_3.insert(12, 'Zero_Count', (df_3[continuous_list] == 0).sum(axis=1))"
   ],
   "metadata": {
    "collapsed": false,
    "ExecuteTime": {
     "end_time": "2024-06-26T12:25:57.086211500Z",
     "start_time": "2024-06-26T12:25:57.009204200Z"
    }
   },
   "id": "bc2e39914583ce83",
   "execution_count": 42
  },
  {
   "cell_type": "markdown",
   "source": [
    "# test 이산형변수 칼럼통일"
   ],
   "metadata": {
    "collapsed": false
   },
   "id": "d6a7bbefecc481c4"
  },
  {
   "cell_type": "code",
   "outputs": [],
   "source": [
    "if self_test:\n",
    "    y2 = df_3['rainfall_train.class_interval']\n",
    "    X2 = df_3.drop(columns='rainfall_train.class_interval')\n",
    "\n",
    "    # train에만 있고 test에 없는 경우, 해당 column name으로 test에 zero columns 추가.\n",
    "    X2[list(X_val_norm.columns[X_val_norm.columns.isin(X2) == False])] = 0\n",
    "\n",
    "    # test에만 있고 train에는 없는 경우, 해당 column name은 제거.\n",
    "    X2 = X2.drop(columns=list(X2.columns[X2.columns.isin(X_val_norm) == False]))\n",
    "    X2 = X2[X_val_norm.columns]\n",
    "\n",
    "if not self_test:\n",
    "    X2 = df_3\n",
    "\n",
    "    # train에만 있고 test에 없는 경우, 해당 column name으로 test에 zero columns 추가.\n",
    "    X2[list(X_val_norm.columns[X_val_norm.columns.isin(X2) == False])] = 0\n",
    "\n",
    "    # test에만 있고 train에는 없는 경우, 해당 column name은 제거.\n",
    "    X2 = X2.drop(columns=list(X2.columns[X2.columns.isin(X_val_norm) == False]))\n",
    "    X2 = X2[X_val_norm.columns]"
   ],
   "metadata": {
    "collapsed": false,
    "ExecuteTime": {
     "end_time": "2024-06-26T12:25:57.144567900Z",
     "start_time": "2024-06-26T12:25:57.092717300Z"
    }
   },
   "id": "6cafd0da4f1061dc",
   "execution_count": 43
  },
  {
   "cell_type": "markdown",
   "source": [
    "# test 연속형변수 분포통일"
   ],
   "metadata": {
    "collapsed": false
   },
   "id": "f9475cd7439efdc7"
  },
  {
   "cell_type": "code",
   "outputs": [],
   "source": [
    "continuous_list = [\n",
    "    'rainfall_train.dh', 'rainfall_train.v01', 'rainfall_train.v02', 'rainfall_train.v03', 'rainfall_train.v04',\n",
    "    'rainfall_train.v05', 'rainfall_train.v06', 'rainfall_train.v07', 'rainfall_train.v08', 'rainfall_train.v09',\n",
    "    'cum_prob', 'Zero_Count']\n",
    "\n",
    "X2.loc[:, continuous_list] = standard_scale_val(X2, continuous_list, scaler)"
   ],
   "metadata": {
    "collapsed": false,
    "ExecuteTime": {
     "end_time": "2024-06-26T12:25:58.107712300Z",
     "start_time": "2024-06-26T12:25:58.047557200Z"
    }
   },
   "id": "7a2896378844b737",
   "execution_count": 44
  },
  {
   "cell_type": "markdown",
   "source": [
    "# 뷸균형 해소"
   ],
   "metadata": {
    "collapsed": false
   },
   "id": "332063645e67a8d"
  },
  {
   "cell_type": "code",
   "outputs": [
    {
     "data": {
      "text/plain": "<All keys matched successfully>"
     },
     "execution_count": 50,
     "metadata": {},
     "output_type": "execute_result"
    },
    {
     "data": {
      "text/plain": "<All keys matched successfully>"
     },
     "execution_count": 50,
     "metadata": {},
     "output_type": "execute_result"
    }
   ],
   "source": [
    "import torch\n",
    "from Module.model import MLP, VAE\n",
    "\n",
    "backbone = MLP(57, 10)\n",
    "backbone.load_state_dict(torch.load('Weight/MLP.pth'))\n",
    "model = VAE(32, backbone, 10000)\n",
    "model.load_state_dict(torch.load('Weight/VAE.pth'))"
   ],
   "metadata": {
    "collapsed": false,
    "ExecuteTime": {
     "end_time": "2024-06-26T12:31:28.640278800Z",
     "start_time": "2024-06-26T12:31:28.600090600Z"
    }
   },
   "id": "a975d94a9dedb547",
   "execution_count": 50
  },
  {
   "cell_type": "code",
   "outputs": [],
   "source": [
    "syn_data = model()"
   ],
   "metadata": {
    "collapsed": false,
    "ExecuteTime": {
     "end_time": "2024-06-26T12:31:30.757626500Z",
     "start_time": "2024-06-26T12:31:30.702700100Z"
    }
   },
   "id": "53469dd87400bab0",
   "execution_count": 51
  },
  {
   "cell_type": "code",
   "outputs": [],
   "source": [
    "syn_df = pd.DataFrame(syn_data.cpu().detach().numpy(), columns=df_3.iloc[:, 1:].columns)"
   ],
   "metadata": {
    "collapsed": false,
    "ExecuteTime": {
     "end_time": "2024-06-26T12:31:32.029214600Z",
     "start_time": "2024-06-26T12:31:32.004772200Z"
    }
   },
   "id": "fd2eb6d9e172002e",
   "execution_count": 52
  },
  {
   "cell_type": "markdown",
   "source": [
    "# 지역별 분리"
   ],
   "metadata": {
    "collapsed": false
   },
   "id": "5dc96be36fd17aa9"
  },
  {
   "cell_type": "code",
   "outputs": [],
   "source": [
    "# X_train_norm_dict = {}\n",
    "# y_train_norm_dict = {}\n",
    "# \n",
    "# for i, STN in enumerate(df['rainfall_train.stn4contest'].unique().tolist()):\n",
    "#     train_mask = (X_train_norm['rainfall_train.stn4contest'] == STN)\n",
    "#     X_train_norm_dict[STN] = X_train_norm[train_mask]\n",
    "#     y_train_norm_dict[STN] = pd.DataFrame(y_train_norm)[train_mask]\n",
    "# \n",
    "# for i, (key, value) in enumerate(X_train_norm_dict.items()):\n",
    "#     X_train_norm_dict[key] = value.iloc[:, 1:]\n",
    "# \n",
    "# X_val_norm = X_val_norm.iloc[:, 1:]\n",
    "# X2 = X2.iloc[:, 1:]"
   ],
   "metadata": {
    "collapsed": false,
    "ExecuteTime": {
     "end_time": "2024-06-25T04:41:05.384297Z",
     "start_time": "2024-06-25T04:41:05.377163300Z"
    }
   },
   "id": "dc163c82d5dc09fc",
   "execution_count": 18
  },
  {
   "cell_type": "markdown",
   "source": [
    "# GMM분리"
   ],
   "metadata": {
    "collapsed": false
   },
   "id": "5e03401e4847e15c"
  },
  {
   "cell_type": "code",
   "outputs": [],
   "source": [
    "X_train_norm = X_train_norm.iloc[:, 1:]\n",
    "X_val_norm = X_val_norm.iloc[:, 1:]\n",
    "X2 = X2.iloc[:, 1:]\n",
    "\n",
    "GMM = joblib.load('Database/gmm_model.pkl')\n",
    "X_train_norm = pd.concat([X_train_norm, pd.DataFrame(GMM.predict(X_train_norm), index=X_train_norm.index)], axis=1)\n",
    "\n",
    "X_train_norm_dict = {}\n",
    "y_train_norm_dict = {}\n",
    "\n",
    "for i, cluster_num in enumerate(X_train_norm[0].unique().tolist()):\n",
    "    train_mask = (X_train_norm[0] == cluster_num)\n",
    "    X_train_norm_dict[cluster_num] = X_train_norm[train_mask]\n",
    "    y_train_norm_dict[cluster_num] = pd.DataFrame(y_train)[train_mask]\n",
    "    X_train_norm_dict[cluster_num] = X_train_norm_dict[cluster_num].drop(columns=0)"
   ],
   "metadata": {
    "collapsed": false,
    "ExecuteTime": {
     "end_time": "2024-06-25T04:41:19.700485700Z",
     "start_time": "2024-06-25T04:41:05.383261700Z"
    }
   },
   "id": "c34a82bc7f1a9118",
   "execution_count": 19
  },
  {
   "cell_type": "code",
   "outputs": [
    {
     "name": "stdout",
     "output_type": "stream",
     "text": [
      "13 Train set\n",
      "(149097, 57)\n",
      "(149097, 1)\n",
      "14 Train set\n",
      "(133256, 57)\n",
      "(133256, 1)\n",
      "7 Train set\n",
      "(47078, 57)\n",
      "(47078, 1)\n",
      "10 Train set\n",
      "(187414, 57)\n",
      "(187414, 1)\n",
      "9 Train set\n",
      "(217716, 57)\n",
      "(217716, 1)\n",
      "2 Train set\n",
      "(82886, 57)\n",
      "(82886, 1)\n",
      "1 Train set\n",
      "(127385, 57)\n",
      "(127385, 1)\n",
      "4 Train set\n",
      "(143800, 57)\n",
      "(143800, 1)\n",
      "5 Train set\n",
      "(49671, 57)\n",
      "(49671, 1)\n",
      "0 Train set\n",
      "(46448, 57)\n",
      "(46448, 1)\n",
      "6 Train set\n",
      "(36450, 57)\n",
      "(36450, 1)\n",
      "12 Train set\n",
      "(5878, 57)\n",
      "(5878, 1)\n",
      "8 Train set\n",
      "(3915, 57)\n",
      "(3915, 1)\n",
      "3 Train set\n",
      "(6896, 57)\n",
      "(6896, 1)\n",
      "11 Train set\n",
      "(781, 57)\n",
      "(781, 1)\n",
      "Validation set\n",
      "(65194, 57)\n",
      "(65194,)\n",
      "Test set\n",
      "(144897, 57)\n",
      "(144897,)\n"
     ]
    }
   ],
   "source": [
    "for i, (key, value) in enumerate(X_train_norm_dict.items()):\n",
    "    print(f'{key} Train set')\n",
    "    print(value.shape)\n",
    "    print(y_train_norm_dict[key].shape)\n",
    "\n",
    "print('Validation set')\n",
    "print(X_val_norm.shape)\n",
    "print(y_val.shape)\n",
    "\n",
    "print('Test set')\n",
    "print(X2.shape)\n",
    "\n",
    "if self_test:\n",
    "    print(y2.shape)"
   ],
   "metadata": {
    "collapsed": false,
    "ExecuteTime": {
     "end_time": "2024-06-25T04:41:19.708224200Z",
     "start_time": "2024-06-25T04:41:19.702573300Z"
    }
   },
   "id": "69a7a767f0ae4c0a",
   "execution_count": 20
  },
  {
   "cell_type": "markdown",
   "source": [
    "# 전처리 파일저장"
   ],
   "metadata": {
    "collapsed": false
   },
   "id": "bde16628edcfe83a"
  },
  {
   "cell_type": "code",
   "outputs": [
    {
     "name": "stdout",
     "output_type": "stream",
     "text": [
      "GMM13 Train set saved!\n",
      "GMM14 Train set saved!\n",
      "GMM7 Train set saved!\n",
      "GMM10 Train set saved!\n",
      "GMM9 Train set saved!\n",
      "GMM2 Train set saved!\n",
      "GMM1 Train set saved!\n",
      "GMM4 Train set saved!\n",
      "GMM5 Train set saved!\n",
      "GMM0 Train set saved!\n",
      "GMM6 Train set saved!\n",
      "GMM12 Train set saved!\n",
      "GMM8 Train set saved!\n",
      "GMM3 Train set saved!\n",
      "GMM11 Train set saved!\n",
      "Validation set saved!\n",
      "Test set saved!\n"
     ]
    }
   ],
   "source": [
    "for i, (key, value) in enumerate(X_train_norm_dict.items()):\n",
    "    value.to_csv(f'Database/train/GMM{key}_X_train_norm.csv')\n",
    "    y_train_norm_dict[key].to_csv(f'Database/train/GMM{key}_y_train.csv')\n",
    "    print(f'GMM{key} Train set saved!')\n",
    "\n",
    "X_val_norm.to_csv(f'Database/val/X_val_norm.csv')\n",
    "y_val.to_csv(f'Database/val/y_val.csv')\n",
    "print('Validation set saved!')\n",
    "\n",
    "if self_test:\n",
    "    X2.to_csv(f'Database/test/X_self_test_norm.csv')\n",
    "    y2.to_csv(f'Database/test/y_self_test.csv')\n",
    "\n",
    "if not self_test:\n",
    "    X2.to_csv(f'Database/test/X_real_test_norm.csv')\n",
    "print('Test set saved!')"
   ],
   "metadata": {
    "collapsed": false,
    "ExecuteTime": {
     "end_time": "2024-06-25T04:42:12.607875Z",
     "start_time": "2024-06-25T04:41:19.710276200Z"
    }
   },
   "id": "96d62eb21b81b0ed",
   "execution_count": 21
  }
 ],
 "metadata": {
  "kernelspec": {
   "name": "python3",
   "language": "python",
   "display_name": "Python 3 (ipykernel)"
  },
  "language_info": {
   "codemirror_mode": {
    "name": "ipython",
    "version": 2
   },
   "file_extension": ".py",
   "mimetype": "text/x-python",
   "name": "python",
   "nbconvert_exporter": "python",
   "pygments_lexer": "ipython2",
   "version": "2.7.6"
  }
 },
 "nbformat": 4,
 "nbformat_minor": 5
}
