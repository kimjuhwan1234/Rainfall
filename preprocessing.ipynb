{
 "cells": [
  {
   "cell_type": "code",
   "execution_count": 24,
   "id": "initial_id",
   "metadata": {
    "collapsed": true,
    "ExecuteTime": {
     "end_time": "2024-06-20T08:21:48.514160200Z",
     "start_time": "2024-06-20T08:21:48.510075600Z"
    }
   },
   "outputs": [],
   "source": [
    "import warnings\n",
    "from joblib import dump\n",
    "from scipy import stats\n",
    "from utils.scaler import *\n",
    "from matplotlib import pyplot as plt\n",
    "from sklearn.preprocessing import OneHotEncoder\n",
    "from sklearn.model_selection import train_test_split\n",
    "from IPython.core.interactiveshell import InteractiveShell"
   ]
  },
  {
   "cell_type": "code",
   "outputs": [],
   "source": [
    "plt.rc('font', family='GULIM')\n",
    "warnings.filterwarnings(action='ignore')\n",
    "InteractiveShell.ast_node_interactivity = \"all\""
   ],
   "metadata": {
    "collapsed": false,
    "ExecuteTime": {
     "end_time": "2024-06-20T08:17:36.269231600Z",
     "start_time": "2024-06-20T08:17:36.260136900Z"
    }
   },
   "id": "59e4e77f713b9513",
   "execution_count": 2
  },
  {
   "cell_type": "code",
   "outputs": [],
   "source": [
    "df = pd.read_csv('Database/rainfall_train.csv', index_col=0)\n",
    "df_test = pd.read_csv('Database/rainfall_test.csv', index_col=0)\n",
    "train_col = df.columns.tolist()\n",
    "train_col.remove(train_col[-2])\n",
    "df_test.columns = train_col\n",
    "train, self_test = train_test_split(df, test_size=0.1, random_state=42, shuffle=True)"
   ],
   "metadata": {
    "collapsed": false,
    "ExecuteTime": {
     "end_time": "2024-06-20T08:17:38.444450800Z",
     "start_time": "2024-06-20T08:17:36.267217900Z"
    }
   },
   "id": "54b2fb486cc3ff89",
   "execution_count": 3
  },
  {
   "cell_type": "markdown",
   "source": [
    "# Train General Preprocessing"
   ],
   "metadata": {
    "collapsed": false
   },
   "id": "c7ab97cb14a31a21"
  },
  {
   "cell_type": "code",
   "outputs": [],
   "source": [
    "df_1 = train.copy()\n",
    "mask = df_1['rainfall_train.class_interval'] == -999\n",
    "df_1 = df_1[~mask]\n",
    "\n",
    "delete_list = ['rainfall_train.fc_year', 'rainfall_train.fc_month', 'rainfall_train.fc_day', 'rainfall_train.fc_hour',\n",
    "               'rainfall_train.ef_year', 'rainfall_train.class_interval']\n",
    "df_1 = df_1.drop(columns=delete_list)"
   ],
   "metadata": {
    "collapsed": false,
    "ExecuteTime": {
     "end_time": "2024-06-20T08:17:38.647606500Z",
     "start_time": "2024-06-20T08:17:38.442450400Z"
    }
   },
   "id": "6413cb6705888157",
   "execution_count": 4
  },
  {
   "cell_type": "markdown",
   "source": [
    "# Train 이산형변수 처리"
   ],
   "metadata": {
    "collapsed": false
   },
   "id": "86e6060893d120d1"
  },
  {
   "cell_type": "code",
   "outputs": [],
   "source": [
    "df_2 = df_1.copy()\n",
    "\n",
    "original_values = list(range(3, 241, 3))\n",
    "reversed_values = original_values[::-1]\n",
    "mapping_table = dict(zip(original_values, reversed_values))\n",
    "\n",
    "\n",
    "def map_value(x):\n",
    "    if pd.isna(x):\n",
    "        return x\n",
    "    return mapping_table.get(x, x)\n",
    "\n",
    "\n",
    "df_2['rainfall_train.dh'] = df_2['rainfall_train.dh'].apply(map_value)"
   ],
   "metadata": {
    "collapsed": false,
    "ExecuteTime": {
     "end_time": "2024-06-20T08:17:39.595236500Z",
     "start_time": "2024-06-20T08:17:38.646102700Z"
    }
   },
   "id": "3c71828fcbb1aa4f",
   "execution_count": 5
  },
  {
   "cell_type": "code",
   "outputs": [],
   "source": [
    "enc_dict = {}\n",
    "onehot_df = pd.DataFrame(index=df_2.index)\n",
    "for i, col in enumerate(['rainfall_train.ef_month', 'rainfall_train.ef_day', 'rainfall_train.ef_hour']):\n",
    "    enc_dict[i] = OneHotEncoder(handle_unknown='ignore', sparse_output=False)\n",
    "    one_hot_encoded = enc_dict[i].fit_transform(pd.DataFrame(df_2[col]))\n",
    "\n",
    "    encoded_df = pd.DataFrame(one_hot_encoded, columns=enc_dict[i].get_feature_names_out([col]), index=df_2.index)\n",
    "    onehot_df = pd.concat([onehot_df, encoded_df], axis=1)\n",
    "    df_2 = df_2.drop(columns=[col])\n",
    "df_2 = pd.concat([df_2, onehot_df], axis=1)"
   ],
   "metadata": {
    "collapsed": false,
    "ExecuteTime": {
     "end_time": "2024-06-20T08:17:40.903433100Z",
     "start_time": "2024-06-20T08:17:39.599825400Z"
    }
   },
   "id": "f9f351f5d9783272",
   "execution_count": 6
  },
  {
   "cell_type": "markdown",
   "source": [
    "# Train BoxCox변환"
   ],
   "metadata": {
    "collapsed": false
   },
   "id": "957ee8bc41405bac"
  },
  {
   "cell_type": "code",
   "outputs": [],
   "source": [
    "df_3 = df_2.copy()\n",
    "\n",
    "continuous_list = [\n",
    "    'rainfall_train.v01', 'rainfall_train.v02', 'rainfall_train.v03', 'rainfall_train.v04', 'rainfall_train.v05',\n",
    "    'rainfall_train.v06', 'rainfall_train.v07', 'rainfall_train.v08', 'rainfall_train.v09', 'rainfall_train.vv']\n",
    "\n",
    "boxcox_dict = {}\n",
    "for feature in continuous_list:\n",
    "    boxcox_data, lmbda = stats.boxcox(df_3[feature] + 0.000001)\n",
    "    boxcox_dict[feature] = lmbda\n",
    "    df_3[feature] = boxcox_data"
   ],
   "metadata": {
    "collapsed": false,
    "ExecuteTime": {
     "end_time": "2024-06-20T08:18:55.580677100Z",
     "start_time": "2024-06-20T08:17:40.905433300Z"
    }
   },
   "id": "ac0f5364e3adbd70",
   "execution_count": 7
  },
  {
   "cell_type": "code",
   "outputs": [],
   "source": [
    "# pd.DataFrame(boxcox_dict.items()).to_csv('Database/boxcox_lmbda.csv')"
   ],
   "metadata": {
    "collapsed": false,
    "ExecuteTime": {
     "end_time": "2024-06-20T08:18:55.590871Z",
     "start_time": "2024-06-20T08:18:55.582677800Z"
    }
   },
   "id": "e57594cb3bd028f6",
   "execution_count": 8
  },
  {
   "cell_type": "markdown",
   "source": [
    "# Train 연속형변수 분포저장"
   ],
   "metadata": {
    "collapsed": false
   },
   "id": "75236f11db963b51"
  },
  {
   "cell_type": "code",
   "outputs": [],
   "source": [
    "y = df_3['rainfall_train.vv']\n",
    "X = df_3.drop(columns='rainfall_train.vv')\n",
    "\n",
    "X_train, X_val, y_train, y_val = train_test_split(X, y, test_size=0.05, random_state=42, shuffle=True)"
   ],
   "metadata": {
    "collapsed": false,
    "ExecuteTime": {
     "end_time": "2024-06-20T08:18:56.636986600Z",
     "start_time": "2024-06-20T08:18:55.587868700Z"
    }
   },
   "id": "cec8003366004d60",
   "execution_count": 9
  },
  {
   "cell_type": "code",
   "outputs": [],
   "source": [
    "continuous_list = [\n",
    "    'rainfall_train.v01', 'rainfall_train.v02', 'rainfall_train.v03', 'rainfall_train.v04', 'rainfall_train.v05',\n",
    "    'rainfall_train.v06', 'rainfall_train.v07', 'rainfall_train.v08', 'rainfall_train.v09']\n",
    "\n",
    "X_train_norm = X_train.copy()\n",
    "X_val_norm = X_val.copy()\n",
    "\n",
    "X_train_norm.loc[:, continuous_list], scaler = standard_scale_train(X_train, continuous_list)\n",
    "X_val_norm.loc[:, continuous_list] = standard_scale_val(X_val, continuous_list, scaler)"
   ],
   "metadata": {
    "collapsed": false,
    "ExecuteTime": {
     "end_time": "2024-06-20T08:18:58.373315700Z",
     "start_time": "2024-06-20T08:18:56.638997900Z"
    }
   },
   "id": "9dd29061387dc5f3",
   "execution_count": 10
  },
  {
   "cell_type": "code",
   "outputs": [],
   "source": [
    "y_train_norm, target_scaler = standard_scale_train(pd.DataFrame(y_train), ['rainfall_train.vv'])\n",
    "y_val_norm = standard_scale_val(pd.DataFrame(y_val), ['rainfall_train.vv'], target_scaler)"
   ],
   "metadata": {
    "collapsed": false,
    "ExecuteTime": {
     "end_time": "2024-06-20T08:18:58.427120100Z",
     "start_time": "2024-06-20T08:18:58.340107300Z"
    }
   },
   "id": "d0faa71b4aac168e",
   "execution_count": 11
  },
  {
   "cell_type": "code",
   "outputs": [
    {
     "data": {
      "text/plain": "['Database/target_scaler.joblib']"
     },
     "execution_count": 25,
     "metadata": {},
     "output_type": "execute_result"
    },
    {
     "name": "stdout",
     "output_type": "stream",
     "text": [
      "Scaler object saved successfully!\n"
     ]
    }
   ],
   "source": [
    "dump(target_scaler, 'Database/target_scaler.joblib')\n",
    "print(\"Scaler object saved successfully!\")"
   ],
   "metadata": {
    "collapsed": false,
    "ExecuteTime": {
     "end_time": "2024-06-20T08:22:36.178126300Z",
     "start_time": "2024-06-20T08:22:36.168856500Z"
    }
   },
   "id": "b9d157680a2040af",
   "execution_count": 25
  },
  {
   "cell_type": "markdown",
   "source": [
    "# test General Preprocessing"
   ],
   "metadata": {
    "collapsed": false
   },
   "id": "e7251cbfd6429ade"
  },
  {
   "cell_type": "code",
   "outputs": [],
   "source": [
    "df_1 = self_test.copy()\n",
    "# df_1 = df_test.copy()\n",
    "\n",
    "mask = df_1['rainfall_train.class_interval'] == -999\n",
    "df_1 = df_1[~mask]\n",
    "\n",
    "delete_list = ['rainfall_train.fc_year', 'rainfall_train.fc_month', 'rainfall_train.fc_day', 'rainfall_train.fc_hour',\n",
    "               'rainfall_train.ef_year', 'rainfall_train.class_interval']\n",
    "df_1 = df_1.drop(columns=delete_list)"
   ],
   "metadata": {
    "collapsed": false,
    "ExecuteTime": {
     "end_time": "2024-06-20T08:18:58.474918100Z",
     "start_time": "2024-06-20T08:18:58.391838800Z"
    }
   },
   "id": "f5613864c21cec97",
   "execution_count": 12
  },
  {
   "cell_type": "markdown",
   "source": [
    "# test 이산형변수 처리"
   ],
   "metadata": {
    "collapsed": false
   },
   "id": "5b487c1d0ba45703"
  },
  {
   "cell_type": "code",
   "outputs": [],
   "source": [
    "df_2 = df_1.copy()\n",
    "\n",
    "original_values = list(range(3, 241, 3))\n",
    "reversed_values = original_values[::-1]\n",
    "mapping_table = dict(zip(original_values, reversed_values))\n",
    "\n",
    "\n",
    "def map_value(x):\n",
    "    if pd.isna(x):\n",
    "        return x\n",
    "    return mapping_table.get(x, x)\n",
    "\n",
    "\n",
    "df_2['rainfall_train.dh'] = df_2['rainfall_train.dh'].apply(map_value)"
   ],
   "metadata": {
    "collapsed": false,
    "ExecuteTime": {
     "end_time": "2024-06-20T08:18:58.598075900Z",
     "start_time": "2024-06-20T08:18:58.443629300Z"
    }
   },
   "id": "c5fa43ce3d24b6b0",
   "execution_count": 13
  },
  {
   "cell_type": "code",
   "outputs": [],
   "source": [
    "onehot_df = pd.DataFrame(index=df_2.index)\n",
    "for i, col in enumerate(['rainfall_train.ef_month', 'rainfall_train.ef_day', 'rainfall_train.ef_hour']):\n",
    "    one_hot_encoded = enc_dict[i].transform(pd.DataFrame(df_2[col]))\n",
    "\n",
    "    encoded_df = pd.DataFrame(one_hot_encoded, columns=enc_dict[i].get_feature_names_out([col]), index=df_2.index)\n",
    "    onehot_df = pd.concat([onehot_df, encoded_df], axis=1)\n",
    "    df_2 = df_2.drop(columns=[col])\n",
    "df_2 = pd.concat([df_2, onehot_df], axis=1)"
   ],
   "metadata": {
    "collapsed": false,
    "ExecuteTime": {
     "end_time": "2024-06-20T08:18:58.841040600Z",
     "start_time": "2024-06-20T08:18:58.600537500Z"
    }
   },
   "id": "a49a5d60b92f20b2",
   "execution_count": 14
  },
  {
   "cell_type": "markdown",
   "source": [
    "# test BoxCox변환"
   ],
   "metadata": {
    "collapsed": false
   },
   "id": "1140b4df5c4f1b09"
  },
  {
   "cell_type": "code",
   "outputs": [],
   "source": [
    "df_3 = df_2.copy()\n",
    "\n",
    "continuous_list = [\n",
    "    'rainfall_train.v01', 'rainfall_train.v02', 'rainfall_train.v03', 'rainfall_train.v04', 'rainfall_train.v05',\n",
    "    'rainfall_train.v06', 'rainfall_train.v07', 'rainfall_train.v08', 'rainfall_train.v09', 'rainfall_train.vv']\n",
    "\n",
    "for feature in continuous_list:\n",
    "    boxcox_data = stats.boxcox(df_3[feature] + 0.000001, lmbda=boxcox_dict[feature])\n",
    "    df_3[feature] = boxcox_data"
   ],
   "metadata": {
    "collapsed": false,
    "ExecuteTime": {
     "end_time": "2024-06-20T08:18:59.004565500Z",
     "start_time": "2024-06-20T08:18:58.842041500Z"
    }
   },
   "id": "f8b224a93bcb3311",
   "execution_count": 15
  },
  {
   "cell_type": "markdown",
   "source": [
    "# test 이산형변수 칼럼통일"
   ],
   "metadata": {
    "collapsed": false
   },
   "id": "d6a7bbefecc481c4"
  },
  {
   "cell_type": "code",
   "outputs": [],
   "source": [
    "y2 = df_3['rainfall_train.vv']\n",
    "X2 = df_3.drop(columns='rainfall_train.vv')\n",
    "\n",
    "# train에만 있고 test에 없는 경우, 해당 column name으로 test에 zero columns 추가.\n",
    "X2[list(X_val_norm.columns[X_val_norm.columns.isin(X2) == False])] = 0\n",
    "\n",
    "# test에만 있고 train에는 없는 경우, 해당 column name은 제거.\n",
    "X2 = X2.drop(columns=list(X2.columns[X2.columns.isin(X_val_norm) == False]))\n",
    "X2 = X2[X_val_norm.columns]"
   ],
   "metadata": {
    "collapsed": false,
    "ExecuteTime": {
     "end_time": "2024-06-20T08:18:59.078151500Z",
     "start_time": "2024-06-20T08:18:59.000628100Z"
    }
   },
   "id": "6cafd0da4f1061dc",
   "execution_count": 16
  },
  {
   "cell_type": "markdown",
   "source": [
    "# test 연속형변수 분포통일"
   ],
   "metadata": {
    "collapsed": false
   },
   "id": "f9475cd7439efdc7"
  },
  {
   "cell_type": "code",
   "outputs": [],
   "source": [
    "continuous_list = [\n",
    "    'rainfall_train.v01', 'rainfall_train.v02', 'rainfall_train.v03', 'rainfall_train.v04', 'rainfall_train.v05',\n",
    "    'rainfall_train.v06', 'rainfall_train.v07', 'rainfall_train.v08', 'rainfall_train.v09']\n",
    "\n",
    "X2.loc[:, continuous_list] = standard_scale_val(X2, continuous_list, scaler)\n",
    "y2 = standard_scale_val(pd.DataFrame(y2), ['rainfall_train.vv'], target_scaler)"
   ],
   "metadata": {
    "collapsed": false,
    "ExecuteTime": {
     "end_time": "2024-06-20T08:18:59.187277300Z",
     "start_time": "2024-06-20T08:18:59.080150200Z"
    }
   },
   "id": "7a2896378844b737",
   "execution_count": 17
  },
  {
   "cell_type": "markdown",
   "source": [
    "# 지역별 분리"
   ],
   "metadata": {
    "collapsed": false
   },
   "id": "5e03401e4847e15c"
  },
  {
   "cell_type": "code",
   "outputs": [],
   "source": [
    "X_train_norm_dict = {}\n",
    "y_train_norm_dict = {}\n",
    "\n",
    "for i, STN in enumerate(df['rainfall_train.stn4contest'].unique().tolist()):\n",
    "    train_mask = (X_train_norm['rainfall_train.stn4contest'] == STN)\n",
    "    X_train_norm_dict[STN] = X_train_norm[train_mask]\n",
    "    y_train_norm_dict[STN] = y_train_norm[train_mask]"
   ],
   "metadata": {
    "collapsed": false,
    "ExecuteTime": {
     "end_time": "2024-06-20T08:19:02.331094600Z",
     "start_time": "2024-06-20T08:18:59.215415Z"
    }
   },
   "id": "4f479b75b14a6ac3",
   "execution_count": 19
  },
  {
   "cell_type": "code",
   "outputs": [],
   "source": [
    "for i, (key, value) in enumerate(X_train_norm_dict.items()):\n",
    "    X_train_norm_dict[key] = value.iloc[:, 1:]\n",
    "\n",
    "X_val_norm = X_val_norm.iloc[:, 1:]\n",
    "X2 = X2.iloc[:, 1:]"
   ],
   "metadata": {
    "collapsed": false,
    "ExecuteTime": {
     "end_time": "2024-06-20T08:19:02.504036900Z",
     "start_time": "2024-06-20T08:19:02.334095400Z"
    }
   },
   "id": "b2db31ccd08322bc",
   "execution_count": 20
  },
  {
   "cell_type": "code",
   "outputs": [
    {
     "name": "stdout",
     "output_type": "stream",
     "text": [
      "STN001 Train set\n",
      "(62266, 55)\n",
      "(62266, 1)\n",
      "STN002 Train set\n",
      "(62189, 55)\n",
      "(62189, 1)\n",
      "STN003 Train set\n",
      "(62327, 55)\n",
      "(62327, 1)\n",
      "STN004 Train set\n",
      "(61883, 55)\n",
      "(61883, 1)\n",
      "STN005 Train set\n",
      "(61509, 55)\n",
      "(61509, 1)\n",
      "STN006 Train set\n",
      "(61729, 55)\n",
      "(61729, 1)\n",
      "STN007 Train set\n",
      "(61972, 55)\n",
      "(61972, 1)\n",
      "STN008 Train set\n",
      "(62150, 55)\n",
      "(62150, 1)\n",
      "STN009 Train set\n",
      "(62117, 55)\n",
      "(62117, 1)\n",
      "STN010 Train set\n",
      "(61638, 55)\n",
      "(61638, 1)\n",
      "STN011 Train set\n",
      "(62047, 55)\n",
      "(62047, 1)\n",
      "STN012 Train set\n",
      "(61924, 55)\n",
      "(61924, 1)\n",
      "STN013 Train set\n",
      "(61962, 55)\n",
      "(61962, 1)\n",
      "STN014 Train set\n",
      "(61837, 55)\n",
      "(61837, 1)\n",
      "STN015 Train set\n",
      "(61883, 55)\n",
      "(61883, 1)\n",
      "STN016 Train set\n",
      "(61762, 55)\n",
      "(61762, 1)\n",
      "STN017 Train set\n",
      "(61646, 55)\n",
      "(61646, 1)\n",
      "STN018 Train set\n",
      "(62005, 55)\n",
      "(62005, 1)\n",
      "STN019 Train set\n",
      "(62184, 55)\n",
      "(62184, 1)\n",
      "STN020 Train set\n",
      "(61641, 55)\n",
      "(61641, 1)\n",
      "Validation set\n",
      "(65194, 55)\n",
      "(65194, 1)\n",
      "Test set\n",
      "(144897, 55)\n",
      "(144897, 1)\n"
     ]
    }
   ],
   "source": [
    "for i, (key, value) in enumerate(X_train_norm_dict.items()):\n",
    "    print(f'{key} Train set')\n",
    "    print(value.shape)\n",
    "    print(y_train_norm_dict[key].shape)\n",
    "\n",
    "print('Validation set')\n",
    "print(X_val_norm.shape)\n",
    "print(y_val_norm.shape)\n",
    "\n",
    "print('Test set')\n",
    "print(X2.shape)\n",
    "print(y2.shape)"
   ],
   "metadata": {
    "collapsed": false,
    "ExecuteTime": {
     "end_time": "2024-06-20T08:19:02.517207Z",
     "start_time": "2024-06-20T08:19:02.507102800Z"
    }
   },
   "id": "69a7a767f0ae4c0a",
   "execution_count": 21
  },
  {
   "cell_type": "markdown",
   "source": [
    "# 전처리 파일저장"
   ],
   "metadata": {
    "collapsed": false
   },
   "id": "bde16628edcfe83a"
  },
  {
   "cell_type": "code",
   "outputs": [
    {
     "name": "stdout",
     "output_type": "stream",
     "text": [
      "STN001 Train set saved!\n",
      "STN002 Train set saved!\n",
      "STN003 Train set saved!\n",
      "STN004 Train set saved!\n",
      "STN005 Train set saved!\n",
      "STN006 Train set saved!\n",
      "STN007 Train set saved!\n",
      "STN008 Train set saved!\n",
      "STN009 Train set saved!\n",
      "STN010 Train set saved!\n",
      "STN011 Train set saved!\n",
      "STN012 Train set saved!\n",
      "STN013 Train set saved!\n",
      "STN014 Train set saved!\n",
      "STN015 Train set saved!\n",
      "STN016 Train set saved!\n",
      "STN017 Train set saved!\n",
      "STN018 Train set saved!\n",
      "STN019 Train set saved!\n",
      "STN020 Train set saved!\n",
      "Validation set saved!\n",
      "Test set saved!\n"
     ]
    }
   ],
   "source": [
    "for i, (key, value) in enumerate(X_train_norm_dict.items()):\n",
    "    value.to_csv(f'Database/train/{key}_X_train_norm.csv')\n",
    "    y_train_norm_dict[key].to_csv(f'Database/train/{key}_y_train_norm.csv')\n",
    "    print(f'{key} Train set saved!')\n",
    "\n",
    "X_val_norm.to_csv(f'Database/val/X_val_norm.csv')\n",
    "y_val_norm.to_csv(f'Database/val/y_val_norm.csv')\n",
    "print('Validation set saved!')\n",
    "\n",
    "X2.to_csv(f'Database/test/X_self_test_norm.csv')\n",
    "y2.to_csv(f'Database/test/y_self_test_norm.csv')\n",
    "print('Test set saved!')"
   ],
   "metadata": {
    "collapsed": false,
    "ExecuteTime": {
     "end_time": "2024-06-20T08:20:04.487056300Z",
     "start_time": "2024-06-20T08:19:08.809108300Z"
    }
   },
   "id": "96d62eb21b81b0ed",
   "execution_count": 23
  }
 ],
 "metadata": {
  "kernelspec": {
   "name": "python3",
   "language": "python",
   "display_name": "Python 3 (ipykernel)"
  },
  "language_info": {
   "codemirror_mode": {
    "name": "ipython",
    "version": 2
   },
   "file_extension": ".py",
   "mimetype": "text/x-python",
   "name": "python",
   "nbconvert_exporter": "python",
   "pygments_lexer": "ipython2",
   "version": "2.7.6"
  }
 },
 "nbformat": 4,
 "nbformat_minor": 5
}
