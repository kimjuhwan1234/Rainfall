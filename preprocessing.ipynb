{
 "cells": [
  {
   "cell_type": "code",
   "execution_count": 1,
   "id": "initial_id",
   "metadata": {
    "collapsed": true,
    "ExecuteTime": {
     "end_time": "2024-06-26T13:35:30.714186Z",
     "start_time": "2024-06-26T13:35:28.469186300Z"
    }
   },
   "outputs": [],
   "source": [
    "import joblib\n",
    "import warnings\n",
    "from scipy import stats\n",
    "from utils.scaler import *\n",
    "from matplotlib import pyplot as plt\n",
    "from sklearn.preprocessing import MinMaxScaler\n",
    "from sklearn.preprocessing import OneHotEncoder\n",
    "from sklearn.model_selection import train_test_split\n",
    "from IPython.core.interactiveshell import InteractiveShell"
   ]
  },
  {
   "cell_type": "code",
   "outputs": [],
   "source": [
    "plt.rc('font', family='GULIM')\n",
    "warnings.filterwarnings(action='ignore')\n",
    "InteractiveShell.ast_node_interactivity = \"all\""
   ],
   "metadata": {
    "collapsed": false,
    "ExecuteTime": {
     "end_time": "2024-06-26T13:35:30.721419800Z",
     "start_time": "2024-06-26T13:35:30.717186800Z"
    }
   },
   "id": "59e4e77f713b9513",
   "execution_count": 2
  },
  {
   "cell_type": "code",
   "outputs": [],
   "source": [
    "df = pd.read_csv('Database/rainfall_train.csv', index_col=0)\n",
    "df_test = pd.read_csv('Database/rainfall_test.csv')\n",
    "train_col = df.columns.tolist()\n",
    "train_col.remove(train_col[-2])\n",
    "df_test.columns = train_col\n",
    "train, self_test_df = train_test_split(df, test_size=0.1, random_state=42, shuffle=True)"
   ],
   "metadata": {
    "collapsed": false,
    "ExecuteTime": {
     "end_time": "2024-06-26T13:35:33.517368500Z",
     "start_time": "2024-06-26T13:35:31.125402100Z"
    }
   },
   "id": "54b2fb486cc3ff89",
   "execution_count": 3
  },
  {
   "cell_type": "markdown",
   "source": [
    "# Train General Preprocessing"
   ],
   "metadata": {
    "collapsed": false
   },
   "id": "c7ab97cb14a31a21"
  },
  {
   "cell_type": "code",
   "outputs": [],
   "source": [
    "df_1 = train.copy()\n",
    "mask = df_1['rainfall_train.class_interval'] == -999\n",
    "df_1 = df_1[~mask]\n",
    "\n",
    "delete_list = ['rainfall_train.fc_year', 'rainfall_train.fc_month', 'rainfall_train.fc_day', 'rainfall_train.fc_hour',\n",
    "               'rainfall_train.ef_year', 'rainfall_train.vv']\n",
    "df_1 = df_1.drop(columns=delete_list)"
   ],
   "metadata": {
    "collapsed": false,
    "ExecuteTime": {
     "end_time": "2024-06-26T13:35:34.174407400Z",
     "start_time": "2024-06-26T13:35:33.978245900Z"
    }
   },
   "id": "6413cb6705888157",
   "execution_count": 4
  },
  {
   "cell_type": "markdown",
   "source": [
    "# Train 이산형변수 처리"
   ],
   "metadata": {
    "collapsed": false
   },
   "id": "86e6060893d120d1"
  },
  {
   "cell_type": "code",
   "outputs": [],
   "source": [
    "df_2 = df_1.copy()\n",
    "\n",
    "original_values = list(range(3, 241, 3))\n",
    "reversed_values = original_values[::-1]\n",
    "mapping_table = dict(zip(original_values, reversed_values))\n",
    "\n",
    "\n",
    "def map_value(x):\n",
    "    if pd.isna(x):\n",
    "        return x\n",
    "    return mapping_table.get(x, x)\n",
    "\n",
    "\n",
    "df_2['rainfall_train.dh'] = df_2['rainfall_train.dh'].apply(map_value)"
   ],
   "metadata": {
    "collapsed": false,
    "ExecuteTime": {
     "end_time": "2024-06-26T13:35:35.854274600Z",
     "start_time": "2024-06-26T13:35:34.748024400Z"
    }
   },
   "id": "3c71828fcbb1aa4f",
   "execution_count": 5
  },
  {
   "cell_type": "code",
   "outputs": [],
   "source": [
    "enc_dict = {}\n",
    "onehot_df = pd.DataFrame(index=df_2.index)\n",
    "for i, col in enumerate(['rainfall_train.ef_month', 'rainfall_train.ef_day', 'rainfall_train.ef_hour']):\n",
    "    enc_dict[i] = OneHotEncoder(handle_unknown='ignore', sparse_output=False)\n",
    "    one_hot_encoded = enc_dict[i].fit_transform(pd.DataFrame(df_2[col]))\n",
    "\n",
    "    encoded_df = pd.DataFrame(one_hot_encoded, columns=enc_dict[i].get_feature_names_out([col]), index=df_2.index)\n",
    "    onehot_df = pd.concat([onehot_df, encoded_df], axis=1)\n",
    "    df_2 = df_2.drop(columns=[col])\n",
    "df_2 = pd.concat([df_2, onehot_df], axis=1)"
   ],
   "metadata": {
    "collapsed": false,
    "ExecuteTime": {
     "end_time": "2024-06-26T13:35:37.637446100Z",
     "start_time": "2024-06-26T13:35:35.858275600Z"
    }
   },
   "id": "f9f351f5d9783272",
   "execution_count": 6
  },
  {
   "cell_type": "markdown",
   "source": [
    "# Train 파생변수"
   ],
   "metadata": {
    "collapsed": false
   },
   "id": "ab8913b140ce7bc6"
  },
  {
   "cell_type": "code",
   "outputs": [],
   "source": [
    "df_3 = df_2.copy()\n",
    "\n",
    "continuous_list = [\n",
    "    'rainfall_train.v01', 'rainfall_train.v02', 'rainfall_train.v03', 'rainfall_train.v04', 'rainfall_train.v05',\n",
    "    'rainfall_train.v06', 'rainfall_train.v07', 'rainfall_train.v08', 'rainfall_train.v09']\n",
    "\n",
    "df_3.insert(11, 'cum_prob', df_3[continuous_list].sum(axis=1))\n",
    "df_3.insert(12, 'Zero_Count', (df_3[continuous_list] == 0).sum(axis=1))"
   ],
   "metadata": {
    "collapsed": false,
    "ExecuteTime": {
     "end_time": "2024-06-26T13:35:38.117196800Z",
     "start_time": "2024-06-26T13:35:37.640447300Z"
    }
   },
   "id": "9cf7ea77db1737dc",
   "execution_count": 7
  },
  {
   "cell_type": "markdown",
   "source": [
    "# Train 정규화"
   ],
   "metadata": {
    "collapsed": false
   },
   "id": "c30ce1aaa8cfb8c6"
  },
  {
   "cell_type": "code",
   "outputs": [],
   "source": [
    "df_4 = df_3.copy()\n",
    "\n",
    "minmax_list = ['rainfall_train.dh', 'Zero_Count']\n",
    "minmax_scaler = MinMaxScaler()\n",
    "df_4[minmax_list] = minmax_scaler.fit_transform(df_4[minmax_list])"
   ],
   "metadata": {
    "collapsed": false,
    "ExecuteTime": {
     "end_time": "2024-06-26T13:35:38.288452200Z",
     "start_time": "2024-06-26T13:35:38.104194300Z"
    }
   },
   "id": "4f54462b40d1ad11",
   "execution_count": 8
  },
  {
   "cell_type": "markdown",
   "source": [
    "# Train 연속형변수 분포저장"
   ],
   "metadata": {
    "collapsed": false
   },
   "id": "75236f11db963b51"
  },
  {
   "cell_type": "code",
   "outputs": [],
   "source": [
    "y = df_4['rainfall_train.class_interval']\n",
    "X = df_4.drop(columns='rainfall_train.class_interval')\n",
    "\n",
    "X_train, X_val, y_train, y_val = train_test_split(X, y, test_size=0.05, random_state=42, shuffle=True)"
   ],
   "metadata": {
    "collapsed": false,
    "ExecuteTime": {
     "end_time": "2024-06-26T13:35:40.779352100Z",
     "start_time": "2024-06-26T13:35:39.948653600Z"
    }
   },
   "id": "cec8003366004d60",
   "execution_count": 9
  },
  {
   "cell_type": "code",
   "outputs": [],
   "source": [
    "X_train_norm = X_train.copy()\n",
    "X_val_norm = X_val.copy()\n",
    "\n",
    "continuous_list = [\n",
    "    'rainfall_train.v01', 'rainfall_train.v02', 'rainfall_train.v03', 'rainfall_train.v04', 'rainfall_train.v05',\n",
    "    'rainfall_train.v06', 'rainfall_train.v07', 'rainfall_train.v08', 'rainfall_train.v09', 'cum_prob']\n",
    "\n",
    "X_train_norm.loc[:, continuous_list], scaler = standard_scale_train(X_train, continuous_list)\n",
    "X_val_norm.loc[:, continuous_list] = standard_scale_val(X_val, continuous_list, scaler)"
   ],
   "metadata": {
    "collapsed": false,
    "ExecuteTime": {
     "end_time": "2024-06-26T13:35:42.077375800Z",
     "start_time": "2024-06-26T13:35:40.782353200Z"
    }
   },
   "id": "9dd29061387dc5f3",
   "execution_count": 10
  },
  {
   "cell_type": "markdown",
   "source": [
    "# 불균형 해소를 위한 학습파일 저장"
   ],
   "metadata": {
    "collapsed": false
   },
   "id": "63e217a924d7b03"
  },
  {
   "cell_type": "code",
   "outputs": [],
   "source": [
    "total_train = pd.concat([X_train_norm, y_train], axis=1)\n",
    "total_val = pd.concat([X_val_norm, y_val], axis=1)\n",
    "\n",
    "total_train = total_train.iloc[:, 1:]\n",
    "total_val = total_val.iloc[:, 1:]\n",
    "\n",
    "train_mask = total_train['rainfall_train.class_interval'] == 0\n",
    "val_mask = total_val['rainfall_train.class_interval'] == 0"
   ],
   "metadata": {
    "collapsed": false,
    "ExecuteTime": {
     "end_time": "2024-06-26T13:35:44.081847200Z",
     "start_time": "2024-06-26T13:35:43.612366100Z"
    }
   },
   "id": "ec8c2d21a1b0a5b9",
   "execution_count": 11
  },
  {
   "cell_type": "code",
   "outputs": [],
   "source": [
    "# total_train[~train_mask].to_csv('Database/total/total_train.csv')\n",
    "# total_val[~val_mask].to_csv('Database/total/total_val.csv')"
   ],
   "metadata": {
    "collapsed": false,
    "ExecuteTime": {
     "end_time": "2024-06-26T13:35:45.827569Z",
     "start_time": "2024-06-26T13:35:45.824202500Z"
    }
   },
   "id": "4ee8ceb01fc10a65",
   "execution_count": 12
  },
  {
   "cell_type": "markdown",
   "source": [
    "# test General Preprocessing"
   ],
   "metadata": {
    "collapsed": false
   },
   "id": "e7251cbfd6429ade"
  },
  {
   "cell_type": "code",
   "outputs": [],
   "source": [
    "self_test = True\n",
    "\n",
    "if self_test:\n",
    "    df_1 = self_test_df.copy()\n",
    "if not self_test:\n",
    "    df_1 = df_test.copy()\n",
    "\n",
    "mask = df_1['rainfall_train.class_interval'] == -999\n",
    "df_1 = df_1[~mask]\n",
    "\n",
    "delete_list = ['rainfall_train.fc_year', 'rainfall_train.fc_month', 'rainfall_train.fc_day', 'rainfall_train.fc_hour',\n",
    "               'rainfall_train.ef_year', 'rainfall_train.vv']\n",
    "df_1 = df_1.drop(columns=delete_list)"
   ],
   "metadata": {
    "collapsed": false,
    "ExecuteTime": {
     "end_time": "2024-06-26T13:35:47.593893700Z",
     "start_time": "2024-06-26T13:35:47.569155300Z"
    }
   },
   "id": "f5613864c21cec97",
   "execution_count": 13
  },
  {
   "cell_type": "markdown",
   "source": [
    "# test 이산형변수 처리"
   ],
   "metadata": {
    "collapsed": false
   },
   "id": "5b487c1d0ba45703"
  },
  {
   "cell_type": "code",
   "outputs": [],
   "source": [
    "df_2 = df_1.copy()\n",
    "\n",
    "original_values = list(range(3, 241, 3))\n",
    "reversed_values = original_values[::-1]\n",
    "mapping_table = dict(zip(original_values, reversed_values))\n",
    "\n",
    "\n",
    "def map_value(x):\n",
    "    if pd.isna(x):\n",
    "        return x\n",
    "    return mapping_table.get(x, x)\n",
    "\n",
    "\n",
    "df_2['rainfall_train.dh'] = df_2['rainfall_train.dh'].apply(map_value)"
   ],
   "metadata": {
    "collapsed": false,
    "ExecuteTime": {
     "end_time": "2024-06-26T13:35:49.294985700Z",
     "start_time": "2024-06-26T13:35:49.171376900Z"
    }
   },
   "id": "c5fa43ce3d24b6b0",
   "execution_count": 14
  },
  {
   "cell_type": "code",
   "outputs": [],
   "source": [
    "onehot_df = pd.DataFrame(index=df_2.index)\n",
    "for i, col in enumerate(['rainfall_train.ef_month', 'rainfall_train.ef_day', 'rainfall_train.ef_hour']):\n",
    "    one_hot_encoded = enc_dict[i].transform(pd.DataFrame(df_2[col]))\n",
    "\n",
    "    encoded_df = pd.DataFrame(one_hot_encoded, columns=enc_dict[i].get_feature_names_out([col]), index=df_2.index)\n",
    "    onehot_df = pd.concat([onehot_df, encoded_df], axis=1)\n",
    "    df_2 = df_2.drop(columns=[col])\n",
    "df_2 = pd.concat([df_2, onehot_df], axis=1)"
   ],
   "metadata": {
    "collapsed": false,
    "ExecuteTime": {
     "end_time": "2024-06-26T13:35:50.927462Z",
     "start_time": "2024-06-26T13:35:50.757686600Z"
    }
   },
   "id": "a49a5d60b92f20b2",
   "execution_count": 15
  },
  {
   "cell_type": "markdown",
   "source": [
    "# test 파생변수"
   ],
   "metadata": {
    "collapsed": false
   },
   "id": "c84ea44f2b8fc942"
  },
  {
   "cell_type": "code",
   "outputs": [],
   "source": [
    "df_3 = df_2.copy()\n",
    "\n",
    "continuous_list = [\n",
    "    'rainfall_train.v01', 'rainfall_train.v02', 'rainfall_train.v03', 'rainfall_train.v04', 'rainfall_train.v05',\n",
    "    'rainfall_train.v06', 'rainfall_train.v07', 'rainfall_train.v08', 'rainfall_train.v09']\n",
    "\n",
    "df_3.insert(11, 'cum_prob', df_3[continuous_list].sum(axis=1))\n",
    "df_3.insert(12, 'Zero_Count', (df_3[continuous_list] == 0).sum(axis=1))"
   ],
   "metadata": {
    "collapsed": false,
    "ExecuteTime": {
     "end_time": "2024-06-26T13:35:52.399051500Z",
     "start_time": "2024-06-26T13:35:52.320294200Z"
    }
   },
   "id": "bc2e39914583ce83",
   "execution_count": 16
  },
  {
   "cell_type": "markdown",
   "source": [
    "# test 정규화"
   ],
   "metadata": {
    "collapsed": false
   },
   "id": "ca0b50f9df640da1"
  },
  {
   "cell_type": "code",
   "outputs": [],
   "source": [
    "df_4 = df_3.copy()\n",
    "\n",
    "minmax_list = ['rainfall_train.dh', 'Zero_Count']\n",
    "df_4[minmax_list] = minmax_scaler.transform(df_4[minmax_list])"
   ],
   "metadata": {
    "collapsed": false,
    "ExecuteTime": {
     "end_time": "2024-06-26T13:35:53.599080200Z",
     "start_time": "2024-06-26T13:35:53.556435300Z"
    }
   },
   "id": "fdaa61e7278bf8f7",
   "execution_count": 17
  },
  {
   "cell_type": "markdown",
   "source": [
    "# test 이산형변수 칼럼통일"
   ],
   "metadata": {
    "collapsed": false
   },
   "id": "d6a7bbefecc481c4"
  },
  {
   "cell_type": "code",
   "outputs": [],
   "source": [
    "if self_test:\n",
    "    y2 = df_4['rainfall_train.class_interval']\n",
    "    X2 = df_4.drop(columns='rainfall_train.class_interval')\n",
    "\n",
    "    # train에만 있고 test에 없는 경우, 해당 column name으로 test에 zero columns 추가.\n",
    "    X2[list(X_val_norm.columns[X_val_norm.columns.isin(X2) == False])] = 0\n",
    "\n",
    "    # test에만 있고 train에는 없는 경우, 해당 column name은 제거.\n",
    "    X2 = X2.drop(columns=list(X2.columns[X2.columns.isin(X_val_norm) == False]))\n",
    "    X2 = X2[X_val_norm.columns]\n",
    "\n",
    "if not self_test:\n",
    "    X2 = df_4\n",
    "\n",
    "    # train에만 있고 test에 없는 경우, 해당 column name으로 test에 zero columns 추가.\n",
    "    X2[list(X_val_norm.columns[X_val_norm.columns.isin(X2) == False])] = 0\n",
    "\n",
    "    # test에만 있고 train에는 없는 경우, 해당 column name은 제거.\n",
    "    X2 = X2.drop(columns=list(X2.columns[X2.columns.isin(X_val_norm) == False]))\n",
    "    X2 = X2[X_val_norm.columns]"
   ],
   "metadata": {
    "collapsed": false,
    "ExecuteTime": {
     "end_time": "2024-06-26T13:36:01.478729700Z",
     "start_time": "2024-06-26T13:36:01.422653400Z"
    }
   },
   "id": "6cafd0da4f1061dc",
   "execution_count": 18
  },
  {
   "cell_type": "markdown",
   "source": [
    "# test 연속형변수 분포통일"
   ],
   "metadata": {
    "collapsed": false
   },
   "id": "f9475cd7439efdc7"
  },
  {
   "cell_type": "code",
   "outputs": [],
   "source": [
    "continuous_list = [\n",
    "    'rainfall_train.v01', 'rainfall_train.v02', 'rainfall_train.v03', 'rainfall_train.v04', 'rainfall_train.v05',\n",
    "    'rainfall_train.v06', 'rainfall_train.v07', 'rainfall_train.v08', 'rainfall_train.v09', 'cum_prob']\n",
    "\n",
    "X2.loc[:, continuous_list] = standard_scale_val(X2, continuous_list, scaler)"
   ],
   "metadata": {
    "collapsed": false,
    "ExecuteTime": {
     "end_time": "2024-06-26T13:36:04.398894500Z",
     "start_time": "2024-06-26T13:36:04.326940200Z"
    }
   },
   "id": "7a2896378844b737",
   "execution_count": 19
  },
  {
   "cell_type": "markdown",
   "source": [
    "# 뷸균형 해소"
   ],
   "metadata": {
    "collapsed": false
   },
   "id": "332063645e67a8d"
  },
  {
   "cell_type": "code",
   "outputs": [
    {
     "data": {
      "text/plain": "<All keys matched successfully>"
     },
     "execution_count": 24,
     "metadata": {},
     "output_type": "execute_result"
    },
    {
     "data": {
      "text/plain": "<All keys matched successfully>"
     },
     "execution_count": 24,
     "metadata": {},
     "output_type": "execute_result"
    }
   ],
   "source": [
    "import torch\n",
    "from Module.model import MLP, VAE\n",
    "\n",
    "backbone = MLP(57, 10)\n",
    "backbone.load_state_dict(torch.load('Weight/MLP.pth'))\n",
    "model = VAE(32, backbone, 10000)\n",
    "model.load_state_dict(torch.load('Weight/VAE.pth'))"
   ],
   "metadata": {
    "collapsed": false,
    "ExecuteTime": {
     "end_time": "2024-06-26T13:41:34.531805600Z",
     "start_time": "2024-06-26T13:41:32.198728200Z"
    }
   },
   "id": "a975d94a9dedb547",
   "execution_count": 24
  },
  {
   "cell_type": "code",
   "outputs": [],
   "source": [
    "syn_data = model()"
   ],
   "metadata": {
    "collapsed": false,
    "ExecuteTime": {
     "end_time": "2024-06-26T13:41:36.174006300Z",
     "start_time": "2024-06-26T13:41:35.691114600Z"
    }
   },
   "id": "53469dd87400bab0",
   "execution_count": 25
  },
  {
   "cell_type": "code",
   "outputs": [],
   "source": [
    "syn_df = pd.DataFrame(syn_data.cpu().detach().numpy(),\n",
    "                      columns=list(X_train_norm.iloc[:, 1:].columns) + ['rainfall_train.class_interval'])"
   ],
   "metadata": {
    "collapsed": false,
    "ExecuteTime": {
     "end_time": "2024-06-26T13:41:37.830450200Z",
     "start_time": "2024-06-26T13:41:37.691026700Z"
    }
   },
   "id": "fd2eb6d9e172002e",
   "execution_count": 26
  },
  {
   "cell_type": "code",
   "outputs": [
    {
     "data": {
      "text/plain": "         rainfall_train.dh  rainfall_train.v01  rainfall_train.v02  \\\n877611            0.468354           -0.695012           -0.717671   \n633836            0.936709           -1.036971           -0.939973   \n606061            0.455696           -0.934383           -0.865872   \n1214355           0.607595           -1.036971           -0.939973   \n682391            0.949367           -1.036971           -0.939973   \n...                    ...                 ...                 ...   \n1154183           0.063291            0.672826            0.801393   \n95230             0.531646            1.254157            1.283047   \n474380            0.886076           -1.036971           -0.939973   \n1349211           0.696203            1.527725            1.727651   \n783137            0.430380            0.433455            0.319739   \n\n         rainfall_train.v03  rainfall_train.v04  rainfall_train.v05  \\\n877611            -0.715057           -0.691718           -0.588046   \n633836            -0.801748           -0.691718           -0.588046   \n606061            -0.758402           -0.691718           -0.588046   \n1214355           -0.801748           -0.691718           -0.588046   \n682391            -0.801748           -0.691718           -0.588046   \n...                     ...                 ...                 ...   \n1154183            0.932070            1.039805            1.041018   \n95230              1.062106            0.377752           -0.086795   \n474380            -0.801748           -0.691718           -0.588046   \n1349211            2.015706            2.160203            1.980863   \n783137             0.238543            0.377752            0.414455   \n\n         rainfall_train.v06  rainfall_train.v07  rainfall_train.v08  \\\n877611            -0.446242           -0.325896           -0.191676   \n633836            -0.446242           -0.325896           -0.191676   \n606061            -0.446242           -0.325896           -0.191676   \n1214355           -0.446242           -0.325896           -0.191676   \n682391            -0.446242           -0.325896           -0.191676   \n...                     ...                 ...                 ...   \n1154183            0.515299            0.698355            1.558754   \n95230             -0.446242           -0.325896           -0.191676   \n474380            -0.446242           -0.325896           -0.191676   \n1349211            1.380686            0.356938           -0.191676   \n783137             0.419145            0.356938            1.558754   \n\n         rainfall_train.v09  ...  rainfall_train.ef_day_31  \\\n877611            -0.125634  ...                       0.0   \n633836            -0.125634  ...                       0.0   \n606061            -0.125634  ...                       0.0   \n1214355           -0.125634  ...                       0.0   \n682391            -0.125634  ...                       0.0   \n...                     ...  ...                       ...   \n1154183            1.679483  ...                       0.0   \n95230             -0.125634  ...                       0.0   \n474380            -0.125634  ...                       0.0   \n1349211           -0.125634  ...                       0.0   \n783137             3.484600  ...                       0.0   \n\n         rainfall_train.ef_hour_0  rainfall_train.ef_hour_3  \\\n877611                        0.0                       0.0   \n633836                        0.0                       0.0   \n606061                        0.0                       0.0   \n1214355                       0.0                       0.0   \n682391                        1.0                       0.0   \n...                           ...                       ...   \n1154183                       0.0                       0.0   \n95230                         0.0                       1.0   \n474380                        0.0                       1.0   \n1349211                       1.0                       0.0   \n783137                        0.0                       0.0   \n\n         rainfall_train.ef_hour_6  rainfall_train.ef_hour_9  \\\n877611                        1.0                       0.0   \n633836                        0.0                       0.0   \n606061                        0.0                       1.0   \n1214355                       0.0                       0.0   \n682391                        0.0                       0.0   \n...                           ...                       ...   \n1154183                       1.0                       0.0   \n95230                         0.0                       0.0   \n474380                        0.0                       0.0   \n1349211                       0.0                       0.0   \n783137                        0.0                       0.0   \n\n         rainfall_train.ef_hour_12  rainfall_train.ef_hour_15  \\\n877611                         0.0                        0.0   \n633836                         0.0                        1.0   \n606061                         0.0                        0.0   \n1214355                        0.0                        0.0   \n682391                         0.0                        0.0   \n...                            ...                        ...   \n1154183                        0.0                        0.0   \n95230                          0.0                        0.0   \n474380                         0.0                        0.0   \n1349211                        0.0                        0.0   \n783137                         0.0                        1.0   \n\n         rainfall_train.ef_hour_18  rainfall_train.ef_hour_21  \\\n877611                         0.0                        0.0   \n633836                         0.0                        0.0   \n606061                         0.0                        0.0   \n1214355                        0.0                        1.0   \n682391                         0.0                        0.0   \n...                            ...                        ...   \n1154183                        0.0                        0.0   \n95230                          0.0                        0.0   \n474380                         0.0                        0.0   \n1349211                        0.0                        0.0   \n783137                         0.0                        0.0   \n\n         rainfall_train.class_interval  \n877611                               0  \n633836                               0  \n606061                               0  \n1214355                              0  \n682391                               0  \n...                                ...  \n1154183                              6  \n95230                                5  \n474380                               0  \n1349211                              0  \n783137                               0  \n\n[1238671 rows x 58 columns]",
      "text/html": "<div>\n<style scoped>\n    .dataframe tbody tr th:only-of-type {\n        vertical-align: middle;\n    }\n\n    .dataframe tbody tr th {\n        vertical-align: top;\n    }\n\n    .dataframe thead th {\n        text-align: right;\n    }\n</style>\n<table border=\"1\" class=\"dataframe\">\n  <thead>\n    <tr style=\"text-align: right;\">\n      <th></th>\n      <th>rainfall_train.dh</th>\n      <th>rainfall_train.v01</th>\n      <th>rainfall_train.v02</th>\n      <th>rainfall_train.v03</th>\n      <th>rainfall_train.v04</th>\n      <th>rainfall_train.v05</th>\n      <th>rainfall_train.v06</th>\n      <th>rainfall_train.v07</th>\n      <th>rainfall_train.v08</th>\n      <th>rainfall_train.v09</th>\n      <th>...</th>\n      <th>rainfall_train.ef_day_31</th>\n      <th>rainfall_train.ef_hour_0</th>\n      <th>rainfall_train.ef_hour_3</th>\n      <th>rainfall_train.ef_hour_6</th>\n      <th>rainfall_train.ef_hour_9</th>\n      <th>rainfall_train.ef_hour_12</th>\n      <th>rainfall_train.ef_hour_15</th>\n      <th>rainfall_train.ef_hour_18</th>\n      <th>rainfall_train.ef_hour_21</th>\n      <th>rainfall_train.class_interval</th>\n    </tr>\n  </thead>\n  <tbody>\n    <tr>\n      <th>877611</th>\n      <td>0.468354</td>\n      <td>-0.695012</td>\n      <td>-0.717671</td>\n      <td>-0.715057</td>\n      <td>-0.691718</td>\n      <td>-0.588046</td>\n      <td>-0.446242</td>\n      <td>-0.325896</td>\n      <td>-0.191676</td>\n      <td>-0.125634</td>\n      <td>...</td>\n      <td>0.0</td>\n      <td>0.0</td>\n      <td>0.0</td>\n      <td>1.0</td>\n      <td>0.0</td>\n      <td>0.0</td>\n      <td>0.0</td>\n      <td>0.0</td>\n      <td>0.0</td>\n      <td>0</td>\n    </tr>\n    <tr>\n      <th>633836</th>\n      <td>0.936709</td>\n      <td>-1.036971</td>\n      <td>-0.939973</td>\n      <td>-0.801748</td>\n      <td>-0.691718</td>\n      <td>-0.588046</td>\n      <td>-0.446242</td>\n      <td>-0.325896</td>\n      <td>-0.191676</td>\n      <td>-0.125634</td>\n      <td>...</td>\n      <td>0.0</td>\n      <td>0.0</td>\n      <td>0.0</td>\n      <td>0.0</td>\n      <td>0.0</td>\n      <td>0.0</td>\n      <td>1.0</td>\n      <td>0.0</td>\n      <td>0.0</td>\n      <td>0</td>\n    </tr>\n    <tr>\n      <th>606061</th>\n      <td>0.455696</td>\n      <td>-0.934383</td>\n      <td>-0.865872</td>\n      <td>-0.758402</td>\n      <td>-0.691718</td>\n      <td>-0.588046</td>\n      <td>-0.446242</td>\n      <td>-0.325896</td>\n      <td>-0.191676</td>\n      <td>-0.125634</td>\n      <td>...</td>\n      <td>0.0</td>\n      <td>0.0</td>\n      <td>0.0</td>\n      <td>0.0</td>\n      <td>1.0</td>\n      <td>0.0</td>\n      <td>0.0</td>\n      <td>0.0</td>\n      <td>0.0</td>\n      <td>0</td>\n    </tr>\n    <tr>\n      <th>1214355</th>\n      <td>0.607595</td>\n      <td>-1.036971</td>\n      <td>-0.939973</td>\n      <td>-0.801748</td>\n      <td>-0.691718</td>\n      <td>-0.588046</td>\n      <td>-0.446242</td>\n      <td>-0.325896</td>\n      <td>-0.191676</td>\n      <td>-0.125634</td>\n      <td>...</td>\n      <td>0.0</td>\n      <td>0.0</td>\n      <td>0.0</td>\n      <td>0.0</td>\n      <td>0.0</td>\n      <td>0.0</td>\n      <td>0.0</td>\n      <td>0.0</td>\n      <td>1.0</td>\n      <td>0</td>\n    </tr>\n    <tr>\n      <th>682391</th>\n      <td>0.949367</td>\n      <td>-1.036971</td>\n      <td>-0.939973</td>\n      <td>-0.801748</td>\n      <td>-0.691718</td>\n      <td>-0.588046</td>\n      <td>-0.446242</td>\n      <td>-0.325896</td>\n      <td>-0.191676</td>\n      <td>-0.125634</td>\n      <td>...</td>\n      <td>0.0</td>\n      <td>1.0</td>\n      <td>0.0</td>\n      <td>0.0</td>\n      <td>0.0</td>\n      <td>0.0</td>\n      <td>0.0</td>\n      <td>0.0</td>\n      <td>0.0</td>\n      <td>0</td>\n    </tr>\n    <tr>\n      <th>...</th>\n      <td>...</td>\n      <td>...</td>\n      <td>...</td>\n      <td>...</td>\n      <td>...</td>\n      <td>...</td>\n      <td>...</td>\n      <td>...</td>\n      <td>...</td>\n      <td>...</td>\n      <td>...</td>\n      <td>...</td>\n      <td>...</td>\n      <td>...</td>\n      <td>...</td>\n      <td>...</td>\n      <td>...</td>\n      <td>...</td>\n      <td>...</td>\n      <td>...</td>\n      <td>...</td>\n    </tr>\n    <tr>\n      <th>1154183</th>\n      <td>0.063291</td>\n      <td>0.672826</td>\n      <td>0.801393</td>\n      <td>0.932070</td>\n      <td>1.039805</td>\n      <td>1.041018</td>\n      <td>0.515299</td>\n      <td>0.698355</td>\n      <td>1.558754</td>\n      <td>1.679483</td>\n      <td>...</td>\n      <td>0.0</td>\n      <td>0.0</td>\n      <td>0.0</td>\n      <td>1.0</td>\n      <td>0.0</td>\n      <td>0.0</td>\n      <td>0.0</td>\n      <td>0.0</td>\n      <td>0.0</td>\n      <td>6</td>\n    </tr>\n    <tr>\n      <th>95230</th>\n      <td>0.531646</td>\n      <td>1.254157</td>\n      <td>1.283047</td>\n      <td>1.062106</td>\n      <td>0.377752</td>\n      <td>-0.086795</td>\n      <td>-0.446242</td>\n      <td>-0.325896</td>\n      <td>-0.191676</td>\n      <td>-0.125634</td>\n      <td>...</td>\n      <td>0.0</td>\n      <td>0.0</td>\n      <td>1.0</td>\n      <td>0.0</td>\n      <td>0.0</td>\n      <td>0.0</td>\n      <td>0.0</td>\n      <td>0.0</td>\n      <td>0.0</td>\n      <td>5</td>\n    </tr>\n    <tr>\n      <th>474380</th>\n      <td>0.886076</td>\n      <td>-1.036971</td>\n      <td>-0.939973</td>\n      <td>-0.801748</td>\n      <td>-0.691718</td>\n      <td>-0.588046</td>\n      <td>-0.446242</td>\n      <td>-0.325896</td>\n      <td>-0.191676</td>\n      <td>-0.125634</td>\n      <td>...</td>\n      <td>0.0</td>\n      <td>0.0</td>\n      <td>1.0</td>\n      <td>0.0</td>\n      <td>0.0</td>\n      <td>0.0</td>\n      <td>0.0</td>\n      <td>0.0</td>\n      <td>0.0</td>\n      <td>0</td>\n    </tr>\n    <tr>\n      <th>1349211</th>\n      <td>0.696203</td>\n      <td>1.527725</td>\n      <td>1.727651</td>\n      <td>2.015706</td>\n      <td>2.160203</td>\n      <td>1.980863</td>\n      <td>1.380686</td>\n      <td>0.356938</td>\n      <td>-0.191676</td>\n      <td>-0.125634</td>\n      <td>...</td>\n      <td>0.0</td>\n      <td>1.0</td>\n      <td>0.0</td>\n      <td>0.0</td>\n      <td>0.0</td>\n      <td>0.0</td>\n      <td>0.0</td>\n      <td>0.0</td>\n      <td>0.0</td>\n      <td>0</td>\n    </tr>\n    <tr>\n      <th>783137</th>\n      <td>0.430380</td>\n      <td>0.433455</td>\n      <td>0.319739</td>\n      <td>0.238543</td>\n      <td>0.377752</td>\n      <td>0.414455</td>\n      <td>0.419145</td>\n      <td>0.356938</td>\n      <td>1.558754</td>\n      <td>3.484600</td>\n      <td>...</td>\n      <td>0.0</td>\n      <td>0.0</td>\n      <td>0.0</td>\n      <td>0.0</td>\n      <td>0.0</td>\n      <td>0.0</td>\n      <td>1.0</td>\n      <td>0.0</td>\n      <td>0.0</td>\n      <td>0</td>\n    </tr>\n  </tbody>\n</table>\n<p>1238671 rows × 58 columns</p>\n</div>"
     },
     "execution_count": 28,
     "metadata": {},
     "output_type": "execute_result"
    }
   ],
   "source": [
    "total_train"
   ],
   "metadata": {
    "collapsed": false,
    "ExecuteTime": {
     "end_time": "2024-06-26T13:42:00.925203900Z",
     "start_time": "2024-06-26T13:42:00.698550600Z"
    }
   },
   "id": "9223438cba3f9630",
   "execution_count": 28
  },
  {
   "cell_type": "code",
   "outputs": [
    {
     "data": {
      "text/plain": "      rainfall_train.v01  rainfall_train.v02  rainfall_train.v03  \\\n0               0.720797            1.094631            1.006799   \n1               0.388857            1.238083            1.269604   \n2               0.931466            2.402789            2.774061   \n3               0.767014            2.296962            2.643954   \n4               0.423824            0.206676            0.130970   \n...                  ...                 ...                 ...   \n9995            0.566948            0.625839            0.506530   \n9996            0.438238            1.492427            1.603440   \n9997            0.530467            0.976728            0.883655   \n9998            0.421100           -0.222172           -0.273170   \n9999            0.472210            0.219055            0.099425   \n\n      rainfall_train.v04  rainfall_train.v05  rainfall_train.v06  \\\n0               0.599714            0.065451           -0.316764   \n1               1.291004            1.241317            1.135418   \n2               3.505012            4.096755            4.220565   \n3               3.382947            4.135106            4.811861   \n4               0.026345           -0.055138           -0.116686   \n...                  ...                 ...                 ...   \n9995            0.220510           -0.066878           -0.256943   \n9996            1.811120            1.948959            2.000411   \n9997            0.606953            0.287753            0.029515   \n9998           -0.304282           -0.309172           -0.299650   \n9999           -0.088337           -0.227062           -0.297690   \n\n      rainfall_train.v07  rainfall_train.v08  rainfall_train.v09  cum_prob  \\\n0              -0.503865           -0.477086           -0.177306  0.013470   \n1               0.803420            0.388910            0.094945  0.072300   \n2               2.299418            0.180811           -0.160676 -0.129963   \n3               4.705983            2.918020            0.708234  0.174206   \n4              -0.186111           -0.234096           -0.185589 -0.094439   \n...                  ...                 ...                 ...       ...   \n9995           -0.339826           -0.313767           -0.168709 -0.069567   \n9996            1.930304            1.946808            1.483439  1.037907   \n9997           -0.125362           -0.120842           -0.215748 -0.239903   \n9998           -0.258575           -0.285467           -0.206865 -0.096960   \n9999           -0.291239           -0.190647           -0.215859 -0.228294   \n\n      ...  rainfall_train.ef_hour_0  rainfall_train.ef_hour_3  \\\n0     ...                       0.0                       0.0   \n1     ...                       0.0                       0.0   \n2     ...                       0.0                       0.0   \n3     ...                       0.0                       0.0   \n4     ...                       0.0                       1.0   \n...   ...                       ...                       ...   \n9995  ...                       0.0                       0.0   \n9996  ...                       0.0                       0.0   \n9997  ...                       0.0                       0.0   \n9998  ...                       0.0                       0.0   \n9999  ...                       0.0                       0.0   \n\n      rainfall_train.ef_hour_6  rainfall_train.ef_hour_9  \\\n0                          1.0                       0.0   \n1                          1.0                       0.0   \n2                          0.0                       0.0   \n3                          1.0                       0.0   \n4                          0.0                       0.0   \n...                        ...                       ...   \n9995                       0.0                       0.0   \n9996                       0.0                       0.0   \n9997                       0.0                       0.0   \n9998                       1.0                       0.0   \n9999                       0.0                       0.0   \n\n      rainfall_train.ef_hour_12  rainfall_train.ef_hour_15  \\\n0                           0.0                        0.0   \n1                           0.0                        0.0   \n2                           0.0                        0.0   \n3                           0.0                        0.0   \n4                           0.0                        0.0   \n...                         ...                        ...   \n9995                        0.0                        0.0   \n9996                        0.0                        0.0   \n9997                        0.0                        0.0   \n9998                        0.0                        0.0   \n9999                        0.0                        0.0   \n\n      rainfall_train.ef_hour_18  rainfall_train.ef_hour_21    0  \\\n0                           0.0                        0.0  0.0   \n1                           0.0                        0.0  0.0   \n2                           0.0                        0.0  0.0   \n3                           0.0                        0.0  0.0   \n4                           0.0                        0.0  0.0   \n...                         ...                        ...  ...   \n9995                        0.0                        0.0  0.0   \n9996                        0.0                        0.0  0.0   \n9997                        0.0                        0.0  0.0   \n9998                        0.0                        0.0  0.0   \n9999                        1.0                        0.0  0.0   \n\n      rainfall_train.class_interval  \n0                               2.0  \n1                               5.0  \n2                               5.0  \n3                               6.0  \n4                               7.0  \n...                             ...  \n9995                            2.0  \n9996                            5.0  \n9997                            5.0  \n9998                            5.0  \n9999                            2.0  \n\n[10000 rows x 58 columns]",
      "text/html": "<div>\n<style scoped>\n    .dataframe tbody tr th:only-of-type {\n        vertical-align: middle;\n    }\n\n    .dataframe tbody tr th {\n        vertical-align: top;\n    }\n\n    .dataframe thead th {\n        text-align: right;\n    }\n</style>\n<table border=\"1\" class=\"dataframe\">\n  <thead>\n    <tr style=\"text-align: right;\">\n      <th></th>\n      <th>rainfall_train.v01</th>\n      <th>rainfall_train.v02</th>\n      <th>rainfall_train.v03</th>\n      <th>rainfall_train.v04</th>\n      <th>rainfall_train.v05</th>\n      <th>rainfall_train.v06</th>\n      <th>rainfall_train.v07</th>\n      <th>rainfall_train.v08</th>\n      <th>rainfall_train.v09</th>\n      <th>cum_prob</th>\n      <th>...</th>\n      <th>rainfall_train.ef_hour_0</th>\n      <th>rainfall_train.ef_hour_3</th>\n      <th>rainfall_train.ef_hour_6</th>\n      <th>rainfall_train.ef_hour_9</th>\n      <th>rainfall_train.ef_hour_12</th>\n      <th>rainfall_train.ef_hour_15</th>\n      <th>rainfall_train.ef_hour_18</th>\n      <th>rainfall_train.ef_hour_21</th>\n      <th>0</th>\n      <th>rainfall_train.class_interval</th>\n    </tr>\n  </thead>\n  <tbody>\n    <tr>\n      <th>0</th>\n      <td>0.720797</td>\n      <td>1.094631</td>\n      <td>1.006799</td>\n      <td>0.599714</td>\n      <td>0.065451</td>\n      <td>-0.316764</td>\n      <td>-0.503865</td>\n      <td>-0.477086</td>\n      <td>-0.177306</td>\n      <td>0.013470</td>\n      <td>...</td>\n      <td>0.0</td>\n      <td>0.0</td>\n      <td>1.0</td>\n      <td>0.0</td>\n      <td>0.0</td>\n      <td>0.0</td>\n      <td>0.0</td>\n      <td>0.0</td>\n      <td>0.0</td>\n      <td>2.0</td>\n    </tr>\n    <tr>\n      <th>1</th>\n      <td>0.388857</td>\n      <td>1.238083</td>\n      <td>1.269604</td>\n      <td>1.291004</td>\n      <td>1.241317</td>\n      <td>1.135418</td>\n      <td>0.803420</td>\n      <td>0.388910</td>\n      <td>0.094945</td>\n      <td>0.072300</td>\n      <td>...</td>\n      <td>0.0</td>\n      <td>0.0</td>\n      <td>1.0</td>\n      <td>0.0</td>\n      <td>0.0</td>\n      <td>0.0</td>\n      <td>0.0</td>\n      <td>0.0</td>\n      <td>0.0</td>\n      <td>5.0</td>\n    </tr>\n    <tr>\n      <th>2</th>\n      <td>0.931466</td>\n      <td>2.402789</td>\n      <td>2.774061</td>\n      <td>3.505012</td>\n      <td>4.096755</td>\n      <td>4.220565</td>\n      <td>2.299418</td>\n      <td>0.180811</td>\n      <td>-0.160676</td>\n      <td>-0.129963</td>\n      <td>...</td>\n      <td>0.0</td>\n      <td>0.0</td>\n      <td>0.0</td>\n      <td>0.0</td>\n      <td>0.0</td>\n      <td>0.0</td>\n      <td>0.0</td>\n      <td>0.0</td>\n      <td>0.0</td>\n      <td>5.0</td>\n    </tr>\n    <tr>\n      <th>3</th>\n      <td>0.767014</td>\n      <td>2.296962</td>\n      <td>2.643954</td>\n      <td>3.382947</td>\n      <td>4.135106</td>\n      <td>4.811861</td>\n      <td>4.705983</td>\n      <td>2.918020</td>\n      <td>0.708234</td>\n      <td>0.174206</td>\n      <td>...</td>\n      <td>0.0</td>\n      <td>0.0</td>\n      <td>1.0</td>\n      <td>0.0</td>\n      <td>0.0</td>\n      <td>0.0</td>\n      <td>0.0</td>\n      <td>0.0</td>\n      <td>0.0</td>\n      <td>6.0</td>\n    </tr>\n    <tr>\n      <th>4</th>\n      <td>0.423824</td>\n      <td>0.206676</td>\n      <td>0.130970</td>\n      <td>0.026345</td>\n      <td>-0.055138</td>\n      <td>-0.116686</td>\n      <td>-0.186111</td>\n      <td>-0.234096</td>\n      <td>-0.185589</td>\n      <td>-0.094439</td>\n      <td>...</td>\n      <td>0.0</td>\n      <td>1.0</td>\n      <td>0.0</td>\n      <td>0.0</td>\n      <td>0.0</td>\n      <td>0.0</td>\n      <td>0.0</td>\n      <td>0.0</td>\n      <td>0.0</td>\n      <td>7.0</td>\n    </tr>\n    <tr>\n      <th>...</th>\n      <td>...</td>\n      <td>...</td>\n      <td>...</td>\n      <td>...</td>\n      <td>...</td>\n      <td>...</td>\n      <td>...</td>\n      <td>...</td>\n      <td>...</td>\n      <td>...</td>\n      <td>...</td>\n      <td>...</td>\n      <td>...</td>\n      <td>...</td>\n      <td>...</td>\n      <td>...</td>\n      <td>...</td>\n      <td>...</td>\n      <td>...</td>\n      <td>...</td>\n      <td>...</td>\n    </tr>\n    <tr>\n      <th>9995</th>\n      <td>0.566948</td>\n      <td>0.625839</td>\n      <td>0.506530</td>\n      <td>0.220510</td>\n      <td>-0.066878</td>\n      <td>-0.256943</td>\n      <td>-0.339826</td>\n      <td>-0.313767</td>\n      <td>-0.168709</td>\n      <td>-0.069567</td>\n      <td>...</td>\n      <td>0.0</td>\n      <td>0.0</td>\n      <td>0.0</td>\n      <td>0.0</td>\n      <td>0.0</td>\n      <td>0.0</td>\n      <td>0.0</td>\n      <td>0.0</td>\n      <td>0.0</td>\n      <td>2.0</td>\n    </tr>\n    <tr>\n      <th>9996</th>\n      <td>0.438238</td>\n      <td>1.492427</td>\n      <td>1.603440</td>\n      <td>1.811120</td>\n      <td>1.948959</td>\n      <td>2.000411</td>\n      <td>1.930304</td>\n      <td>1.946808</td>\n      <td>1.483439</td>\n      <td>1.037907</td>\n      <td>...</td>\n      <td>0.0</td>\n      <td>0.0</td>\n      <td>0.0</td>\n      <td>0.0</td>\n      <td>0.0</td>\n      <td>0.0</td>\n      <td>0.0</td>\n      <td>0.0</td>\n      <td>0.0</td>\n      <td>5.0</td>\n    </tr>\n    <tr>\n      <th>9997</th>\n      <td>0.530467</td>\n      <td>0.976728</td>\n      <td>0.883655</td>\n      <td>0.606953</td>\n      <td>0.287753</td>\n      <td>0.029515</td>\n      <td>-0.125362</td>\n      <td>-0.120842</td>\n      <td>-0.215748</td>\n      <td>-0.239903</td>\n      <td>...</td>\n      <td>0.0</td>\n      <td>0.0</td>\n      <td>0.0</td>\n      <td>0.0</td>\n      <td>0.0</td>\n      <td>0.0</td>\n      <td>0.0</td>\n      <td>0.0</td>\n      <td>0.0</td>\n      <td>5.0</td>\n    </tr>\n    <tr>\n      <th>9998</th>\n      <td>0.421100</td>\n      <td>-0.222172</td>\n      <td>-0.273170</td>\n      <td>-0.304282</td>\n      <td>-0.309172</td>\n      <td>-0.299650</td>\n      <td>-0.258575</td>\n      <td>-0.285467</td>\n      <td>-0.206865</td>\n      <td>-0.096960</td>\n      <td>...</td>\n      <td>0.0</td>\n      <td>0.0</td>\n      <td>1.0</td>\n      <td>0.0</td>\n      <td>0.0</td>\n      <td>0.0</td>\n      <td>0.0</td>\n      <td>0.0</td>\n      <td>0.0</td>\n      <td>5.0</td>\n    </tr>\n    <tr>\n      <th>9999</th>\n      <td>0.472210</td>\n      <td>0.219055</td>\n      <td>0.099425</td>\n      <td>-0.088337</td>\n      <td>-0.227062</td>\n      <td>-0.297690</td>\n      <td>-0.291239</td>\n      <td>-0.190647</td>\n      <td>-0.215859</td>\n      <td>-0.228294</td>\n      <td>...</td>\n      <td>0.0</td>\n      <td>0.0</td>\n      <td>0.0</td>\n      <td>0.0</td>\n      <td>0.0</td>\n      <td>0.0</td>\n      <td>1.0</td>\n      <td>0.0</td>\n      <td>0.0</td>\n      <td>2.0</td>\n    </tr>\n  </tbody>\n</table>\n<p>10000 rows × 58 columns</p>\n</div>"
     },
     "execution_count": 27,
     "metadata": {},
     "output_type": "execute_result"
    }
   ],
   "source": [
    "syn_df"
   ],
   "metadata": {
    "collapsed": false,
    "ExecuteTime": {
     "end_time": "2024-06-26T13:41:38.897049400Z",
     "start_time": "2024-06-26T13:41:38.863302500Z"
    }
   },
   "id": "c31f263e2aff6ecb",
   "execution_count": 27
  },
  {
   "cell_type": "markdown",
   "source": [
    "# 지역별 분리"
   ],
   "metadata": {
    "collapsed": false
   },
   "id": "5dc96be36fd17aa9"
  },
  {
   "cell_type": "code",
   "outputs": [],
   "source": [
    "# X_train_norm_dict = {}\n",
    "# y_train_norm_dict = {}\n",
    "# \n",
    "# for i, STN in enumerate(df['rainfall_train.stn4contest'].unique().tolist()):\n",
    "#     train_mask = (X_train_norm['rainfall_train.stn4contest'] == STN)\n",
    "#     X_train_norm_dict[STN] = X_train_norm[train_mask]\n",
    "#     y_train_norm_dict[STN] = pd.DataFrame(y_train_norm)[train_mask]\n",
    "# \n",
    "# for i, (key, value) in enumerate(X_train_norm_dict.items()):\n",
    "#     X_train_norm_dict[key] = value.iloc[:, 1:]\n",
    "# \n",
    "# X_val_norm = X_val_norm.iloc[:, 1:]\n",
    "# X2 = X2.iloc[:, 1:]"
   ],
   "metadata": {
    "collapsed": false,
    "ExecuteTime": {
     "end_time": "2024-06-26T13:27:24.134067100Z",
     "start_time": "2024-06-26T13:27:24.130561800Z"
    }
   },
   "id": "dc163c82d5dc09fc",
   "execution_count": 94
  },
  {
   "cell_type": "markdown",
   "source": [
    "# GMM분리"
   ],
   "metadata": {
    "collapsed": false
   },
   "id": "5e03401e4847e15c"
  },
  {
   "cell_type": "code",
   "outputs": [],
   "source": [
    "X_train_norm = X_train_norm.iloc[:, 1:]\n",
    "X_val_norm = X_val_norm.iloc[:, 1:]\n",
    "X2 = X2.iloc[:, 1:]\n",
    "\n",
    "GMM = joblib.load('Database/gmm_model.pkl')\n",
    "X_train_norm = pd.concat([X_train_norm, pd.DataFrame(GMM.predict(X_train_norm), index=X_train_norm.index)], axis=1)\n",
    "\n",
    "X_train_norm_dict = {}\n",
    "y_train_norm_dict = {}\n",
    "\n",
    "for i, cluster_num in enumerate(X_train_norm[0].unique().tolist()):\n",
    "    train_mask = (X_train_norm[0] == cluster_num)\n",
    "    X_train_norm_dict[cluster_num] = X_train_norm[train_mask]\n",
    "    y_train_norm_dict[cluster_num] = pd.DataFrame(y_train)[train_mask]\n",
    "    X_train_norm_dict[cluster_num] = X_train_norm_dict[cluster_num].drop(columns=0)"
   ],
   "metadata": {
    "collapsed": false,
    "ExecuteTime": {
     "end_time": "2024-06-26T13:36:56.452356500Z",
     "start_time": "2024-06-26T13:36:41.915453600Z"
    }
   },
   "id": "c34a82bc7f1a9118",
   "execution_count": 21
  },
  {
   "cell_type": "code",
   "outputs": [
    {
     "name": "stdout",
     "output_type": "stream",
     "text": [
      "10 Train set\n",
      "(123072, 57)\n",
      "(123072, 1)\n",
      "4 Train set\n",
      "(97820, 57)\n",
      "(97820, 1)\n",
      "1 Train set\n",
      "(90284, 57)\n",
      "(90284, 1)\n",
      "6 Train set\n",
      "(125411, 57)\n",
      "(125411, 1)\n",
      "8 Train set\n",
      "(150807, 57)\n",
      "(150807, 1)\n",
      "9 Train set\n",
      "(115253, 57)\n",
      "(115253, 1)\n",
      "5 Train set\n",
      "(20187, 57)\n",
      "(20187, 1)\n",
      "3 Train set\n",
      "(54302, 57)\n",
      "(54302, 1)\n",
      "7 Train set\n",
      "(18608, 57)\n",
      "(18608, 1)\n",
      "14 Train set\n",
      "(74820, 57)\n",
      "(74820, 1)\n",
      "12 Train set\n",
      "(93290, 57)\n",
      "(93290, 1)\n",
      "0 Train set\n",
      "(175835, 57)\n",
      "(175835, 1)\n",
      "13 Train set\n",
      "(80389, 57)\n",
      "(80389, 1)\n",
      "2 Train set\n",
      "(5023, 57)\n",
      "(5023, 1)\n",
      "11 Train set\n",
      "(13570, 57)\n",
      "(13570, 1)\n",
      "Validation set\n",
      "(65194, 57)\n",
      "(65194,)\n",
      "Test set\n",
      "(144897, 57)\n",
      "(144897,)\n"
     ]
    }
   ],
   "source": [
    "for i, (key, value) in enumerate(X_train_norm_dict.items()):\n",
    "    print(f'{key} Train set')\n",
    "    print(value.shape)\n",
    "    print(y_train_norm_dict[key].shape)\n",
    "\n",
    "print('Validation set')\n",
    "print(X_val_norm.shape)\n",
    "print(y_val.shape)\n",
    "\n",
    "print('Test set')\n",
    "print(X2.shape)\n",
    "\n",
    "if self_test:\n",
    "    print(y2.shape)"
   ],
   "metadata": {
    "collapsed": false,
    "ExecuteTime": {
     "end_time": "2024-06-26T13:36:58.960110100Z",
     "start_time": "2024-06-26T13:36:58.954964600Z"
    }
   },
   "id": "69a7a767f0ae4c0a",
   "execution_count": 22
  },
  {
   "cell_type": "markdown",
   "source": [
    "# 전처리 파일저장"
   ],
   "metadata": {
    "collapsed": false
   },
   "id": "bde16628edcfe83a"
  },
  {
   "cell_type": "code",
   "outputs": [
    {
     "name": "stdout",
     "output_type": "stream",
     "text": [
      "GMM10 Train set saved!\n",
      "GMM4 Train set saved!\n",
      "GMM1 Train set saved!\n",
      "GMM6 Train set saved!\n",
      "GMM8 Train set saved!\n",
      "GMM9 Train set saved!\n",
      "GMM5 Train set saved!\n",
      "GMM3 Train set saved!\n",
      "GMM7 Train set saved!\n",
      "GMM14 Train set saved!\n",
      "GMM12 Train set saved!\n",
      "GMM0 Train set saved!\n",
      "GMM13 Train set saved!\n",
      "GMM2 Train set saved!\n",
      "GMM11 Train set saved!\n",
      "Validation set saved!\n",
      "Test set saved!\n"
     ]
    }
   ],
   "source": [
    "for i, (key, value) in enumerate(X_train_norm_dict.items()):\n",
    "    value.to_csv(f'Database/train/GMM{key}_X_train_norm.csv')\n",
    "    y_train_norm_dict[key].to_csv(f'Database/train/GMM{key}_y_train.csv')\n",
    "    print(f'GMM{key} Train set saved!')\n",
    "\n",
    "X_val_norm.to_csv(f'Database/val/X_val_norm.csv')\n",
    "y_val.to_csv(f'Database/val/y_val.csv')\n",
    "print('Validation set saved!')\n",
    "\n",
    "if self_test:\n",
    "    X2.to_csv(f'Database/test/X_self_test_norm.csv')\n",
    "    y2.to_csv(f'Database/test/y_self_test.csv')\n",
    "\n",
    "if not self_test:\n",
    "    X2.to_csv(f'Database/test/X_real_test_norm.csv')\n",
    "print('Test set saved!')"
   ],
   "metadata": {
    "collapsed": false,
    "ExecuteTime": {
     "end_time": "2024-06-26T13:38:12.574594100Z",
     "start_time": "2024-06-26T13:37:15.427508600Z"
    }
   },
   "id": "96d62eb21b81b0ed",
   "execution_count": 23
  }
 ],
 "metadata": {
  "kernelspec": {
   "name": "python3",
   "language": "python",
   "display_name": "Python 3 (ipykernel)"
  },
  "language_info": {
   "codemirror_mode": {
    "name": "ipython",
    "version": 2
   },
   "file_extension": ".py",
   "mimetype": "text/x-python",
   "name": "python",
   "nbconvert_exporter": "python",
   "pygments_lexer": "ipython2",
   "version": "2.7.6"
  }
 },
 "nbformat": 4,
 "nbformat_minor": 5
}
